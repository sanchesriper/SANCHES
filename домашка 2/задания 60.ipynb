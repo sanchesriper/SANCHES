{
 "cells": [
  {
   "cell_type": "code",
   "execution_count": 3,
   "metadata": {},
   "outputs": [],
   "source": [
    "import numpy as np"
   ]
  },
  {
   "cell_type": "code",
   "execution_count": 55,
   "metadata": {},
   "outputs": [
    {
     "name": "stdout",
     "output_type": "stream",
     "text": [
      "G = 64.9339660728022\n"
     ]
    }
   ],
   "source": [
    "#Задание 1\n",
    "f = float(input('Введите значение для перемнной f'))\n",
    "y = float(input('Введите значение для перемнной y'))\n",
    "\n",
    "print(f'G = {np.e * 2 * y + np.sin(f) / np.log10(3.8 * y + f)}')"
   ]
  },
  {
   "cell_type": "code",
   "execution_count": 56,
   "metadata": {},
   "outputs": [],
   "source": [
    "class MyClassTask1:\n",
    "    def __init__(self, f, y):\n",
    "        self.f = f\n",
    "        self.y = y\n",
    "    def calculate_G(self):\n",
    "        print(f'G = {np.e * 2 * y + np.sin(f) / np.log10(3.8 * y + f)}')"
   ]
  },
  {
   "cell_type": "code",
   "execution_count": 57,
   "metadata": {},
   "outputs": [
    {
     "name": "stdout",
     "output_type": "stream",
     "text": [
      "G = 64.9339660728022\n"
     ]
    }
   ],
   "source": [
    "f = float(input('Введите значение для перемнной f'))\n",
    "y = float(input('Введите значение для перемнной y'))\n",
    "\n",
    "my_class = MyClassTask1(f,y)\n",
    "my_class.calculate_G()"
   ]
  },
  {
   "cell_type": "code",
   "execution_count": 58,
   "metadata": {},
   "outputs": [
    {
     "name": "stdout",
     "output_type": "stream",
     "text": [
      "F = 508.8424019117012\n"
     ]
    }
   ],
   "source": [
    "#Задание 2\n",
    "d = float(input('Введите значение для перемнной d'))\n",
    "y = float(input('Введите значение для перемнной y'))\n",
    "\n",
    "print(f'F = {np.log(d) + 3.5 * np.power(d, 2) + 1 / np.cos(2 * y)}')"
   ]
  },
  {
   "cell_type": "code",
   "execution_count": 59,
   "metadata": {},
   "outputs": [],
   "source": [
    "class MyClassTask1:\n",
    "    def __init__(self, d, y):\n",
    "        self.d = d\n",
    "        self.y = y\n",
    "    def calculate_G(self):\n",
    "        print(f'F = {np.log(d) + 3.5 * np.power(d, 2) + 1 / np.cos(2 * y)}')"
   ]
  },
  {
   "cell_type": "code",
   "execution_count": 60,
   "metadata": {},
   "outputs": [
    {
     "name": "stdout",
     "output_type": "stream",
     "text": [
      "F = 508.8424019117012\n"
     ]
    }
   ],
   "source": [
    "d = float(input('Введите значение для перемнной d'))\n",
    "y = float(input('Введите значение для перемнной y'))\n",
    "\n",
    "my_class = MyClassTask1(d,y)\n",
    "my_class.calculate_G()"
   ]
  },
  {
   "cell_type": "code",
   "execution_count": 19,
   "metadata": {},
   "outputs": [
    {
     "name": "stdout",
     "output_type": "stream",
     "text": [
      "U = 13172052.61609909\n"
     ]
    }
   ],
   "source": [
    "#Задание 3\n",
    "k = float(input('Введите значение для перемнной k'))\n",
    "y = float(input('Введите значение для перемнной y'))\n",
    "\n",
    "print(f'U = {np.log(k - y) + (y ** 4) / (np.exp(y)) + 2.355 * (k ** 2)}')"
   ]
  },
  {
   "cell_type": "code",
   "execution_count": 17,
   "metadata": {},
   "outputs": [],
   "source": [
    "class MyClassTask1:\n",
    "    def __init__(self, k, y):\n",
    "        self.k = k\n",
    "        self.y = y\n",
    "    def calculate_U(self):\n",
    "        print(f'U = {np.log(k - y) + (y ** 4) / (np.exp(y)) + 2.355 * (k ** 2)}')"
   ]
  },
  {
   "cell_type": "code",
   "execution_count": 11,
   "metadata": {},
   "outputs": [
    {
     "name": "stdout",
     "output_type": "stream",
     "text": [
      "U = 36210.48\n"
     ]
    }
   ],
   "source": [
    "k = float(input('Введите значение для перемнной k'))\n",
    "y = float(input('Введите значение для перемнной y'))\n",
    "\n",
    "my_class = MyClassTask1(k,y)\n",
    "my_class.calculate_U()"
   ]
  },
  {
   "cell_type": "code",
   "execution_count": 64,
   "metadata": {},
   "outputs": [
    {
     "name": "stdout",
     "output_type": "stream",
     "text": [
      "G = 16126.967984798725\n"
     ]
    }
   ],
   "source": [
    "#Задание 4\n",
    "f = float(input('Введите значение для перемнной f'))\n",
    "w = float(input('Введите значение для перемнной w'))\n",
    "y = float(input('Введите значение для перемнной y'))\n",
    "\n",
    "print(f'G = {9.33 * w**3 + (np.sqrt(w) / np.log(y + 3.5)) + np.sqrt(y)}')"
   ]
  },
  {
   "cell_type": "code",
   "execution_count": 8,
   "metadata": {},
   "outputs": [],
   "source": [
    "class MyClassTask1:\n",
    "    def __init__(self, f, w, y):\n",
    "        self.f = f\n",
    "        self.w = w\n",
    "        self.y = y\n",
    "    def calculate_G(self):\n",
    "        print(f'G = {9.33 * w**3 + (np.sqrt(w) / np.log(y + 3.5)) + np.sqrt(y)}')"
   ]
  },
  {
   "cell_type": "code",
   "execution_count": 9,
   "metadata": {},
   "outputs": [
    {
     "name": "stdout",
     "output_type": "stream",
     "text": [
      "G = 16126.967984798725\n"
     ]
    }
   ],
   "source": [
    "f = float(input('Введите значение для перемнной f'))\n",
    "w = float(input('Введите значение для перемнной w'))\n",
    "y = float(input('Введите значение для перемнной y'))\n",
    "\n",
    "\n",
    "my_class = MyClassTask1(f, w, y)\n",
    "my_class.calculate_G()"
   ]
  },
  {
   "cell_type": "code",
   "execution_count": 67,
   "metadata": {},
   "outputs": [
    {
     "name": "stdout",
     "output_type": "stream",
     "text": [
      "D = 163889.77871543667\n"
     ]
    }
   ],
   "source": [
    "#Задание 5\n",
    "f = float(input('Введите значение для перемнной f'))\n",
    "y = float(input('Введите значение для перемнной y'))\n",
    "a = float(input('Введите значение для перемнной a'))\n",
    "\n",
    "print(f'D = {7.8 * a**2 + 3.52 * f / np.log(a + 2 * y) + np.exp(y)}')"
   ]
  },
  {
   "cell_type": "code",
   "execution_count": 68,
   "metadata": {},
   "outputs": [],
   "source": [
    "class MyClassTask1:\n",
    "    def __init__(self, f, y, a):\n",
    "        self.f = f\n",
    "        self.y = y\n",
    "        self.a = a\n",
    "    def calculate_G(self):\n",
    "        print(f'D = {7.8 * a**2 + 3.52 * f / np.log(a + 2 * y) + np.exp(y)}')"
   ]
  },
  {
   "cell_type": "code",
   "execution_count": 69,
   "metadata": {},
   "outputs": [
    {
     "name": "stdout",
     "output_type": "stream",
     "text": [
      "D = 163889.77871543667\n"
     ]
    }
   ],
   "source": [
    "f = float(input('Введите значение для перемнной f'))\n",
    "y = float(input('Введите значение для перемнной y'))\n",
    "a = float(input('Введите значение для перемнной a'))\n",
    "\n",
    "\n",
    "my_class = MyClassTask1(f, y, a)\n",
    "my_class.calculate_G()"
   ]
  },
  {
   "cell_type": "code",
   "execution_count": 70,
   "metadata": {},
   "outputs": [
    {
     "name": "stdout",
     "output_type": "stream",
     "text": [
      "L = 3456.2750693699627\n"
     ]
    }
   ],
   "source": [
    "#Задание 6\n",
    "y = float(input('Введите значение для перемнной y'))\n",
    "i = float(input('Введите значение для перемнной i'))\n",
    "\n",
    "print(f'L = {(0.81 * np.cos(i)) / np.log(y) + 2 * (i ** 3)}')"
   ]
  },
  {
   "cell_type": "code",
   "execution_count": 6,
   "metadata": {},
   "outputs": [],
   "source": [
    "class MyClassTask1:\n",
    "    def __init__(self, y, i):\n",
    "        self.y = y\n",
    "        self.i = i\n",
    "    def calculate_G(self):\n",
    "        print(f'L = {(0.81 * np.cos(i)) / np.log(y) + 2 * (i ** 3)}')"
   ]
  },
  {
   "cell_type": "code",
   "execution_count": 7,
   "metadata": {},
   "outputs": [
    {
     "name": "stdout",
     "output_type": "stream",
     "text": [
      "L = 3456.2750693699627\n"
     ]
    }
   ],
   "source": [
    "y = float(input('Введите значение для перемнной y'))\n",
    "i = float(input('Введите значение для перемнной i'))\n",
    "\n",
    "my_class = MyClassTask1(y, i)\n",
    "my_class.calculate_G()"
   ]
  },
  {
   "cell_type": "code",
   "execution_count": 73,
   "metadata": {},
   "outputs": [
    {
     "name": "stdout",
     "output_type": "stream",
     "text": [
      "N = 44.22144235521019\n"
     ]
    }
   ],
   "source": [
    "#Задание 7\n",
    "y = float(input('Введите значение для перемнной y'))\n",
    "m = float(input('Введите значение для перемнной m'))\n",
    "\n",
    "print(f'N = {(m**2 + 2.8 * m + 0.355) / (np.cos(2 * y) + 3.6)}')"
   ]
  },
  {
   "cell_type": "code",
   "execution_count": 74,
   "metadata": {},
   "outputs": [],
   "source": [
    "class MyClassTask1:\n",
    "    def __init__(self, y, m):\n",
    "        self.y = y\n",
    "        self.m = m\n",
    "    def calculate_G(self):\n",
    "        print(f'N = {(m**2 + 2.8 * m + 0.355) / (np.cos(2 * y) + 3.6)}')"
   ]
  },
  {
   "cell_type": "code",
   "execution_count": 75,
   "metadata": {},
   "outputs": [
    {
     "name": "stdout",
     "output_type": "stream",
     "text": [
      "N = 44.22144235521019\n"
     ]
    }
   ],
   "source": [
    "y = float(input('Введите значение для перемнной y'))\n",
    "m = float(input('Введите значение для перемнной m'))\n",
    "\n",
    "my_class = MyClassTask1(y, m)\n",
    "my_class.calculate_G()"
   ]
  },
  {
   "cell_type": "code",
   "execution_count": 76,
   "metadata": {},
   "outputs": [
    {
     "name": "stdout",
     "output_type": "stream",
     "text": [
      "T = 0.04135530407213161\n"
     ]
    }
   ],
   "source": [
    "#Задание 8\n",
    "y = float(input('Введите значение для перемнной y'))\n",
    "t = float(input('Введите значение для перемнной t'))\n",
    "\n",
    "print(f'T = {(2.37 * np.sin(t + 1)) / np.sqrt(4 * y**2 - 0.1 * y + 5)}')"
   ]
  },
  {
   "cell_type": "code",
   "execution_count": 77,
   "metadata": {},
   "outputs": [],
   "source": [
    "\n",
    "class MyClassTask1:\n",
    "    def __init__(self, y, t):\n",
    "        self.y = y\n",
    "        self.t = t\n",
    "    def calculate_G(self):\n",
    "        print(f'T = {(2.37 * np.sin(t + 1)) / np.sqrt(4 * y**2 - 0.1 * y + 5)}')"
   ]
  },
  {
   "cell_type": "code",
   "execution_count": 78,
   "metadata": {},
   "outputs": [
    {
     "name": "stdout",
     "output_type": "stream",
     "text": [
      "T = 0.04135530407213161\n"
     ]
    }
   ],
   "source": [
    "y = float(input('Введите значение для перемнной y'))\n",
    "t = float(input('Введите значение для перемнной t'))\n",
    "\n",
    "my_class = MyClassTask1(y, t)\n",
    "my_class.calculate_G()"
   ]
  },
  {
   "cell_type": "code",
   "execution_count": 79,
   "metadata": {},
   "outputs": [
    {
     "name": "stdout",
     "output_type": "stream",
     "text": [
      "V = 18328.590389146142\n"
     ]
    }
   ],
   "source": [
    "#Задание 9\n",
    "y = float(input('Введите значение для перемнной y'))\n",
    "w = float(input('Введите значение для перемнной w'))\n",
    "\n",
    "print(f'V = {np.power((y + 2 * w), 3) / np.log(y + 0.75)}')"
   ]
  },
  {
   "cell_type": "code",
   "execution_count": 80,
   "metadata": {},
   "outputs": [],
   "source": [
    "class MyClassTask1:\n",
    "    def __init__(self, y, w):\n",
    "        self.y = y\n",
    "        self.w = w\n",
    "    def calculate_V(self):\n",
    "        print(f'V = {np.power((y + 2 * w), 3) / np.log(y + 0.75)}')"
   ]
  },
  {
   "cell_type": "code",
   "execution_count": 81,
   "metadata": {},
   "outputs": [
    {
     "name": "stdout",
     "output_type": "stream",
     "text": [
      "V = 27920.9420764288\n"
     ]
    }
   ],
   "source": [
    "y = float(input('Введите значение для перемнной y'))\n",
    "w = float(input('Введите значение для перемнной w'))\n",
    "\n",
    "my_class = MyClassTask1(y, w)\n",
    "my_class.calculate_V()"
   ]
  },
  {
   "cell_type": "code",
   "execution_count": 82,
   "metadata": {},
   "outputs": [
    {
     "name": "stdout",
     "output_type": "stream",
     "text": [
      "R = 8.318280790151011\n"
     ]
    }
   ],
   "source": [
    "#Задание 10\n",
    "t = float(input('Введите значение для перемнной t'))\n",
    "y = float(input('Введите значение для перемнной y'))\n",
    "\n",
    "print(f'R = {(2 * t + y * np.cos(t)) / np.sqrt(y + 4.831)}')"
   ]
  },
  {
   "cell_type": "code",
   "execution_count": 83,
   "metadata": {},
   "outputs": [],
   "source": [
    "class MyClassTask1:\n",
    "    def __init__(self, t, y):\n",
    "        self.t = t\n",
    "        self.y = y\n",
    "    def calculate_V(self):\n",
    "        print(f'R = {(2 * t + y * np.cos(t)) / np.sqrt(y + 4.831)}')"
   ]
  },
  {
   "cell_type": "code",
   "execution_count": 84,
   "metadata": {},
   "outputs": [
    {
     "name": "stdout",
     "output_type": "stream",
     "text": [
      "R = 8.318280790151011\n"
     ]
    }
   ],
   "source": [
    "t = float(input('Введите значение для перемнной t'))\n",
    "y = float(input('Введите значение для перемнной y'))\n",
    "\n",
    "my_class = MyClassTask1(t, y)\n",
    "my_class.calculate_V()"
   ]
  },
  {
   "cell_type": "code",
   "execution_count": 85,
   "metadata": {},
   "outputs": [
    {
     "name": "stdout",
     "output_type": "stream",
     "text": [
      "D = 141.0543379306443\n"
     ]
    }
   ],
   "source": [
    "#Задание 11\n",
    "y = float(input('Введите значение для перемнной y'))\n",
    "n = float(input('Введите значение для перемнной n'))\n",
    "\n",
    "print(f'D = {np.power(y, 2) + 0.5 * n + 4.8 / np.sin(y)}')"
   ]
  },
  {
   "cell_type": "code",
   "execution_count": 86,
   "metadata": {},
   "outputs": [],
   "source": [
    "class MyClassTask1:\n",
    "    def __init__(self, y, n):\n",
    "        self.y = y\n",
    "        self.n = n\n",
    "    def calculate_V(self):\n",
    "        print(f'D = {np.power(y, 2) + 0.5 * n + 4.8 / np.sin(y)}')"
   ]
  },
  {
   "cell_type": "code",
   "execution_count": 87,
   "metadata": {},
   "outputs": [
    {
     "name": "stdout",
     "output_type": "stream",
     "text": [
      "D = 141.0543379306443\n"
     ]
    }
   ],
   "source": [
    "y = float(input('Введите значение для перемнной y'))\n",
    "n = float(input('Введите значение для перемнной n'))\n",
    "\n",
    "my_class = MyClassTask1(y, n)\n",
    "my_class.calculate_V()"
   ]
  },
  {
   "cell_type": "code",
   "execution_count": 88,
   "metadata": {},
   "outputs": [
    {
     "name": "stdout",
     "output_type": "stream",
     "text": [
      "R = 0.11191437988718082\n"
     ]
    }
   ],
   "source": [
    "#Задание 12\n",
    "t = float(input('Введите значение для перемнной t'))\n",
    "y = float(input('Введите значение для перемнной y'))\n",
    "\n",
    "print(f'R = {np.power(np.sin(2 * t + 1), 2) + 0.3/ np.log(t + y)}')"
   ]
  },
  {
   "cell_type": "code",
   "execution_count": 89,
   "metadata": {},
   "outputs": [],
   "source": [
    "class MyClassTask1:\n",
    "    def __init__(self, t, y):\n",
    "        self.t = t\n",
    "        self.y = y\n",
    "    def calculate_V(self):\n",
    "        print(f'R = {np.power(np.sin(2 * t + 1), 2) + 0.3/ np.log(t + y)}')"
   ]
  },
  {
   "cell_type": "code",
   "execution_count": 90,
   "metadata": {},
   "outputs": [
    {
     "name": "stdout",
     "output_type": "stream",
     "text": [
      "R = 0.11191437988718082\n"
     ]
    }
   ],
   "source": [
    "t = float(input('Введите значение для перемнной t'))\n",
    "y = float(input('Введите значение для перемнной y'))\n",
    "\n",
    "my_class = MyClassTask1(t, y)\n",
    "my_class.calculate_V()"
   ]
  },
  {
   "cell_type": "code",
   "execution_count": 91,
   "metadata": {},
   "outputs": [
    {
     "name": "stdout",
     "output_type": "stream",
     "text": [
      "A = 11.009105913135764\n"
     ]
    }
   ],
   "source": [
    "#Задание 13\n",
    "y = float(input('Введите значение для перемнной y'))\n",
    "h = float(input('Введите значение для перемнной h'))\n",
    "\n",
    "print(f'A = {np.sin(2 * y + h) + np.power(h, 2) / np.exp(h) + y}')"
   ]
  },
  {
   "cell_type": "code",
   "execution_count": 92,
   "metadata": {},
   "outputs": [],
   "source": [
    "class MyClassTask1:\n",
    "    def __init__(self, y, h):\n",
    "        self.y = y\n",
    "        self.h = h\n",
    "    def calculate_V(self):\n",
    "        print(f'A = {np.sin(2 * y + h) + np.power(h, 2) / np.exp(h) + y}')"
   ]
  },
  {
   "cell_type": "code",
   "execution_count": 93,
   "metadata": {},
   "outputs": [
    {
     "name": "stdout",
     "output_type": "stream",
     "text": [
      "A = 11.009105913135764\n"
     ]
    }
   ],
   "source": [
    "y = float(input('Введите значение для перемнной y'))\n",
    "h = float(input('Введите значение для перемнной h'))\n",
    "\n",
    "my_class = MyClassTask1(y, h)\n",
    "my_class.calculate_V()"
   ]
  },
  {
   "cell_type": "code",
   "execution_count": 94,
   "metadata": {},
   "outputs": [
    {
     "name": "stdout",
     "output_type": "stream",
     "text": [
      "P = 1991288.299762516\n"
     ]
    }
   ],
   "source": [
    "#Задание 14\n",
    "y = float(input('Введите значение для переменной y'))\n",
    "h = float(input('Введите значение для переменной h'))\n",
    "\n",
    "print(f'P = {np.exp(y + 2.5) + 7.1 * np.power(h, 3) / np.log(np.sqrt(y + 0.04 * h * y))}')"
   ]
  },
  {
   "cell_type": "code",
   "execution_count": 95,
   "metadata": {},
   "outputs": [],
   "source": [
    "class MyClassTask1:\n",
    "    def __init__(self, y, h):\n",
    "        self.y = y\n",
    "        self.h = h\n",
    "    def calculate_V(self):\n",
    "        print(f'P = {np.exp(y + 2.5) + 7.1 * np.power(h, 3) / np.log(np.sqrt(y + 0.04 * h * y))}')"
   ]
  },
  {
   "cell_type": "code",
   "execution_count": 96,
   "metadata": {},
   "outputs": [
    {
     "name": "stdout",
     "output_type": "stream",
     "text": [
      "P = 1991288.299762516\n"
     ]
    }
   ],
   "source": [
    "y = float(input('Введите значение для перемнной y'))\n",
    "h = float(input('Введите значение для перемнной h'))\n",
    "\n",
    "my_class = MyClassTask1(y, h)\n",
    "my_class.calculate_V()"
   ]
  },
  {
   "cell_type": "code",
   "execution_count": 5,
   "metadata": {},
   "outputs": [
    {
     "name": "stdout",
     "output_type": "stream",
     "text": [
      "F = -2.407545596785246\n"
     ]
    }
   ],
   "source": [
    "#Задание 15\n",
    "y = float(input('Введите значение для переменной y'))\n",
    "j = float(input('Введите значение для переменной j'))\n",
    "\n",
    "print(f'F = {2 * np.sin(0.354 * y + 1) / np.log(y + 2 * j) * y}')"
   ]
  },
  {
   "cell_type": "code",
   "execution_count": 98,
   "metadata": {},
   "outputs": [],
   "source": [
    "class MyClassTask1:\n",
    "    def __init__(self, y, h):\n",
    "        self.y = y\n",
    "        self.h = h\n",
    "    def calculate_V(self):\n",
    "       print(f'F = {2 * np.sin(0.354 * y + 1) / np.log(y + 2 * j) * y}')"
   ]
  },
  {
   "cell_type": "code",
   "execution_count": 99,
   "metadata": {},
   "outputs": [
    {
     "name": "stdout",
     "output_type": "stream",
     "text": [
      "F = -5.7594133181305445\n"
     ]
    }
   ],
   "source": [
    "y = float(input('Введите значение для перемнной y'))\n",
    "h = float(input('Введите значение для перемнной h'))\n",
    "\n",
    "my_class = MyClassTask1(y, h)\n",
    "my_class.calculate_V()"
   ]
  },
  {
   "cell_type": "code",
   "execution_count": 100,
   "metadata": {},
   "outputs": [
    {
     "name": "stdout",
     "output_type": "stream",
     "text": [
      "W = 6908.136690257066\n"
     ]
    }
   ],
   "source": [
    "#Задание 16\n",
    "t = float(input('Введите значение для переменной t'))\n",
    "r = float(input('Введите значение для переменной r'))\n",
    "\n",
    "print(f'W = {4 * np.power(t, 3) + np.log(r) / (np.exp(r) + r) + 7.2 * np.sin(r)}')"
   ]
  },
  {
   "cell_type": "code",
   "execution_count": 104,
   "metadata": {},
   "outputs": [],
   "source": [
    "class MyClassTask1:\n",
    "    def __init__(self, t, r):\n",
    "        self.t = t\n",
    "        self.r = r\n",
    "    def calculate_V(self):\n",
    "       print(f'W = {4 * np.power(t, 3) + np.log(r) / (np.exp(r) + r) + 7.2 * np.sin(r)}')"
   ]
  },
  {
   "cell_type": "code",
   "execution_count": 105,
   "metadata": {},
   "outputs": [
    {
     "name": "stdout",
     "output_type": "stream",
     "text": [
      "W = 6908.136690257066\n"
     ]
    }
   ],
   "source": [
    "t = float(input('Введите значение для перемнной t'))\n",
    "r = float(input('Введите значение для перемнной r'))\n",
    "\n",
    "my_class = MyClassTask1(t, r)\n",
    "my_class.calculate_V()"
   ]
  },
  {
   "cell_type": "code",
   "execution_count": 106,
   "metadata": {},
   "outputs": [
    {
     "name": "stdout",
     "output_type": "stream",
     "text": [
      "H = 134.40104113247097\n"
     ]
    }
   ],
   "source": [
    "#Задание 17\n",
    "y = float(input('Введите значение для переменной y'))\n",
    "n = float(input('Введите значение для переменной n'))\n",
    "\n",
    "print(f'H = {np.power(y, 2) - 0.8 * y + np.sqrt(y) / (23.1 * np.power(n, 2) + np.cos(n))}')"
   ]
  },
  {
   "cell_type": "code",
   "execution_count": 107,
   "metadata": {},
   "outputs": [],
   "source": [
    "class MyClassTask1:\n",
    "    def __init__(self, y, n):\n",
    "        self.y = y\n",
    "        self.n = n\n",
    "    def calculate_V(self):\n",
    "       print(f'H = {np.power(y, 2) - 0.8 * y + np.sqrt(y) / (23.1 * np.power(n, 2) + np.cos(n))}')"
   ]
  },
  {
   "cell_type": "code",
   "execution_count": 108,
   "metadata": {},
   "outputs": [
    {
     "name": "stdout",
     "output_type": "stream",
     "text": [
      "H = 134.40104113247097\n"
     ]
    }
   ],
   "source": [
    "y = float(input('Введите значение для перемнной y'))\n",
    "n = float(input('Введите значение для перемнной n'))\n",
    "\n",
    "my_class = MyClassTask1(y, n)\n",
    "my_class.calculate_V()"
   ]
  },
  {
   "cell_type": "code",
   "execution_count": 109,
   "metadata": {},
   "outputs": [
    {
     "name": "stdout",
     "output_type": "stream",
     "text": [
      "R = 432.8397838038249\n"
     ]
    }
   ],
   "source": [
    "#Задание 18\n",
    "y = float(input('Введите значение для переменной y'))\n",
    "k = float(input('Введите значение для переменной k'))\n",
    "\n",
    "print(f'R = {np.sqrt(np.power(np.sin(y), 2) + 6.835) / np.log(y + k) + 3 * np.power(y, 2)}')"
   ]
  },
  {
   "cell_type": "code",
   "execution_count": 110,
   "metadata": {},
   "outputs": [],
   "source": [
    "class MyClassTask1:\n",
    "    def __init__(self, y, k):\n",
    "        self.y = y\n",
    "        self.k = k\n",
    "    def calculate_V(self):\n",
    "       print(f'R = {np.sqrt(np.power(np.sin(y), 2) + 6.835) / np.log(y + k) + 3 * np.power(y, 2)}')"
   ]
  },
  {
   "cell_type": "code",
   "execution_count": 111,
   "metadata": {},
   "outputs": [
    {
     "name": "stdout",
     "output_type": "stream",
     "text": [
      "R = 432.8397838038249\n"
     ]
    }
   ],
   "source": [
    "y = float(input('Введите значение для перемнной y'))\n",
    "k = float(input('Введите значение для перемнной k'))\n",
    "\n",
    "my_class = MyClassTask1(y, k)\n",
    "my_class.calculate_V()"
   ]
  },
  {
   "cell_type": "code",
   "execution_count": 112,
   "metadata": {},
   "outputs": [
    {
     "name": "stdout",
     "output_type": "stream",
     "text": [
      "E = 0.1654391250710042\n"
     ]
    }
   ],
   "source": [
    "#Задание 19\n",
    "y = float(input('Введите значение для переменной y'))\n",
    "q = float(input('Введите значение для переменной q'))\n",
    "\n",
    "print(f'E = {np.log(0.7 * y + 2 * q) / np.sqrt(3 * np.power(y, 2) + 0.5 * y + 4)}')"
   ]
  },
  {
   "cell_type": "code",
   "execution_count": 113,
   "metadata": {},
   "outputs": [],
   "source": [
    "class MyClassTask1:\n",
    "    def __init__(self, y, q):\n",
    "        self.y = y\n",
    "        self.q = q\n",
    "    def calculate_V(self):\n",
    "       print(f'E = {np.log(0.7 * y + 2 * q) / np.sqrt(3 * np.power(y, 2) + 0.5 * y + 4)}')"
   ]
  },
  {
   "cell_type": "code",
   "execution_count": 114,
   "metadata": {},
   "outputs": [
    {
     "name": "stdout",
     "output_type": "stream",
     "text": [
      "E = 0.1654391250710042\n"
     ]
    }
   ],
   "source": [
    "y = float(input('Введите значение для перемнной y'))\n",
    "q = float(input('Введите значение для перемнной q'))\n",
    "\n",
    "my_class = MyClassTask1(y, q)\n",
    "my_class.calculate_V()"
   ]
  },
  {
   "cell_type": "code",
   "execution_count": 115,
   "metadata": {},
   "outputs": [
    {
     "name": "stdout",
     "output_type": "stream",
     "text": [
      "K = 324.0000000002718\n"
     ]
    }
   ],
   "source": [
    "#Задание 20\n",
    "t = float(input('Введите значение для переменной t'))\n",
    "l = float(input('Введите значение для переменной l'))\n",
    "y = float(input('Введите значение для переменной y'))\n",
    "\n",
    "print(f'K = {2 * np.power(t, 2) + 3 * l + 7.2 / (np.log(y) + np.exp(2 * t))}')"
   ]
  },
  {
   "cell_type": "code",
   "execution_count": 118,
   "metadata": {},
   "outputs": [],
   "source": [
    "class MyClassTask1:\n",
    "    def __init__(self, t, l, y):\n",
    "        self.t = t\n",
    "        self.l = l\n",
    "        self.y = y\n",
    "    def calculate_V(self):\n",
    "       print(f'K = {2 * np.power(t, 2) + 3 * l + 7.2 / (np.log(y) + np.exp(2 * t))}')"
   ]
  },
  {
   "cell_type": "code",
   "execution_count": 119,
   "metadata": {},
   "outputs": [
    {
     "name": "stdout",
     "output_type": "stream",
     "text": [
      "K = 324.0000000002718\n"
     ]
    }
   ],
   "source": [
    "t = float(input('Введите значение для перемнной t'))\n",
    "l = float(input('Введите значение для перемнной l'))\n",
    "y = float(input('Введите значение для перемнной y'))\n",
    "\n",
    "my_class = MyClassTask1(t, l, y)\n",
    "my_class.calculate_V()"
   ]
  },
  {
   "cell_type": "code",
   "execution_count": 120,
   "metadata": {},
   "outputs": [
    {
     "name": "stdout",
     "output_type": "stream",
     "text": [
      "Q = 0.0077371640014427855\n"
     ]
    }
   ],
   "source": [
    "#Задание 21\n",
    "k = float(input('Введите значение для переменной k'))\n",
    "p = float(input('Введите значение для переменной p'))\n",
    "x = float(input('Введите значение для переменной x'))\n",
    "d = float(input('Введите значение для переменной d'))\n",
    "\n",
    "print(f'Q = {(np.sqrt(k) + 2.6 * p * np.sin(k)) / (x - np.power(d, 3))}')"
   ]
  },
  {
   "cell_type": "code",
   "execution_count": 121,
   "metadata": {},
   "outputs": [],
   "source": [
    "class MyClassTask1:\n",
    "    def __init__(self, k, p, x, d):\n",
    "        self.k = k\n",
    "        self.p = p\n",
    "        self.x = x\n",
    "        self.d = d\n",
    "    def calculate_V(self):\n",
    "       print(f'Q = {(np.sqrt(k) + 2.6 * p * np.sin(k)) / (x - np.power(d, 3))}')"
   ]
  },
  {
   "cell_type": "code",
   "execution_count": 122,
   "metadata": {},
   "outputs": [
    {
     "name": "stdout",
     "output_type": "stream",
     "text": [
      "Q = 0.0077371640014427855\n"
     ]
    }
   ],
   "source": [
    "k = float(input('Введите значение для перемнной k'))\n",
    "p = float(input('Введите значение для перемнной p'))\n",
    "x = float(input('Введите значение для перемнной x'))\n",
    "d = float(input('Введите значение для перемнной d'))\n",
    "\n",
    "my_class = MyClassTask1(k, p, x, d)\n",
    "my_class.calculate_V()"
   ]
  },
  {
   "cell_type": "code",
   "execution_count": 125,
   "metadata": {},
   "outputs": [
    {
     "name": "stdout",
     "output_type": "stream",
     "text": [
      "S = 7545.819442537154\n"
     ]
    }
   ],
   "source": [
    "#Задание 22\n",
    "y = float(input('Введите значение для переменной y'))\n",
    "t = float(input('Введите значение для переменной t'))\n",
    "\n",
    "print(f'S = {4.351 * np.power(y, 3) + (2 * t * np.log(t)) / np.sqrt(np.cos(2 * y) + 4.351)}')"
   ]
  },
  {
   "cell_type": "code",
   "execution_count": 126,
   "metadata": {},
   "outputs": [],
   "source": [
    "class MyClassTask1:\n",
    "    def __init__(self, y, t):\n",
    "        self.y = y\n",
    "        self.t = t\n",
    "    def calculate_V(self):\n",
    "       print(f'S = {4.351 * np.power(y, 3) + (2 * t * np.log(t)) / np.sqrt(np.cos(2 * y) + 4.351)}')"
   ]
  },
  {
   "cell_type": "code",
   "execution_count": 127,
   "metadata": {},
   "outputs": [
    {
     "name": "stdout",
     "output_type": "stream",
     "text": [
      "S = 7545.819442537154\n"
     ]
    }
   ],
   "source": [
    "y = float(input('Введите значение для перемнной y'))\n",
    "t = float(input('Введите значение для перемнной t'))\n",
    "\n",
    "my_class = MyClassTask1(y, t)\n",
    "my_class.calculate_V()"
   ]
  },
  {
   "cell_type": "code",
   "execution_count": 128,
   "metadata": {},
   "outputs": [
    {
     "name": "stdout",
     "output_type": "stream",
     "text": [
      "R = 0.28793261515826774\n"
     ]
    }
   ],
   "source": [
    "#Задание 23\n",
    "y = float(input('Введите значение для переменной y'))\n",
    "d = float(input('Введите значение для переменной d'))\n",
    "\n",
    "print(f'R = {np.power(np.sin(y), 2) + (0.3 * d) / (np.exp(y) + np.log(d))}')"
   ]
  },
  {
   "cell_type": "code",
   "execution_count": 129,
   "metadata": {},
   "outputs": [],
   "source": [
    "class MyClassTask1:\n",
    "    def __init__(self, y, d):\n",
    "        self.y = y\n",
    "        self.d = d\n",
    "    def calculate_V(self):\n",
    "       print(f'R = {np.power(np.sin(y), 2) + (0.3 * d) / (np.exp(y) + np.log(d))}')"
   ]
  },
  {
   "cell_type": "code",
   "execution_count": 130,
   "metadata": {},
   "outputs": [
    {
     "name": "stdout",
     "output_type": "stream",
     "text": [
      "R = 0.28793261515826774\n"
     ]
    }
   ],
   "source": [
    "y = float(input('Введите значение для перемнной y'))\n",
    "d = float(input('Введите значение для перемнной d'))\n",
    "\n",
    "my_class = MyClassTask1(y, d)\n",
    "my_class.calculate_V()"
   ]
  },
  {
   "cell_type": "code",
   "execution_count": 131,
   "metadata": {},
   "outputs": [
    {
     "name": "stdout",
     "output_type": "stream",
     "text": [
      "U = 3.4641221528762913\n"
     ]
    }
   ],
   "source": [
    "#Задание 24\n",
    "k = float(input('Введите значение для переменной k'))\n",
    "y = float(input('Введите значение для переменной y'))\n",
    "\n",
    "print(f'U = {np.log(2 * k + 4.3) / (np.exp(k) + y) + np.sqrt(y)}')"
   ]
  },
  {
   "cell_type": "code",
   "execution_count": 132,
   "metadata": {},
   "outputs": [],
   "source": [
    "class MyClassTask1:\n",
    "    def __init__(self, k, y):\n",
    "        self.k = k\n",
    "        self.y = y\n",
    "    def calculate_V(self):\n",
    "       print(f'U = {np.log(2 * k + 4.3) / (np.exp(k) + y) + np.sqrt(y)}')"
   ]
  },
  {
   "cell_type": "code",
   "execution_count": 133,
   "metadata": {},
   "outputs": [
    {
     "name": "stdout",
     "output_type": "stream",
     "text": [
      "U = 3.4641221528762913\n"
     ]
    }
   ],
   "source": [
    "k = float(input('Введите значение для перемнной k'))\n",
    "y = float(input('Введите значение для перемнной y'))\n",
    "\n",
    "my_class = MyClassTask1(k, y)\n",
    "my_class.calculate_V()"
   ]
  },
  {
   "cell_type": "code",
   "execution_count": 135,
   "metadata": {},
   "outputs": [
    {
     "name": "stdout",
     "output_type": "stream",
     "text": [
      "L = 433.5285860845962\n"
     ]
    }
   ],
   "source": [
    "#Задание 25\n",
    "c = float(input('Введите значение для переменной c'))\n",
    "t = float(input('Введите значение для переменной t'))\n",
    "\n",
    "print(f'L = {np.power(np.cos(c), 2) + 3 * np.power(t, 2) + 4 / np.sqrt(c + t)}')"
   ]
  },
  {
   "cell_type": "code",
   "execution_count": 136,
   "metadata": {},
   "outputs": [],
   "source": [
    "class MyClassTask1:\n",
    "    def __init__(self, c, t):\n",
    "        self.c = c\n",
    "        self.t = t\n",
    "    def calculate_V(self):\n",
    "       print(f'L = {np.power(np.cos(c), 2) + 3 * np.power(t, 2) + 4 / np.sqrt(c + t)}')"
   ]
  },
  {
   "cell_type": "code",
   "execution_count": 137,
   "metadata": {},
   "outputs": [
    {
     "name": "stdout",
     "output_type": "stream",
     "text": [
      "L = 433.5285860845962\n"
     ]
    }
   ],
   "source": [
    "c = float(input('Введите значение для перемнной c'))\n",
    "t = float(input('Введите значение для перемнной t'))\n",
    "\n",
    "my_class = MyClassTask1(c, t)\n",
    "my_class.calculate_V()"
   ]
  },
  {
   "cell_type": "code",
   "execution_count": 138,
   "metadata": {},
   "outputs": [
    {
     "name": "stdout",
     "output_type": "stream",
     "text": [
      "T = -0.2527064535053845\n"
     ]
    }
   ],
   "source": [
    "#Задание 26\n",
    "u = float(input('Введите значение для переменной u'))\n",
    "y = float(input('Введите значение для переменной y'))\n",
    "\n",
    "print(f'T = {np.sin(2 * u) / np.log(2 * y + u)}')"
   ]
  },
  {
   "cell_type": "code",
   "execution_count": 139,
   "metadata": {},
   "outputs": [],
   "source": [
    "class MyClassTask1:\n",
    "    def __init__(self, u, y):\n",
    "        self.u = u\n",
    "        self.y = y\n",
    "    def calculate_V(self):\n",
    "       print(f'T = {np.sin(2 * u) / np.log(2 * y + u)}')"
   ]
  },
  {
   "cell_type": "code",
   "execution_count": 140,
   "metadata": {},
   "outputs": [
    {
     "name": "stdout",
     "output_type": "stream",
     "text": [
      "T = -0.2527064535053845\n"
     ]
    }
   ],
   "source": [
    "u = float(input('Введите значение для перемнной u'))\n",
    "y = float(input('Введите значение для перемнной y'))\n",
    "\n",
    "my_class = MyClassTask1(u, y)\n",
    "my_class.calculate_V()"
   ]
  },
  {
   "cell_type": "code",
   "execution_count": 141,
   "metadata": {},
   "outputs": [
    {
     "name": "stdout",
     "output_type": "stream",
     "text": [
      "Z = 0.00011826107341920847\n"
     ]
    }
   ],
   "source": [
    "#Задание 27\n",
    "p = float(input('Введите значение для переменной p'))\n",
    "y = float(input('Введите значение для переменной y'))\n",
    "\n",
    "print(f'Z = {np.power(np.sin(p + 0.4), 2) / (np.power(y, 2) + 7.325 * p)}')"
   ]
  },
  {
   "cell_type": "code",
   "execution_count": 142,
   "metadata": {},
   "outputs": [],
   "source": [
    "class MyClassTask1:\n",
    "    def __init__(self, p, y):\n",
    "        self.p = p\n",
    "        self.y = y\n",
    "    def calculate_V(self):\n",
    "       print(f'Z = {np.power(np.sin(p + 0.4), 2) / (np.power(y, 2) + 7.325 * p)}')"
   ]
  },
  {
   "cell_type": "code",
   "execution_count": 143,
   "metadata": {},
   "outputs": [
    {
     "name": "stdout",
     "output_type": "stream",
     "text": [
      "Z = 0.00011826107341920847\n"
     ]
    }
   ],
   "source": [
    "p = float(input('Введите значение для перемнной p'))\n",
    "y = float(input('Введите значение для перемнной y'))\n",
    "\n",
    "my_class = MyClassTask1(p, y)\n",
    "my_class.calculate_V()"
   ]
  },
  {
   "cell_type": "code",
   "execution_count": 144,
   "metadata": {},
   "outputs": [
    {
     "name": "stdout",
     "output_type": "stream",
     "text": [
      "W = 65659969.18533051\n"
     ]
    }
   ],
   "source": [
    "#Задание 28\n",
    "v = float(input('Введите значение для переменной v'))\n",
    "y = float(input('Введите значение для переменной y'))\n",
    "\n",
    "print(f'W = {0.004 * v + np.exp(2 * y) / np.exp(y / 2)}')"
   ]
  },
  {
   "cell_type": "code",
   "execution_count": 145,
   "metadata": {},
   "outputs": [],
   "source": [
    "class MyClassTask1:\n",
    "    def __init__(self, v, y):\n",
    "        self.v = v\n",
    "        self.y = y\n",
    "    def calculate_V(self):\n",
    "       print(f'W = {0.004 * v + np.exp(2 * y) / np.exp(y / 2)}')"
   ]
  },
  {
   "cell_type": "code",
   "execution_count": 146,
   "metadata": {},
   "outputs": [
    {
     "name": "stdout",
     "output_type": "stream",
     "text": [
      "W = 65659969.18533051\n"
     ]
    }
   ],
   "source": [
    "v = float(input('Введите значение для перемнной v'))\n",
    "y = float(input('Введите значение для перемнной y'))\n",
    "\n",
    "my_class = MyClassTask1(v, y)\n",
    "my_class.calculate_V()"
   ]
  },
  {
   "cell_type": "code",
   "execution_count": 147,
   "metadata": {},
   "outputs": [
    {
     "name": "stdout",
     "output_type": "stream",
     "text": [
      "T = 56.812099788138674\n"
     ]
    }
   ],
   "source": [
    "#Задание 29\n",
    "h = float(input('Введите значение для переменной h'))\n",
    "y = float(input('Введите значение для переменной y'))\n",
    "\n",
    "print(f'T = {0.355 * np.power(h, 2) - 4.355 / (np.exp(y + h)) + np.sqrt(2.7 * y)}')"
   ]
  },
  {
   "cell_type": "code",
   "execution_count": 148,
   "metadata": {},
   "outputs": [],
   "source": [
    "class MyClassTask1:\n",
    "    def __init__(self, h, y):\n",
    "        self.h = h\n",
    "        self.y = y\n",
    "    def calculate_V(self):\n",
    "       print(f'T = {0.355 * np.power(h, 2) - 4.355 / (np.exp(y + h)) + np.sqrt(2.7 * y)}')"
   ]
  },
  {
   "cell_type": "code",
   "execution_count": 149,
   "metadata": {},
   "outputs": [
    {
     "name": "stdout",
     "output_type": "stream",
     "text": [
      "T = 56.812099788138674\n"
     ]
    }
   ],
   "source": [
    "h = float(input('Введите значение для перемнной h'))\n",
    "y = float(input('Введите значение для перемнной y'))\n",
    "\n",
    "my_class = MyClassTask1(h, y)\n",
    "my_class.calculate_V()"
   ]
  },
  {
   "cell_type": "code",
   "execution_count": 150,
   "metadata": {},
   "outputs": [
    {
     "name": "stdout",
     "output_type": "stream",
     "text": [
      "N = 432.00002215284013\n"
     ]
    }
   ],
   "source": [
    "#Задание 30\n",
    "y = float(input('Введите значение для переменной y'))\n",
    "p = float(input('Введите значение для переменной p'))\n",
    "\n",
    "print(f'N = {3 * np.power(y, 2) + np.sqrt(y + 1) / (np.log(p + y) + np.exp(p))}')"
   ]
  },
  {
   "cell_type": "code",
   "execution_count": 151,
   "metadata": {},
   "outputs": [],
   "source": [
    "class MyClassTask1:\n",
    "    def __init__(self, y, p):\n",
    "        self.y = y\n",
    "        self.p = p\n",
    "    def calculate_V(self):\n",
    "       print(f'N = {3 * np.power(y, 2) + np.sqrt(y + 1) / (np.log(p + y) + np.exp(p))}')"
   ]
  },
  {
   "cell_type": "code",
   "execution_count": 152,
   "metadata": {},
   "outputs": [
    {
     "name": "stdout",
     "output_type": "stream",
     "text": [
      "N = 432.00002215284013\n"
     ]
    }
   ],
   "source": [
    "y = float(input('Введите значение для перемнной y'))\n",
    "p = float(input('Введите значение для перемнной p'))\n",
    "\n",
    "my_class = MyClassTask1(y, p)\n",
    "my_class.calculate_V()"
   ]
  }
 ],
 "metadata": {
  "kernelspec": {
   "display_name": "Python 3",
   "language": "python",
   "name": "python3"
  },
  "language_info": {
   "codemirror_mode": {
    "name": "ipython",
    "version": 3
   },
   "file_extension": ".py",
   "mimetype": "text/x-python",
   "name": "python",
   "nbconvert_exporter": "python",
   "pygments_lexer": "ipython3",
   "version": "3.13.1"
  }
 },
 "nbformat": 4,
 "nbformat_minor": 2
}
