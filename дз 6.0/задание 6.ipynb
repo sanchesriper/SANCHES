{
 "cells": [
  {
   "cell_type": "code",
   "execution_count": 1,
   "metadata": {},
   "outputs": [],
   "source": [
    "import numpy as np\n",
    "import matplotlib.pyplot as plt\n",
    "import math"
   ]
  },
  {
   "cell_type": "code",
   "execution_count": 2,
   "metadata": {},
   "outputs": [
    {
     "name": "stdout",
     "output_type": "stream",
     "text": [
      "Только одно из чисел A и B чётое: False\n"
     ]
    }
   ],
   "source": [
    "#Задание 1\n",
    "A = int(input(\"Введите число A: \"))\n",
    "B = int(input(\"Введите число B: \"))\n",
    "\n",
    "\n",
    "is_one_even = (A % 2 == 0) != (B % 2 == 0)\n",
    "\n",
    "print(\"Только одно из чисел A и B чётое:\", is_one_even)\n"
   ]
  },
  {
   "cell_type": "code",
   "execution_count": 3,
   "metadata": {},
   "outputs": [
    {
     "name": "stdout",
     "output_type": "stream",
     "text": [
      "Каждое из чисел A, B, C кратно трём: True\n"
     ]
    }
   ],
   "source": [
    "A = int(input(\"Введите число A: \"))\n",
    "B = int(input(\"Введите число B: \"))\n",
    "C = int(input(\"Введите число C: \"))\n",
    "\n",
    "are_all_multiples_of_three = (A % 3 == 0) and (B % 3 == 0) and (C % 3 == 0)\n",
    "\n",
    "print(\"Каждое из чисел A, B, C кратно трём:\", are_all_multiples_of_three)"
   ]
  },
  {
   "cell_type": "code",
   "execution_count": 4,
   "metadata": {},
   "outputs": [
    {
     "name": "stdout",
     "output_type": "stream",
     "text": [
      "Только одно из чисел A и B чётное: False\n",
      "Каждое из чисел A, B, C кратно трём: True\n"
     ]
    }
   ],
   "source": [
    "class NumberChecker:\n",
    "    def __init__(self):\n",
    "        self.A = 0\n",
    "        self.B = 0\n",
    "        self.C = 0\n",
    "\n",
    "    def input_numbers(self):\n",
    "        self.A = int(input(\"Введите число A: \"))\n",
    "        self.B = int(input(\"Введите число B: \"))\n",
    "        self.C = int(input(\"Введите число C: \"))\n",
    "\n",
    "    def is_one_even(self):\n",
    "        \"\"\"Проверяет, только одно из чисел A и B чётное.\"\"\"\n",
    "        return (self.A % 2 == 0) != (self.B % 2 == 0)\n",
    "    \n",
    "    def are_all_multiples_of_three(self):\n",
    "        \"\"\"Проверяет, каждое из чисел A, B, C кратно трём.\"\"\"\n",
    "        return (self.A % 3 == 0) and (self.B % 3 == 0) and (self.C % 3 == 0)\n",
    "    \n",
    "checker = NumberChecker()\n",
    "\n",
    "checker.input_numbers()\n",
    "\n",
    "print(\"Только одно из чисел A и B чётное:\", checker.is_one_even())\n",
    "print(\"Каждое из чисел A, B, C кратно трём:\", checker.are_all_multiples_of_three())"
   ]
  },
  {
   "cell_type": "code",
   "execution_count": 5,
   "metadata": {},
   "outputs": [
    {
     "name": "stdout",
     "output_type": "stream",
     "text": [
      "Только одно из чисел A и B чётное: False\n",
      "Каждое из чисел A, B, C кратно трём: True\n"
     ]
    }
   ],
   "source": [
    "class NumberChecker:\n",
    "    def __init__(self):\n",
    "        self.A = 0\n",
    "        self.B = 0\n",
    "        self.C = 0\n",
    "\n",
    "    def input_numbers(self):\n",
    "        self.A = int(input(\"Введите число A: \"))\n",
    "        self.B = int(input(\"Введите число B: \"))\n",
    "        self.C = int(input(\"Введите число C: \"))\n",
    "\n",
    "    def is_one_even(self):\n",
    "        return (self.A % 2 == 0) != (self.B % 2 == 0)\n",
    "    \n",
    "    def are_all_multiples_of_three(self):\n",
    "        \"\"\"Проверяет, каждое из чисел A, B, C кратно трём.\"\"\"\n",
    "        return (self.A % 3 == 0) and (self.B % 3 == 0) and (self.C % 3 == 0)\n",
    "    \n",
    "    def visualize_results(self):\n",
    "        \"\"\"Визуализирует результаты проверки условий.\"\"\"\n",
    "        results = {\n",
    "            'Только одно чётное': self.is_one_even(),\n",
    "            'Все кратны 3': self.are_all_multiples_of_three()\n",
    "        }\n",
    "      \n",
    "        labels = list(results.keys())\n",
    "        values = [int(result) for result in results.values()]\n",
    "    \n",
    "        plt.bar(labels, values, color=['blue', 'green'])\n",
    "        plt.ylim(0, 1)\n",
    "        plt.ylabel('Результат (0 - Ложь, 1 - Истина)')\n",
    "        plt.title('Результаты проверки условий')\n",
    "        plt.show()\n",
    "\n",
    "checker = NumberChecker()\n",
    "\n",
    "checker.input_numbers()\n",
    "\n",
    "print(\"Только одно из чисел A и B чётное:\", checker.is_one_even())\n",
    "print(\"Каждое из чисел A, B, C кратно трём:\", checker.are_all_multiples_of_three())"
   ]
  },
  {
   "cell_type": "code",
   "execution_count": null,
   "metadata": {},
   "outputs": [
    {
     "name": "stdout",
     "output_type": "stream",
     "text": [
      "Целое N кратно четырем или семи: False\n",
      "Целое N кратно пяти и не оканчивается нулем: True\n"
     ]
    }
   ],
   "source": [
    "#Задание 2\n",
    "N = int(input(\"Введите число N: \"))\n",
    "\n",
    "\n",
    "is_one_even = (N % 4 == 0) or (N % 7 == 0)\n",
    "is_two_even = (N % 5 == 0) or (N % 10 != 0)\n",
    "\n",
    "print(\"Целое N кратно четырем или семи:\", is_one_even)\n",
    "print(\"Целое N кратно пяти и не оканчивается нулем:\", is_two_even)"
   ]
  },
  {
   "cell_type": "code",
   "execution_count": null,
   "metadata": {},
   "outputs": [
    {
     "name": "stdout",
     "output_type": "stream",
     "text": [
      "Число N кратно 4 или 7: True\n",
      "Число N кратно 5 и не оканчивается нулем: False\n"
     ]
    }
   ],
   "source": [
    "N = int(input(\"Введите целое число N: \"))\n",
    "\n",
    "is_multiple_of_four_or_seven = (N % 4 == 0) or (N % 7 == 0)\n",
    "\n",
    "is_multiple_of_five_not_ending_in_zero = (N % 5 == 0) and (N % 10 != 0)\n",
    "\n",
    "print(\"Число N кратно 4 или 7:\", is_multiple_of_four_or_seven)\n",
    "print(\"Число N кратно 5 и не оканчивается нулем:\", is_multiple_of_five_not_ending_in_zero)"
   ]
  },
  {
   "cell_type": "code",
   "execution_count": 19,
   "metadata": {},
   "outputs": [
    {
     "name": "stdout",
     "output_type": "stream",
     "text": [
      "Число N кратно 4 или 7: True\n",
      "Число N кратно 5 и не оканчивается нулем: False\n"
     ]
    }
   ],
   "source": [
    "class NumberChecker:\n",
    "    def __init__(self):\n",
    "        self.N = 0\n",
    "\n",
    "    def input_numbers(self):\n",
    "        self.N = int(input(\"Введите число N: \"))\n",
    "\n",
    "    def is_one_even(self):\n",
    "        return (N % 4 == 0) or (N % 7 == 0) and (N % 5 == 0) or (N % 10 != 0)\n",
    "    \n",
    "    def are_all_multiples_of_three(self):\n",
    "        return (N % 4 == 0) and (N % 7 == 0) and (N % 5 == 0) and (N % 10 != 0)\n",
    "checker = NumberChecker()\n",
    "\n",
    "checker.input_numbers()\n",
    "\n",
    "print(\"Число N кратно 4 или 7:\", checker.is_one_even())\n",
    "print(\"Число N кратно 5 и не оканчивается нулем:\", checker.are_all_multiples_of_three())"
   ]
  },
  {
   "cell_type": "code",
   "execution_count": 20,
   "metadata": {},
   "outputs": [
    {
     "name": "stdout",
     "output_type": "stream",
     "text": [
      "Число N кратно 4 или 7: True\n",
      "Число N кратно 5 и не оканчивается нулем: False\n"
     ]
    }
   ],
   "source": [
    "class NumberChecker:\n",
    "    def __init__(self):\n",
    "        self.N = 0\n",
    "\n",
    "    def input_numbers(self):\n",
    "        self.N = int(input(\"Введите число N: \"))\n",
    "    def is_one_even(self):\n",
    "        return (N % 4 == 0) or (N % 7 == 0) and (N % 5 == 0) or (N % 10 != 0)\n",
    "    \n",
    "    def are_all_multiples_of_three(self):\n",
    "        return (N % 4 == 0) and (N % 7 == 0) and (N % 5 == 0) and (N % 10 != 0)\n",
    "    \n",
    "    def visualize_results(self):\n",
    "        results = {\n",
    "            'Только одно кратное 4 или 7': self.is_one_even(),\n",
    "            'Все кратны 5 и не оканчивается нулю': self.are_all_multiples_of_three()\n",
    "        }\n",
    "      \n",
    "        labels = list(results.keys())\n",
    "        values = [int(result) for result in results.values()]\n",
    "    \n",
    "        plt.bar(labels, values, color=['blue', 'green'])\n",
    "        plt.ylim(0, 1)\n",
    "        plt.ylabel('Результат (0 - Ложь, 1 - Истина)')\n",
    "        plt.title('Результаты проверки условий')\n",
    "        plt.show()\n",
    "\n",
    "checker = NumberChecker()\n",
    "\n",
    "checker.input_numbers()\n",
    "\n",
    "print(\"Число N кратно 4 или 7:\", checker.is_one_even())\n",
    "print(\"Число N кратно 5 и не оканчивается нулем:\", checker.are_all_multiples_of_three())"
   ]
  },
  {
   "cell_type": "code",
   "execution_count": null,
   "metadata": {},
   "outputs": [
    {
     "name": "stdout",
     "output_type": "stream",
     "text": [
      "Логическое выражение истинно: True\n"
     ]
    }
   ],
   "source": [
    "#Задание 3\n",
    "n = int(input(\"Введите число n: \"))\n",
    "m = int(input(\"Введите число m: \"))\n",
    "k = int(input(\"Введите число k: \"))\n",
    "l = int(input(\"Введите число l: \"))\n",
    "\n",
    "is_one_even = (n + m > k) and (not (n > k) or (m < l))\n",
    "\n",
    "print(\"Логическое выражение истинно:\", is_one_even)"
   ]
  },
  {
   "cell_type": "code",
   "execution_count": 22,
   "metadata": {},
   "outputs": [
    {
     "name": "stdout",
     "output_type": "stream",
     "text": [
      "Логическое выражение истинно: True\n"
     ]
    }
   ],
   "source": [
    "class NumberChecker:\n",
    "    def __init__(self):\n",
    "        self.n = 0\n",
    "        self.m = 0\n",
    "        self.k = 0\n",
    "        self.l = 0\n",
    "\n",
    "    def input_numbers(self):\n",
    "        self.n = int(input(\"Введите число n: \"))\n",
    "        self.m = int(input(\"Введите число m: \"))\n",
    "        self.k = int(input(\"Введите число k: \"))\n",
    "        self.l = int(input(\"Введите число l: \"))\n",
    "\n",
    "    def is_one_even(self):\n",
    "        return (n + m > k) and (not (n > k) or (m < l))\n",
    "    \n",
    "    \n",
    "checker = NumberChecker()\n",
    "\n",
    "checker.input_numbers()\n",
    "\n",
    "print(\"Логическое выражение истинно:\", checker.is_one_even())"
   ]
  },
  {
   "cell_type": "code",
   "execution_count": 24,
   "metadata": {},
   "outputs": [
    {
     "name": "stdout",
     "output_type": "stream",
     "text": [
      "Логическое выражение истинно: False\n"
     ]
    }
   ],
   "source": [
    "#Задание 4 \n",
    "N = int(input(\"Введите число N: \"))\n",
    "\n",
    "is_condition_true = (not (N % 3 == 0 and N % 9 == 0)) and \\\n",
    "                    (not (N % 4 == 0 and N % 5 != 0)) and \\\n",
    "                    (not (N % 4 == 0 and N % 24 != 0))\n",
    "\n",
    "print(\"Логическое выражение истинно:\", is_condition_true)"
   ]
  },
  {
   "cell_type": "code",
   "execution_count": 25,
   "metadata": {},
   "outputs": [
    {
     "name": "stdout",
     "output_type": "stream",
     "text": [
      "Логическое выражение истинно: False\n"
     ]
    }
   ],
   "source": [
    "class NumberChecker:\n",
    "    def __init__(self):\n",
    "        self.N = 0\n",
    "\n",
    "    def input_numbers(self):\n",
    "        self.N = int(input(\"Введите число N: \"))\n",
    "\n",
    "    def is_condition_true(self):\n",
    "        return (not (N % 3 == 0 and N % 9 == 0)) and \\\n",
    "                    (not (N % 4 == 0 and N % 5 != 0)) and \\\n",
    "                    (not (N % 4 == 0 and N % 24 != 0))\n",
    "    \n",
    "    \n",
    "checker = NumberChecker()\n",
    "\n",
    "checker.input_numbers()\n",
    "\n",
    "print(\"Логическое выражение истинно:\", checker.is_condition_true())"
   ]
  },
  {
   "cell_type": "code",
   "execution_count": null,
   "metadata": {},
   "outputs": [
    {
     "name": "stdout",
     "output_type": "stream",
     "text": [
      "Логическое выражение истинно: True\n"
     ]
    }
   ],
   "source": [
    "#Задание 5 \n",
    "k = int(input(\"Введите число k: \"))\n",
    "l = int(input(\"Введите число l: \"))\n",
    "n = int(input(\"Введите число n: \"))\n",
    "m = int(input(\"Введите число m: \"))\n",
    "\n",
    "is_condition_true = (n > 1) or (m <= (+ k)) or (n > 2 and  m**2 > l**2)\n",
    "\n",
    "print(\"Логическое выражение истинно:\", is_condition_true)"
   ]
  },
  {
   "cell_type": "code",
   "execution_count": 3,
   "metadata": {},
   "outputs": [
    {
     "name": "stdout",
     "output_type": "stream",
     "text": [
      "Логическое выражение истинно: True\n"
     ]
    }
   ],
   "source": [
    "class NumberChecker:\n",
    "    def __init__(self):\n",
    "        self.k = 0\n",
    "        self.l = 0\n",
    "        self.n = 0\n",
    "        self.m = 0\n",
    "\n",
    "    def input_numbers(self):\n",
    "        self.k = int(input(\"Введите число k: \"))\n",
    "        self.l = int(input(\"Введите число l: \"))\n",
    "        self.n = int(input(\"Введите число n: \"))\n",
    "        self.m = int(input(\"Введите число m: \"))\n",
    "\n",
    "    def is_condition_true(self):\n",
    "        return (n > 1) or (m <= (+ k)) or (n > 2 and  m**2 > l**2)\n",
    "    \n",
    "    \n",
    "checker = NumberChecker()\n",
    "\n",
    "checker.input_numbers()\n",
    "\n",
    "print(\"Логическое выражение истинно:\", checker.is_condition_true())"
   ]
  },
  {
   "cell_type": "code",
   "execution_count": 4,
   "metadata": {},
   "outputs": [
    {
     "name": "stdout",
     "output_type": "stream",
     "text": [
      "Сумма выплаты по депозиту: 15.08 руб.\n"
     ]
    }
   ],
   "source": [
    "#Задание 6 \n",
    "def calculate_deposit_interest(deposit_amount):\n",
    "    if deposit_amount <= 50000:\n",
    "        interest_rate = 0.16\n",
    "    elif 50000 < deposit_amount <= 100000:\n",
    "        interest_rate = 0.18\n",
    "    else:\n",
    "        interest_rate = 0.2\n",
    "\n",
    "    total_payment = deposit_amount * (1 + interest_rate)\n",
    "    return total_payment\n",
    "\n",
    "deposit = int(input(\"Введите сумму вклада: \"))\n",
    "total = calculate_deposit_interest(deposit)\n",
    "print(f\"Сумма выплаты по депозиту: {total:.2f} руб.\")"
   ]
  },
  {
   "cell_type": "code",
   "execution_count": 5,
   "metadata": {},
   "outputs": [
    {
     "name": "stdout",
     "output_type": "stream",
     "text": [
      "Сумма выплаты по депозиту: 12.24 рублей\n"
     ]
    }
   ],
   "source": [
    "class DepositCalculator:\n",
    "    def __init__(self):\n",
    "        self.deposit_amount = 0\n",
    "        self.years = 0\n",
    "\n",
    "    def input_data(self):\n",
    "        self.deposit_amount = float(input(\"Введите сумму вклада: \"))\n",
    "        self.years = float(input(\"Введите количество лет: \"))\n",
    "\n",
    "    def calculate_interest(self):\n",
    "        if self.deposit_amount <= 50000:\n",
    "            interest_rate = 0.16\n",
    "        elif self.deposit_amount <= 100000:\n",
    "            interest_rate = 0.18\n",
    "        else:\n",
    "            interest_rate = 0\n",
    "\n",
    "        total_amount = self.deposit_amount * (1 + interest_rate * self.years)\n",
    "        return total_amount\n",
    "\n",
    "calculator = DepositCalculator()\n",
    "\n",
    "calculator.input_data()\n",
    "total_payment = calculator.calculate_interest()\n",
    "print(f\"Сумма выплаты по депозиту: {total_payment:.2f} рублей\")"
   ]
  },
  {
   "cell_type": "code",
   "execution_count": null,
   "metadata": {},
   "outputs": [
    {
     "name": "stdout",
     "output_type": "stream",
     "text": [
      "Число N соответствует всем условиям: False\n"
     ]
    }
   ],
   "source": [
    "#Задание 7\n",
    "N = int(input(\"Введите число N: \"))\n",
    "\n",
    "is_even = (N % 2 == 0)\n",
    "is_divisible_by_7 = (N % 7 == 0)\n",
    "is_not_divisible_by_11 = (N % 11 != 0) \n",
    "is_not_divisible_by_13 = (N % 13 != 0) \n",
    "\n",
    "result = is_even and is_divisible_by_7 and is_not_divisible_by_11 and is_not_divisible_by_13\n",
    "\n",
    "print(\"Число N соответствует всем условиям:\", result)\n"
   ]
  },
  {
   "cell_type": "code",
   "execution_count": 7,
   "metadata": {},
   "outputs": [
    {
     "name": "stdout",
     "output_type": "stream",
     "text": [
      "Число N соответствует всем условиям: False\n"
     ]
    }
   ],
   "source": [
    "class NumberChecker:\n",
    "    def __init__(self):\n",
    "        self.N = 0\n",
    "\n",
    "    def input_numbers(self):\n",
    "        self.N = int(input(\"Введите число N: \"))\n",
    "\n",
    "    def is_not_divisible_by_13(self):\n",
    "        return (N % 2 == 0) and (N % 7 == 0) and (N % 11 != 0) and (N % 13 != 0)\n",
    "    \n",
    "    \n",
    "checker = NumberChecker()\n",
    "\n",
    "checker.input_numbers()\n",
    "\n",
    "print(\"Число N соответствует всем условиям:\", checker.is_not_divisible_by_13())"
   ]
  },
  {
   "cell_type": "code",
   "execution_count": null,
   "metadata": {},
   "outputs": [
    {
     "name": "stdout",
     "output_type": "stream",
     "text": [
      "Число N соответствует всем условиям: False\n"
     ]
    }
   ],
   "source": [
    "#Задание 8\n",
    "N = int(input(\"Введите число N: \"))\n",
    "\n",
    "\n",
    "is_not_divisible_by_3 = (N % 3 != 0)  \n",
    "is_divisible_by_7 = (N % 7 == 0)      \n",
    "is_divisible_by_10 = (N % 10 == 0)    \n",
    "\n",
    "result = is_not_divisible_by_3 and is_divisible_by_7 and is_divisible_by_10\n",
    "\n",
    "print(\"Число N соответствует всем условиям:\", result)\n"
   ]
  },
  {
   "cell_type": "code",
   "execution_count": 9,
   "metadata": {},
   "outputs": [
    {
     "name": "stdout",
     "output_type": "stream",
     "text": [
      "Число N соответствует всем условиям: False\n"
     ]
    }
   ],
   "source": [
    "class NumberChecker:\n",
    "    def __init__(self):\n",
    "        self.N = 0\n",
    "\n",
    "    def input_numbers(self):\n",
    "        self.N = int(input(\"Введите число N: \"))\n",
    "\n",
    "    def is_divisible_by_10(self):\n",
    "        return (N % 3 != 0) and (N % 7 == 0) and (N % 10 == 0) \n",
    "    \n",
    "    \n",
    "checker = NumberChecker()\n",
    "\n",
    "checker.input_numbers()\n",
    "\n",
    "print(\"Число N соответствует всем условиям:\", checker.is_divisible_by_10())"
   ]
  },
  {
   "cell_type": "code",
   "execution_count": null,
   "metadata": {},
   "outputs": [
    {
     "name": "stdout",
     "output_type": "stream",
     "text": [
      "Логическое выражение истинно: True\n"
     ]
    }
   ],
   "source": [
    "#Задание 9 \n",
    "k = int(input(\"Введите число k: \"))\n",
    "l = int(input(\"Введите число l: \"))\n",
    "n = int(input(\"Введите число n: \"))\n",
    "m = int(input(\"Введите число m: \"))\n",
    "\n",
    "is_condition_true = (1 > m) or (2 * l - 3 * n < m) or (n > 1) or (m <= k) or (n > 2 and m**2 > l**2)\n",
    "\n",
    "print(\"Логическое выражение истинно:\", is_condition_true)\n"
   ]
  },
  {
   "cell_type": "code",
   "execution_count": 11,
   "metadata": {},
   "outputs": [
    {
     "name": "stdout",
     "output_type": "stream",
     "text": [
      "Логическое выражение истинно: True\n"
     ]
    }
   ],
   "source": [
    "class NumberChecker:\n",
    "    def __init__(self):\n",
    "        self.k = 0\n",
    "        self.l = 0\n",
    "        self.n = 0\n",
    "        self.m = 0\n",
    "\n",
    "    def input_numbers(self):\n",
    "        self.k = int(input(\"Введите число k: \"))\n",
    "        self.l = int(input(\"Введите число l: \"))\n",
    "        self.n = int(input(\"Введите число n: \"))\n",
    "        self.m = int(input(\"Введите число m: \"))\n",
    "\n",
    "    def is_condition_true(self):\n",
    "        return (1 > m) or (2 * l - 3 * n < m) or (n > 1) or (m <= k) or (n > 2 and m**2 > l**2)\n",
    "    \n",
    "    \n",
    "checker = NumberChecker()\n",
    "\n",
    "checker.input_numbers()\n",
    "\n",
    "print(\"Логическое выражение истинно:\", checker.is_condition_true())"
   ]
  },
  {
   "cell_type": "code",
   "execution_count": 12,
   "metadata": {},
   "outputs": [
    {
     "name": "stdout",
     "output_type": "stream",
     "text": [
      "Логическое выражение истинно: False\n"
     ]
    }
   ],
   "source": [
    "#Задание 10\n",
    "N = int(input(\"Введите число N: \"))\n",
    "\n",
    "is_condition_true = (N % 2 == 0 and N % 3 != 0 and N % 7 == 0) and \\\n",
    "                    (N % 5 != 0 or N % 4 != 0) and \\\n",
    "                    (N % 8 != 0 or N % 11 == 0)\n",
    "\n",
    "print(\"Логическое выражение истинно:\", is_condition_true)\n"
   ]
  },
  {
   "cell_type": "code",
   "execution_count": 13,
   "metadata": {},
   "outputs": [
    {
     "name": "stdout",
     "output_type": "stream",
     "text": [
      "Логическое выражение истинно: False\n"
     ]
    }
   ],
   "source": [
    "class NumberChecker:\n",
    "    def __init__(self):\n",
    "        self.N = 0\n",
    "\n",
    "    def input_numbers(self):\n",
    "        self.N = int(input(\"Введите число N: \"))\n",
    "\n",
    "    def is_condition_true(self):\n",
    "        return (N % 2 == 0 and N % 3 != 0 and N % 7 == 0) and \\\n",
    "                    (N % 5 != 0 or N % 4 != 0) and \\\n",
    "                    (N % 8 != 0 or N % 11 == 0)\n",
    "    \n",
    "    \n",
    "checker = NumberChecker()\n",
    "\n",
    "checker.input_numbers()\n",
    "\n",
    "print(\"Логическое выражение истинно:\", checker.is_condition_true())"
   ]
  },
  {
   "cell_type": "code",
   "execution_count": 14,
   "metadata": {},
   "outputs": [
    {
     "name": "stdout",
     "output_type": "stream",
     "text": [
      "Итоговая стоимость покупки со скидкой: 4.00 руб.\n"
     ]
    }
   ],
   "source": [
    "#Задание 11 \n",
    "def calculate_discounted_price(purchase_amount):\n",
    "    if 4000 < purchase_amount < 6000:\n",
    "        discount_rate = 0.05  \n",
    "    elif 6000 < purchase_amount < 10000:\n",
    "        discount_rate = 0.10  \n",
    "    else:\n",
    "        discount_rate = 0.0  \n",
    "    \n",
    "    discounted_price = purchase_amount * (1 - discount_rate)\n",
    "    return discounted_price\n",
    "\n",
    "purchase = float(input(\"Введите стоимость покупки: \"))\n",
    "total_price = calculate_discounted_price(purchase)\n",
    "print(f\"Итоговая стоимость покупки со скидкой: {total_price:.2f} руб.\")\n"
   ]
  },
  {
   "cell_type": "code",
   "execution_count": 17,
   "metadata": {},
   "outputs": [
    {
     "name": "stdout",
     "output_type": "stream",
     "text": [
      "Сумма к оплате с учетом скидки: 100.00 рублей\n"
     ]
    }
   ],
   "source": [
    "class PurchaseCalculator:\n",
    "    def __init__(self):\n",
    "        self.purchase_amount = 0\n",
    "\n",
    "    def input_data(self):\n",
    "        self.purchase_amount = float(input(\"Введите стоимость покупки: \"))\n",
    "\n",
    "    def calculate_total(self):\n",
    "        if 4000 < self.purchase_amount < 6000:\n",
    "            discount = 0.05\n",
    "        elif 6000 < self.purchase_amount < 10000:\n",
    "            discount = 0.10\n",
    "        else:\n",
    "            discount = 0\n",
    "\n",
    "        total_amount = self.purchase_amount * (1 - discount)\n",
    "        return total_amount\n",
    "\n",
    "purchase_calculator = PurchaseCalculator()\n",
    "\n",
    "purchase_calculator.input_data()\n",
    "total_payment = purchase_calculator.calculate_total()\n",
    "print(f\"Сумма к оплате с учетом скидки: {total_payment:.2f} рублей\")\n"
   ]
  },
  {
   "cell_type": "code",
   "execution_count": 6,
   "metadata": {},
   "outputs": [
    {
     "name": "stdout",
     "output_type": "stream",
     "text": [
      "Логическое выражение истинно: True\n"
     ]
    }
   ],
   "source": [
    "#Задание 12\n",
    "k = int(input(\"Введите число k: \"))\n",
    "l = int(input(\"Введите число l: \"))\n",
    "n = int(input(\"Введите число n: \"))\n",
    "m = int(input(\"Введите число m: \"))\n",
    "\n",
    "is_condition_true = (k + l + m + n > 0) and (k > 0 and 2 * m > 1) or (k < 0 and n > 3 * l) or (k == 0)\n",
    "\n",
    "\n",
    "print(\"Логическое выражение истинно:\", is_condition_true)"
   ]
  },
  {
   "cell_type": "code",
   "execution_count": 7,
   "metadata": {},
   "outputs": [
    {
     "name": "stdout",
     "output_type": "stream",
     "text": [
      "Логическое выражение истинно: True\n"
     ]
    }
   ],
   "source": [
    "class NumberChecker:\n",
    "    def __init__(self):\n",
    "        self.k = 0\n",
    "        self.l = 0\n",
    "        self.n = 0\n",
    "        self.m = 0\n",
    "\n",
    "    def input_numbers(self):\n",
    "        self.k = int(input(\"Введите число k: \"))\n",
    "        self.l = int(input(\"Введите число l: \"))\n",
    "        self.n = int(input(\"Введите число n: \"))\n",
    "        self.m = int(input(\"Введите число m: \"))\n",
    "\n",
    "    def is_condition_true(self):\n",
    "        return  (k + l + m + n > 0) and (k > 0 and 2 * m > 1) or (k < 0 and n > 3 * l) or (k == 0)\n",
    "    \n",
    "    \n",
    "checker = NumberChecker()\n",
    "\n",
    "checker.input_numbers()\n",
    "\n",
    "print(\"Логическое выражение истинно:\", checker.is_condition_true())"
   ]
  },
  {
   "cell_type": "code",
   "execution_count": 9,
   "metadata": {},
   "outputs": [
    {
     "name": "stdout",
     "output_type": "stream",
     "text": [
      "Стоимость переговоров: 43.20 руб.\n"
     ]
    }
   ],
   "source": [
    "#Задание 13\n",
    "def calculate_talk_cost(t, dt, s, d):\n",
    "    initial_cost = dt * s\n",
    "    \n",
    "    if 22 <= t or t < 8:  \n",
    "        initial_cost *= 0.8 \n",
    "    \n",
    "    if d == 6 or d == 7:  \n",
    "        initial_cost *= 0.9  \n",
    "    \n",
    "    return initial_cost\n",
    "\n",
    "t = 23  \n",
    "dt = 30  \n",
    "s = 2  \n",
    "d = 6  \n",
    "\n",
    "cost = calculate_talk_cost(t, dt, s, d)\n",
    "print(f'Стоимость переговоров: {cost:.2f} руб.')"
   ]
  },
  {
   "cell_type": "code",
   "execution_count": 7,
   "metadata": {},
   "outputs": [
    {
     "name": "stdout",
     "output_type": "stream",
     "text": [
      "Стоимость переговоров: 182.00 руб.\n"
     ]
    }
   ],
   "source": [
    "class TalkCostCalculator:\n",
    "    def __init__(self):\n",
    "        self.t = 0\n",
    "        self.dt = 0\n",
    "        self.s = 0\n",
    "        self.d = 0\n",
    "\n",
    "    def input_data(self):\n",
    "        self.t = int(input(\"Введите время разговора (в часах): \"))\n",
    "        self.dt = float(input(\"Введите длительность разговора (в минутах): \"))\n",
    "        self.s = float(input(\"Введите стоимость разговора за минуту: \"))\n",
    "        self.d = int(input(\"Введите день недели (0 - понедельник, ..., 6 - воскресенье): \"))\n",
    "\n",
    "    def calculate_talk_cost(self):\n",
    "        initial_cost = self.dt * self.s\n",
    "        \n",
    "        if 22 <= self.t or self.t < 8:\n",
    "            initial_cost *= 0.8 \n",
    "        \n",
    "        if self.d == 6 or self.d == 7:\n",
    "            initial_cost *= 0.9 \n",
    "        \n",
    "        return initial_cost\n",
    "\n",
    "talk_cost_calculator = TalkCostCalculator()\n",
    "\n",
    "talk_cost_calculator.input_data()\n",
    "\n",
    "cost = talk_cost_calculator.calculate_talk_cost()\n",
    "\n",
    "print(f'Стоимость переговоров: {cost:.2f} руб.')"
   ]
  },
  {
   "cell_type": "code",
   "execution_count": 10,
   "metadata": {},
   "outputs": [
    {
     "name": "stdout",
     "output_type": "stream",
     "text": [
      "X\tY\tZ\tРезультат\n",
      "------------------------------\n",
      "0\t0\t0\t0\n",
      "0\t0\t1\t0\n",
      "0\t1\t0\t0\n",
      "0\t1\t1\t0\n",
      "1\t0\t0\t1\n",
      "1\t0\t1\t1\n",
      "1\t1\t0\t0\n",
      "1\t1\t1\t0\n"
     ]
    }
   ],
   "source": [
    "#Задание 14\n",
    "def logical_expression(x, y, z):\n",
    "    return not (not x or y) and (x or not z)\n",
    "\n",
    "print(\"X\\tY\\tZ\\tРезультат\")\n",
    "print(\"-\" * 30)\n",
    "\n",
    "for x in [False, True]:\n",
    "    for y in [False, True]:\n",
    "        for z in [False, True]:\n",
    "            result = logical_expression(x, y, z)\n",
    "            print(f\"{int(x)}\\t{int(y)}\\t{int(z)}\\t{int(result)}\")\n"
   ]
  },
  {
   "cell_type": "code",
   "execution_count": 32,
   "metadata": {},
   "outputs": [
    {
     "name": "stdout",
     "output_type": "stream",
     "text": [
      "Значение выражения (-X or Y) and (X or -Z): True\n",
      "X | Y | Z | (-X or Y) and (X or -Z)\n",
      "----------------------------------\n",
      "0 | 0 | 0 | 1\n",
      "0 | 0 | 1 | 0\n",
      "0 | 1 | 0 | 1\n",
      "0 | 1 | 1 | 0\n",
      "1 | 0 | 0 | 0\n",
      "1 | 0 | 1 | 0\n",
      "1 | 1 | 0 | 1\n",
      "1 | 1 | 1 | 1\n"
     ]
    }
   ],
   "source": [
    "class LogicExpressionChecker:\n",
    "    def __init__(self):\n",
    "        self.X = False\n",
    "        self.Y = False\n",
    "        self.Z = False\n",
    "\n",
    "    def input_values(self):\n",
    "        self.X = bool(int(input(\"Введите значение X (0 или 1): \")))\n",
    "        self.Y = bool(int(input(\"Введите значение Y (0 или 1): \")))\n",
    "        self.Z = bool(int(input(\"Введите значение Z (0 или 1): \")))\n",
    "\n",
    "    def evaluate_expression(self):\n",
    "        \"\"\"Вычисляет значение логического выражения (-x or y) and (x or -z).\"\"\"\n",
    "        return (not self.X or self.Y) and (self.X or not self.Z)\n",
    "\n",
    "    def print_truth_table(self):\n",
    "        \"\"\"Выводит таблицу истинности для выражения.\"\"\"\n",
    "        print(\"X | Y | Z | (-X or Y) and (X or -Z)\")\n",
    "        print(\"----------------------------------\")\n",
    "        for x in [False, True]:\n",
    "            for y in [False, True]:\n",
    "                for z in [False, True]:\n",
    "                    self.X = x\n",
    "                    self.Y = y\n",
    "                    self.Z = z\n",
    "                    result = self.evaluate_expression()\n",
    "                    print(f\"{int(x)} | {int(y)} | {int(z)} | {int(result)}\")\n",
    "\n",
    "checker = LogicExpressionChecker()\n",
    "\n",
    "checker.input_values()\n",
    "\n",
    "print(\"Значение выражения (-X or Y) and (X or -Z):\", checker.evaluate_expression())\n",
    "\n",
    "checker.print_truth_table()"
   ]
  },
  {
   "cell_type": "code",
   "execution_count": 12,
   "metadata": {},
   "outputs": [
    {
     "name": "stdout",
     "output_type": "stream",
     "text": [
      "Студент получит стипендию.\n"
     ]
    }
   ],
   "source": [
    "#Задание 15\n",
    "physics = int(input(\"Введите оценку по физике: \"))\n",
    "math = int(input(\"Введите оценку по математике: \"))\n",
    "informatics = int(input(\"Введите оценку по информатике: \"))\n",
    "\n",
    "scholarship = (physics >= 4) and (math >= 4) and (informatics >= 4)\n",
    "\n",
    "if scholarship:\n",
    "    print(\"Студент получит стипендию.\")\n",
    "else:\n",
    "    print(\"Студент не получит стипендию.\")\n"
   ]
  },
  {
   "cell_type": "code",
   "execution_count": 10,
   "metadata": {},
   "outputs": [
    {
     "name": "stdout",
     "output_type": "stream",
     "text": [
      "оценка по физике: False\n",
      "оценка по математике и информатике: True\n",
      "Студент получит стипендию: True\n"
     ]
    }
   ],
   "source": [
    "class NumberChecker:\n",
    "    def __init__(self):\n",
    "        self.A = 0\n",
    "        self.B = 0\n",
    "        self.C = 0\n",
    "\n",
    "    def input_numbers(self):\n",
    "        self.A = int(input(\"Введите оценку по физике (от 1 до 5): \"))\n",
    "        self.B = int(input(\"Введите оценку по математике (от 1 до 5): \"))\n",
    "        self.C = int(input(\"Введите оценку по информатике (от 1 до 5): \"))\n",
    "\n",
    "    def is_one_even(self):\n",
    "        return (self.A % 2 == 0) != (self.B % 2 == 0)\n",
    "    \n",
    "    def are_all_multiples_of_three(self):\n",
    "        return (self.A % 3 == 0) and (self.B % 3 == 0) and (self.C % 3 == 0)\n",
    "\n",
    "    def is_scholarship_granted(self):\n",
    "        return (self.A >= 4) and (self.B >= 4) and (self.C >= 4)\n",
    "\n",
    "checker = NumberChecker()\n",
    "\n",
    "checker.input_numbers()\n",
    "\n",
    "print(\"оценка по физике:\", checker.is_one_even())\n",
    "print(\"оценка по математике и информатике:\", checker.are_all_multiples_of_three())\n",
    "print(\"Студент получит стипендию:\", checker.is_scholarship_granted())\n"
   ]
  },
  {
   "cell_type": "code",
   "execution_count": 14,
   "metadata": {},
   "outputs": [
    {
     "name": "stdout",
     "output_type": "stream",
     "text": [
      "Ровно два числа из A, B, C, D четные: False\n"
     ]
    }
   ],
   "source": [
    "#Задание 16\n",
    "A = int(input(\"Введите число A: \"))\n",
    "B = int(input(\"Введите число B: \"))\n",
    "C = int(input(\"Введите число C: \"))\n",
    "D = int(input(\"Введите число D: \"))\n",
    "\n",
    "is_A_even = (A % 2 == 0)\n",
    "is_B_even = (B % 2 == 0)\n",
    "is_C_even = (C % 2 == 0)\n",
    "is_D_even = (D % 2 == 0)\n",
    "\n",
    "even_count = sum([is_A_even, is_B_even, is_C_even, is_D_even])\n",
    "\n",
    "exactly_two_even = (even_count == 2)\n",
    "\n",
    "print(\"Ровно два числа из A, B, C, D четные:\", exactly_two_even)\n"
   ]
  },
  {
   "cell_type": "code",
   "execution_count": 11,
   "metadata": {},
   "outputs": [
    {
     "name": "stdout",
     "output_type": "stream",
     "text": [
      "Только одно из чисел A и B чётное: True\n",
      "Каждое из чисел A, B, C четное: False\n",
      "Два из чисел A, B, C, D чётные: False\n"
     ]
    }
   ],
   "source": [
    "class NumberChecker:\n",
    "    def __init__(self):\n",
    "        self.A = 0\n",
    "        self.B = 0\n",
    "        self.C = 0\n",
    "        self.D = 0\n",
    "\n",
    "    def input_numbers(self):\n",
    "        self.A = int(input(\"Введите число A: \"))\n",
    "        self.B = int(input(\"Введите число B: \"))\n",
    "        self.C = int(input(\"Введите число C: \"))\n",
    "        self.D = int(input(\"Введите число D: \"))\n",
    "\n",
    "    def is_one_even(self):\n",
    "        return (self.A % 2 == 0) != (self.B % 2 == 0)\n",
    "    \n",
    "    def are_all_multiples_of_three(self):\n",
    "        return (self.A % 3 == 0) and (self.B % 3 == 0) and (self.C % 3 == 0)\n",
    "\n",
    "    def are_all_even(self):\n",
    "        even_count = sum(1 for x in [self.A, self.B, self.C, self.D] if x % 2 == 0)\n",
    "        return even_count == 2\n",
    "\n",
    "checker = NumberChecker()\n",
    "\n",
    "checker.input_numbers()\n",
    "\n",
    "print(\"Только одно из чисел A и B чётное:\", checker.is_one_even())\n",
    "print(\"Каждое из чисел A, B, C четное:\", checker.are_all_multiples_of_three())\n",
    "print(\"Два из чисел A, B, C, D чётные:\", checker.are_all_even())\n"
   ]
  },
  {
   "cell_type": "code",
   "execution_count": null,
   "metadata": {},
   "outputs": [
    {
     "name": "stdout",
     "output_type": "stream",
     "text": [
      "Одно из чисел делится на 3, а другое на 5: False\n"
     ]
    }
   ],
   "source": [
    "#Задание 17\n",
    "A = int(input(\"Введите число A: \"))\n",
    "B = int(input(\"Введите число B: \"))\n",
    "C = int(input(\"Введите число C: \"))\n",
    "D = int(input(\"Введите число D: \"))\n",
    "\n",
    "is_one_divisible_by_3 = (A % 3 == 0) + (B % 3 == 0) + (C % 3 == 0) + (D % 3 == 0) == 1\n",
    "is_one_divisible_by_5 = (A % 5 == 0) + (B % 5 == 0) + (C % 5 == 0) + (D % 5 == 0) == 1\n",
    "\n",
    "result = is_one_divisible_by_3 and is_one_divisible_by_5\n",
    "\n",
    "print(\"Одно из чисел делится на 3, а другое на 5:\", result)\n"
   ]
  },
  {
   "cell_type": "code",
   "execution_count": 15,
   "metadata": {},
   "outputs": [
    {
     "name": "stdout",
     "output_type": "stream",
     "text": [
      "Условия не выполнены.\n"
     ]
    }
   ],
   "source": [
    "class NumberChecker:\n",
    "    def __init__(self):\n",
    "        self.A = 0\n",
    "        self.B = 0\n",
    "        self.C = 0\n",
    "        self.D = 0\n",
    "\n",
    "    def input_numbers(self):\n",
    "        self.A = int(input(\"Введите число A: \"))\n",
    "        self.B = int(input(\"Введите число B: \"))\n",
    "        self.C = int(input(\"Введите число C: \"))\n",
    "        self.D = int(input(\"Введите число D: \"))\n",
    "\n",
    "    def one_divisible_by_three_and_another_by_five(self):\n",
    "        divisible_by_three = [self.A, self.B, self.C, self.D].count(lambda x: x % 3 == 0) == 1\n",
    "        divisible_by_five = [self.A, self.B, self.C, self.D].count(lambda x: x % 5 == 0) == 1\n",
    "        return divisible_by_three and divisible_by_five\n",
    "    \n",
    "checker = NumberChecker()\n",
    "\n",
    "checker.input_numbers()\n",
    "\n",
    "if checker.one_divisible_by_three_and_another_by_five():\n",
    "    print(\"Одно из чисел делится на 3, другое — на 5.\")\n",
    "else:\n",
    "    print(\"Условия не выполнены.\")\n"
   ]
  },
  {
   "cell_type": "code",
   "execution_count": 21,
   "metadata": {},
   "outputs": [
    {
     "name": "stdout",
     "output_type": "stream",
     "text": [
      "Итоговая стоимость покупки со скидкой: 12.00 руб.\n"
     ]
    }
   ],
   "source": [
    "#Задание 18\n",
    "def calculate_discounted_price(purchase_amount):\n",
    "    if 10000 < purchase_amount < 20000:\n",
    "        discount_rate = 0.05\n",
    "    elif 20000 < purchase_amount < 50000:\n",
    "        discount_rate = 0.10\n",
    "    else:\n",
    "        discount_rate = 0.0 \n",
    "\n",
    "    discounted_price = purchase_amount * (1 - discount_rate)\n",
    "    return discounted_price\n",
    "\n",
    "purchase = float(input(\"Введите стоимость покупки: \"))\n",
    "total_price = calculate_discounted_price(purchase)\n",
    "print(f\"Итоговая стоимость покупки со скидкой: {total_price:.2f} руб.\")\n"
   ]
  },
  {
   "cell_type": "code",
   "execution_count": 22,
   "metadata": {},
   "outputs": [
    {
     "name": "stdout",
     "output_type": "stream",
     "text": [
      "Сумма к оплате с учетом скидки: 12.00 рублей\n"
     ]
    }
   ],
   "source": [
    "class PurchaseCalculator:\n",
    "    def __init__(self):\n",
    "        self.purchase_amount = 0\n",
    "\n",
    "    def input_data(self):\n",
    "        self.purchase_amount = float(input(\"Введите стоимость покупки: \"))\n",
    "\n",
    "    def calculate_total(self):\n",
    "        if 10000 < self.purchase_amount < 20000:\n",
    "            discount = 0.05 \n",
    "        elif 20000 < self.purchase_amount < 50000:\n",
    "            discount = 0.10 \n",
    "        else:\n",
    "            discount = 0 \n",
    "\n",
    "        total_amount = self.purchase_amount * (1 - discount)\n",
    "        return total_amount\n",
    "\n",
    "purchase_calculator = PurchaseCalculator()\n",
    "\n",
    "purchase_calculator.input_data()\n",
    "total_payment = purchase_calculator.calculate_total()\n",
    "print(f\"Сумма к оплате с учетом скидки: {total_payment:.2f} рублей\")\n"
   ]
  },
  {
   "cell_type": "code",
   "execution_count": 23,
   "metadata": {},
   "outputs": [
    {
     "name": "stdout",
     "output_type": "stream",
     "text": [
      "Итоговая зарплата с надбавкой: 14.30 руб.\n"
     ]
    }
   ],
   "source": [
    "#Задание 19\n",
    "def calculate_salary_bonus(years_of_experience, base_salary):\n",
    "    if 5 <= years_of_experience < 10:\n",
    "        bonus_rate = 0.02 \n",
    "    elif 10 <= years_of_experience < 20:\n",
    "        bonus_rate = 0.10 \n",
    "    else:\n",
    "        bonus_rate = 0.0 \n",
    "\n",
    "    bonus = base_salary * bonus_rate\n",
    "    total_salary = base_salary + bonus\n",
    "    return total_salary\n",
    "\n",
    "years = int(input(\"Введите стаж работы в годах: \"))\n",
    "salary = float(input(\"Введите базовую зарплату: \"))\n",
    "total_salary_with_bonus = calculate_salary_bonus(years, salary)\n",
    "print(f\"Итоговая зарплата с надбавкой: {total_salary_with_bonus:.2f} руб.\")\n"
   ]
  },
  {
   "cell_type": "code",
   "execution_count": 24,
   "metadata": {},
   "outputs": [
    {
     "name": "stdout",
     "output_type": "stream",
     "text": [
      "Надбавка за стаж: 1.30\n",
      "Итоговая зарплата с учетом надбавки: 14.30\n"
     ]
    }
   ],
   "source": [
    "class SalaryCalculator:\n",
    "    def __init__(self):\n",
    "        self.experience = 0\n",
    "        self.salary = 0\n",
    "\n",
    "    def input_data(self):\n",
    "        self.salary = float(input(\"Введите размер зарплаты: \"))\n",
    "        self.experience = int(input(\"Введите стаж работы (лет): \"))\n",
    "\n",
    "    def calculate_bonus(self):\n",
    "        if 5 <= self.experience < 10:\n",
    "            bonus_percentage = 0.02\n",
    "        elif 10 <= self.experience < 20:\n",
    "            bonus_percentage = 0.10\n",
    "        else:\n",
    "            bonus_percentage = 0.0 \n",
    "\n",
    "        bonus_amount = self.salary * bonus_percentage\n",
    "        return bonus_amount\n",
    "\n",
    "    def calculate_total_salary(self):\n",
    "      bonus = self.calculate_bonus()\n",
    "      total_salary = self.salary + bonus\n",
    "      return total_salary\n",
    "\n",
    "\n",
    "salary_calculator = SalaryCalculator()\n",
    "\n",
    "salary_calculator.input_data()\n",
    "bonus = salary_calculator.calculate_bonus()\n",
    "total_salary = salary_calculator.calculate_total_salary()\n",
    "\n",
    "print(f\"Надбавка за стаж: {bonus:.2f}\")\n",
    "print(f\"Итоговая зарплата с учетом надбавки: {total_salary:.2f}\")"
   ]
  },
  {
   "cell_type": "code",
   "execution_count": 25,
   "metadata": {},
   "outputs": [
    {
     "name": "stdout",
     "output_type": "stream",
     "text": [
      "Результат выражения (X or not( not Y and Z) and Y): True\n",
      "\n",
      "Таблица истинности:\n",
      "X\tY\tZ\tРезультат\n",
      "------------------------------\n",
      "True\tTrue\tTrue\tTrue\n",
      "True\tTrue\tFalse\tTrue\n",
      "True\tFalse\tTrue\tTrue\n",
      "True\tFalse\tFalse\tTrue\n",
      "False\tTrue\tTrue\tTrue\n",
      "False\tTrue\tFalse\tTrue\n",
      "False\tFalse\tTrue\tFalse\n",
      "False\tFalse\tFalse\tFalse\n"
     ]
    }
   ],
   "source": [
    "#Задание 20\n",
    "X = bool(input(\"Введите значение X (True/False): \"))\n",
    "Y = bool(input(\"Введите значение Y (True/False): \"))\n",
    "Z = bool(input(\"Введите значение Z (True/False): \"))\n",
    "\n",
    "result = X or not(not Y and Z) and Y\n",
    "\n",
    "print(\"Результат выражения (X or not( not Y and Z) and Y):\", result)\n",
    "\n",
    "print(\"\\nТаблица истинности:\")\n",
    "print(\"X\\tY\\tZ\\tРезультат\")\n",
    "print(\"-\" * 30)\n",
    "\n",
    "for X in [True, False]:\n",
    "    for Y in [True, False]:\n",
    "        for Z in [True, False]:\n",
    "            result = X or not(not Y and Z) and Y\n",
    "            print(f\"{X}\\t{Y}\\t{Z}\\t{result}\")"
   ]
  },
  {
   "cell_type": "code",
   "execution_count": 20,
   "metadata": {},
   "outputs": [
    {
     "name": "stdout",
     "output_type": "stream",
     "text": [
      "Значение выражения (X or not( not Y and Z) and Y): True\n",
      "X | Y | Z | (X or not( not Y and Z) and Y)\n",
      "----------------------------------------\n",
      "0 | 0 | 0 | 0\n",
      "0 | 0 | 1 | 0\n",
      "0 | 1 | 0 | 1\n",
      "0 | 1 | 1 | 1\n",
      "1 | 0 | 0 | 1\n",
      "1 | 0 | 1 | 1\n",
      "1 | 1 | 0 | 1\n",
      "1 | 1 | 1 | 1\n"
     ]
    }
   ],
   "source": [
    "class LogicExpressionChecker:\n",
    "    def __init__(self):\n",
    "        self.X = False\n",
    "        self.Y = False\n",
    "        self.Z = False\n",
    "\n",
    "    def input_values(self):\n",
    "        self.X = bool(int(input(\"Введите значение X (0 для False или 1 для True): \")))\n",
    "        self.Y = bool(int(input(\"Введите значение Y (0 для False или 1 для True): \")))\n",
    "        self.Z = bool(int(input(\"Введите значение Z (0 для False или 1 для True): \")))\n",
    "\n",
    "    def evaluate_expression(self):\n",
    "        return self.X or not (not self.Y and self.Z) and self.Y\n",
    "\n",
    "    def print_truth_table(self):\n",
    "        print(\"X | Y | Z | (X or not( not Y and Z) and Y)\")\n",
    "        print(\"-\" * 40)\n",
    "        for x in [False, True]:\n",
    "            for y in [False, True]:\n",
    "                for z in [False, True]:\n",
    "                    self.X = x\n",
    "                    self.Y = y\n",
    "                    self.Z = z\n",
    "                    result = self.evaluate_expression()\n",
    "                    print(f\"{int(x)} | {int(y)} | {int(z)} | {int(result)}\")\n",
    "\n",
    "\n",
    "if __name__ == \"__main__\":\n",
    "    checker = LogicExpressionChecker()\n",
    "\n",
    "    checker.input_values()\n",
    "\n",
    "    print(\"Значение выражения (X or not( not Y and Z) and Y):\", checker.evaluate_expression())\n",
    "\n",
    "    checker.print_truth_table()\n"
   ]
  },
  {
   "cell_type": "code",
   "execution_count": 28,
   "metadata": {},
   "outputs": [
    {
     "name": "stdout",
     "output_type": "stream",
     "text": [
      "Коэффициент учёта стажа работы: 13\n"
     ]
    }
   ],
   "source": [
    "#Задание 21\n",
    "stazh = int(input(\"Введите стаж работы по специальности (в годах): \"))\n",
    "\n",
    "koefficient = 11 if stazh < 2 else 12 if stazh <= 5 else 13\n",
    "\n",
    "print(\"Коэффициент учёта стажа работы:\", koefficient)"
   ]
  },
  {
   "cell_type": "code",
   "execution_count": 31,
   "metadata": {},
   "outputs": [
    {
     "name": "stdout",
     "output_type": "stream",
     "text": [
      "Коэффициент учёта стажа работы: 13\n"
     ]
    }
   ],
   "source": [
    "class ExperienceCoefficientCalculator:\n",
    "    def __init__(self):\n",
    "        self.experience = 0\n",
    "\n",
    "    def input_experience(self):\n",
    "        self.experience = int(input(\"Введите стаж работы по специальности (в годах): \"))\n",
    "\n",
    "    def calculate_coefficient(self):\n",
    "        if self.experience < 2:\n",
    "            return 11\n",
    "        elif 2 <= self.experience <= 5:\n",
    "            return 12\n",
    "        else:\n",
    "            return 13\n",
    "\n",
    "calculator = ExperienceCoefficientCalculator()\n",
    "\n",
    "calculator.input_experience()\n",
    "\n",
    "coefficient = calculator.calculate_coefficient()\n",
    "print(f\"Коэффициент учёта стажа работы: {coefficient}\")"
   ]
  }
 ],
 "metadata": {
  "kernelspec": {
   "display_name": "Python 3",
   "language": "python",
   "name": "python3"
  },
  "language_info": {
   "codemirror_mode": {
    "name": "ipython",
    "version": 3
   },
   "file_extension": ".py",
   "mimetype": "text/x-python",
   "name": "python",
   "nbconvert_exporter": "python",
   "pygments_lexer": "ipython3",
   "version": "3.13.1"
  }
 },
 "nbformat": 4,
 "nbformat_minor": 2
}
