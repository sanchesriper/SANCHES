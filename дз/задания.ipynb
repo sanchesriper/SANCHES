{
 "cells": [
  {
   "cell_type": "code",
   "execution_count": 2,
   "metadata": {},
   "outputs": [],
   "source": [
    "import numpy as np\n",
    "import flet as ft\n"
   ]
  },
  {
   "cell_type": "code",
   "execution_count": 3,
   "metadata": {},
   "outputs": [
    {
     "name": "stdout",
     "output_type": "stream",
     "text": [
      "R = 746932.9\n"
     ]
    }
   ],
   "source": [
    "# Задание 1 \n",
    "t = float(input('Введите значение для перемнной t'))\n",
    "l = float(input('Введите значение для перемнной l'))\n",
    "\n",
    "print(f'R = {3 * np.power(t,2) + 3 * np.power(l,5) + 4.9}')"
   ]
  },
  {
   "cell_type": "code",
   "execution_count": 93,
   "metadata": {},
   "outputs": [
    {
     "name": "stdout",
     "output_type": "stream",
     "text": [
      "R = 746932.9\n"
     ]
    }
   ],
   "source": [
    "class MyClassTask1:\n",
    "    def __init__(self, t, l):\n",
    "        self.t = t\n",
    "        self.l = l\n",
    "\n",
    "    def calculate_R(self):\n",
    "        print(f'R = {3 * np.power(t,2) + 3 * np.power(l,5) + 4.9}')\n",
    "\n",
    "t = float(input('Введите значение для перемнной t'))\n",
    "l = float(input('Введите значение для перемнной l'))\n",
    "\n",
    "my_class = MyClassTask1(t,l)\n",
    "my_class.calculate_R()"
   ]
  },
  {
   "cell_type": "code",
   "execution_count": 81,
   "metadata": {},
   "outputs": [
    {
     "name": "stdout",
     "output_type": "stream",
     "text": [
      "K = 162758.06372484833\n"
     ]
    }
   ],
   "source": [
    "# Задание 2 \n",
    "p = float(input('Введите значение для переменной p'))\n",
    "y = float(input('Введите значение для переменной y'))\n",
    "print(f'K = {np.log10 (np.power(p,2) + np.power (y,3)) + np.exp(p) }')"
   ]
  },
  {
   "cell_type": "code",
   "execution_count": 98,
   "metadata": {},
   "outputs": [
    {
     "name": "stdout",
     "output_type": "stream",
     "text": [
      "K = 162758.06372484833\n"
     ]
    }
   ],
   "source": [
    "class MyClassTask2:\n",
    "    def __init__(self, p, y):\n",
    "        self.p = p\n",
    "        self.y = y\n",
    "\n",
    "    def calculate_R(self):\n",
    "        print(f'K = {np.log10 (np.power(p,2) + np.power (y,3)) + np.exp(p) }')\n",
    "\n",
    "p = float(input('Введите значение для перемнной p'))\n",
    "y = float(input('Введите значение для перемнной y'))\n",
    "\n",
    "my_class = MyClassTask2(p,y)\n",
    "my_class.calculate_R()"
   ]
  },
  {
   "cell_type": "code",
   "execution_count": 82,
   "metadata": {},
   "outputs": [
    {
     "name": "stdout",
     "output_type": "stream",
     "text": [
      "G = 189.46410161513776\n"
     ]
    }
   ],
   "source": [
    "# Задание 3\n",
    "n = float(input('Введите значение для переменной n'))\n",
    "y = float(input('Введите значение для переиенной y'))\n",
    "print(f'G = {n * (y + 3.5) + np.sqrt(y)}')\n"
   ]
  },
  {
   "cell_type": "code",
   "execution_count": 4,
   "metadata": {},
   "outputs": [
    {
     "name": "stdout",
     "output_type": "stream",
     "text": [
      "G = 189.46410161513776\n"
     ]
    }
   ],
   "source": [
    "class MyClassTask3:\n",
    "    def __init__(self, n, y):\n",
    "        self.n = n\n",
    "        self.y = y\n",
    "\n",
    "    def calculate_R(self):\n",
    "        print(f'G = {n * (y + 3.5) + np.sqrt(y)}')\n",
    "\n",
    "n = float(input('Введите значение для перемнной n'))\n",
    "y = float(input('Введите значение для перемнной y'))\n",
    "\n",
    "my_class = MyClassTask3(n,y)\n",
    "my_class.calculate_R()"
   ]
  },
  {
   "cell_type": "code",
   "execution_count": 102,
   "metadata": {},
   "outputs": [
    {
     "name": "stdout",
     "output_type": "stream",
     "text": [
      "D = 1414.2392809630765\n"
     ]
    }
   ],
   "source": [
    "# Задание 4 \n",
    "a = float(input('Введите значение для переменной a'))\n",
    "t = float(input('Введите значение для переменной t'))\n",
    "print(f'D = {9.8 * np.power(a,2) + 5.52 * np.cos(np.power(t,5))}')"
   ]
  },
  {
   "cell_type": "code",
   "execution_count": 103,
   "metadata": {},
   "outputs": [
    {
     "name": "stdout",
     "output_type": "stream",
     "text": [
      "D = 1414.2392809630765\n"
     ]
    }
   ],
   "source": [
    "class MyClassTask4:\n",
    "    def __init__(self, t, a):\n",
    "        self.t = t\n",
    "        self.a = a\n",
    "\n",
    "    def calculate_R(self):\n",
    "        print(f'D = {9.8 * np.power(a,2) + 5.52 * np.cos(np.power(t,5))}')\n",
    "\n",
    "t = float(input('Введите значение для перемнной t'))\n",
    "a = float(input('Введите значение для перемнной a'))\n",
    "\n",
    "my_class = MyClassTask4(t,a)\n",
    "my_class.calculate_R()"
   ]
  },
  {
   "cell_type": "code",
   "execution_count": 84,
   "metadata": {},
   "outputs": [
    {
     "name": "stdout",
     "output_type": "stream",
     "text": [
      "L = 3457.315432575559\n"
     ]
    }
   ],
   "source": [
    "# Задание 5 \n",
    "x = float(input('Введите значение для переменной x'))\n",
    "print(f'L = {1.51 * np.cos(np.power(x,2)) + 2 * np.power(x,3) }')"
   ]
  },
  {
   "cell_type": "code",
   "execution_count": 105,
   "metadata": {},
   "outputs": [
    {
     "name": "stdout",
     "output_type": "stream",
     "text": [
      "L = 3457.315432575559\n"
     ]
    }
   ],
   "source": [
    "class MyClassTask5:\n",
    "    def __init__(self, x):\n",
    "        self.x = x\n",
    "\n",
    "    def calculate_R(self):\n",
    "        print(f'L = {1.51 * np.cos(np.power(x,2)) + 2 * np.power(x,3) }')\n",
    "\n",
    "x = float(input('Введите значение для перемнной x'))\n",
    "\n",
    "my_class = MyClassTask5(x)\n",
    "my_class.calculate_R()"
   ]
  },
  {
   "cell_type": "code",
   "execution_count": 85,
   "metadata": {},
   "outputs": [
    {
     "name": "stdout",
     "output_type": "stream",
     "text": [
      "M = 585917.6732874215\n"
     ]
    }
   ],
   "source": [
    "# Задание 6\n",
    "y = float(input('Введите значение для переменной y'))\n",
    "x = float(input('Введите значение для переменной x'))\n",
    "\n",
    "print(f'M = {np.cos(2*y) + 3.6 * np.exp(x)}')\n"
   ]
  },
  {
   "cell_type": "code",
   "execution_count": 106,
   "metadata": {},
   "outputs": [
    {
     "name": "stdout",
     "output_type": "stream",
     "text": [
      "M = 585917.6732874215\n"
     ]
    }
   ],
   "source": [
    "class MyClassTask6:\n",
    "    def __init__(self, y, x):\n",
    "        self.y = y\n",
    "        self.x = x\n",
    "\n",
    "    def calculate_R(self):\n",
    "        print(f'M = {np.cos(2*y) + 3.6 * np.exp(x)}')\n",
    "\n",
    "x = float(input('Введите значение для перемнной x'))\n",
    "y = float(input('Введите значение для перемнной y'))\n",
    "\n",
    "my_class = MyClassTask6(x,y)\n",
    "my_class.calculate_R()"
   ]
  },
  {
   "cell_type": "code",
   "execution_count": 86,
   "metadata": {},
   "outputs": [
    {
     "name": "stdout",
     "output_type": "stream",
     "text": [
      "N = 178.15\n"
     ]
    }
   ],
   "source": [
    "#Задание 7\n",
    "m = float(input('Введите значение для переменной m'))\n",
    "\n",
    "print(f'N = {np.power(m,2) + 2.8 * np.abs(m) + 0.55}')"
   ]
  },
  {
   "cell_type": "code",
   "execution_count": 107,
   "metadata": {},
   "outputs": [
    {
     "name": "stdout",
     "output_type": "stream",
     "text": [
      "N = 178.15\n"
     ]
    }
   ],
   "source": [
    "class MyClassTask7:\n",
    "    def __init__(self, m):\n",
    "        self.m = m\n",
    "\n",
    "    def calculate_R(self):\n",
    "        print(f'N = {np.power(m,2) + 2.8 * np.abs(m) + 0.55}')\n",
    "\n",
    "m = float(input('Введите значение для перемнной m'))\n",
    "\n",
    "my_class = MyClassTask7(m)\n",
    "my_class.calculate_R()"
   ]
  },
  {
   "cell_type": "code",
   "execution_count": 87,
   "metadata": {},
   "outputs": [
    {
     "name": "stdout",
     "output_type": "stream",
     "text": [
      "T = 29.441467354736243\n"
     ]
    }
   ],
   "source": [
    "# Задание 8\n",
    "y = float(input('Введите значение для переменной y'))\n",
    "\n",
    "print(f'T = {np.sqrt(np.abs(6 * np.power(y,2) - 0.1 * y + 4))}')"
   ]
  },
  {
   "cell_type": "code",
   "execution_count": 12,
   "metadata": {},
   "outputs": [
    {
     "name": "stdout",
     "output_type": "stream",
     "text": [
      "T = 29.441467354736243\n"
     ]
    }
   ],
   "source": [
    "class MyClassTask8:\n",
    "    def __init__(self, y):\n",
    "        self.y= y\n",
    "\n",
    "    def calculate_R(self):\n",
    "        print(f'T = {np.sqrt(np.abs(6 * np.power(y,2) - 0.1 * y + 4))}')\n",
    "\n",
    "m = float(input('Введите значение для перемнной y'))\n",
    "\n",
    "my_class = MyClassTask8(y)\n",
    "my_class.calculate_R()"
   ]
  },
  {
   "cell_type": "code",
   "execution_count": 88,
   "metadata": {},
   "outputs": [
    {
     "name": "stdout",
     "output_type": "stream",
     "text": [
      "V = 2.1088842108278874\n"
     ]
    }
   ],
   "source": [
    "# Задание 9 \n",
    "y = float(input('Введите значение для переменной y'))\n",
    "x = float(input('Введите значение для переменной x'))\n",
    "\n",
    "print(f'V = {np.log10( y + 0.95) + np.sin(np.power(x,4))}')"
   ]
  },
  {
   "cell_type": "code",
   "execution_count": 5,
   "metadata": {},
   "outputs": [
    {
     "name": "stdout",
     "output_type": "stream",
     "text": [
      "V = 2.1088842108278874\n"
     ]
    }
   ],
   "source": [
    "class MyClassTask9:\n",
    "    def __init__(self, y, x):\n",
    "        self.y = y\n",
    "        self.x = x\n",
    "\n",
    "    def calculate_R(self):\n",
    "        print(f'V = {np.log10( y + 0.95) + np.sin(np.power(x,4))}')\n",
    "\n",
    "x = float(input('Введите значение для перемнной x'))\n",
    "y = float(input('Введите значение для перемнной y'))\n",
    "\n",
    "my_class = MyClassTask9(x,y)\n",
    "my_class.calculate_R()"
   ]
  },
  {
   "cell_type": "code",
   "execution_count": 89,
   "metadata": {},
   "outputs": [
    {
     "name": "stdout",
     "output_type": "stream",
     "text": [
      "U = 163814.19932950023\n"
     ]
    }
   ],
   "source": [
    "# Задание 10\n",
    "k = float(input('Введите значение для переменной k'))\n",
    "y = float(input('Введите значение для переменной y'))\n",
    "x = float(input('Введите значение для переменной x'))\n",
    "\n",
    "print(f'U = {np.exp(y) + 7.355 * np.power(k,2) + np.power(np.sin(x),2)}')"
   ]
  },
  {
   "cell_type": "code",
   "execution_count": 7,
   "metadata": {},
   "outputs": [
    {
     "name": "stdout",
     "output_type": "stream",
     "text": [
      "U = 163814.19932950023\n"
     ]
    }
   ],
   "source": [
    "class MyClassTask10:\n",
    "    def __init__(self, y, x, k):\n",
    "        self.y = y\n",
    "        self.x = x\n",
    "        self.k = k\n",
    "\n",
    "    def calculate_R(self):\n",
    "        print(f'U = {np.exp(y) + 7.355 * np.power(k,2) + np.power(np.sin(x),2)}')\n",
    "\n",
    "x = float(input('Введите значение для перемнной x'))\n",
    "y = float(input('Введите значение для перемнной y'))\n",
    "k = float(input('Введите значение для перемнной k'))\n",
    "\n",
    "my_class = MyClassTask10(x,y,k)\n",
    "my_class.calculate_R()"
   ]
  },
  {
   "cell_type": "code",
   "execution_count": 90,
   "metadata": {},
   "outputs": [
    {
     "name": "stdout",
     "output_type": "stream",
     "text": [
      "S = 349575117.5762801\n"
     ]
    }
   ],
   "source": [
    "# Задание 11\n",
    "y = float(input('Введите значение для переменной y'))\n",
    "x = float(input('Введите значение для переменной x'))\n",
    "\n",
    "print(f'S = {9.756 * np.power(y,7) + 2 * np.tan(x)}')\n"
   ]
  },
  {
   "cell_type": "code",
   "execution_count": 8,
   "metadata": {},
   "outputs": [
    {
     "name": "stdout",
     "output_type": "stream",
     "text": [
      "S = 349575117.5762801\n"
     ]
    }
   ],
   "source": [
    "class MyClassTask11:\n",
    "    def __init__(self, y, x):\n",
    "        self.y = y\n",
    "        self.x = x\n",
    "\n",
    "    def calculate_R(self):\n",
    "        print(f'S = {9.756 * np.power(y,7) + 2 * np.tan(x)}')\n",
    "\n",
    "x = float(input('Введите значение для перемнной x'))\n",
    "y = float(input('Введите значение для перемнной y'))\n",
    "\n",
    "my_class = MyClassTask11(x,y)\n",
    "my_class.calculate_R()"
   ]
  },
  {
   "cell_type": "code",
   "execution_count": 18,
   "metadata": {},
   "outputs": [
    {
     "name": "stdout",
     "output_type": "stream",
     "text": [
      "K = 1017.5711680636888\n"
     ]
    }
   ],
   "source": [
    "# Задание 12\n",
    "t = float(input('Введите значение для переменной t'))\n",
    "x = float(input('Введите значение для переменной x'))\n",
    "\n",
    "print(f'K = {7 * np.power(t,2) + 3 * np.sin(np.power(x,3)) + 9.2}')"
   ]
  },
  {
   "cell_type": "code",
   "execution_count": null,
   "metadata": {},
   "outputs": [
    {
     "name": "stdout",
     "output_type": "stream",
     "text": [
      "K = 1017.5711680636888\n"
     ]
    }
   ],
   "source": [
    "class MyClassTask12:\n",
    "    def __init__(self, y, x):\n",
    "        self.t = t\n",
    "        self.x = x\n",
    "\n",
    "    def calculate_R(self):\n",
    "        print(f'K = {7 * np.power(t,2) + 3 * np.sin(np.power(x,3)) + 9.2}')\n",
    "\n",
    "x = float(input('Введите значение для перемнной x'))\n",
    "t = float(input('Введите значение для перемнной t'))\n",
    "\n",
    "my_class = MyClassTask12(x,t)\n",
    "my_class.calculate_R()"
   ]
  },
  {
   "cell_type": "code",
   "execution_count": 19,
   "metadata": {},
   "outputs": [
    {
     "name": "stdout",
     "output_type": "stream",
     "text": [
      "E = 21.02379604162864\n"
     ]
    }
   ],
   "source": [
    "# Задание 13\n",
    "y = float(input('Введите значение для переменной y'))\n",
    "\n",
    "print(f'E = {np.sqrt(np.abs(3 * np.power(y,2) + 0.5 * y + 4))}')"
   ]
  },
  {
   "cell_type": "code",
   "execution_count": 14,
   "metadata": {},
   "outputs": [
    {
     "name": "stdout",
     "output_type": "stream",
     "text": [
      "E = 21.02379604162864\n"
     ]
    }
   ],
   "source": [
    "class MyClassTask13:\n",
    "    def __init__(self, y):\n",
    "        self.y= y\n",
    "\n",
    "    def calculate_R(self):\n",
    "        print(f'E = {np.sqrt(np.abs(3 * np.power(y,2) + 0.5 * y + 4))}')\n",
    "\n",
    "m = float(input('Введите значение для перемнной y'))\n",
    "\n",
    "my_class = MyClassTask13(y)\n",
    "my_class.calculate_R()"
   ]
  },
  {
   "cell_type": "code",
   "execution_count": 25,
   "metadata": {},
   "outputs": [
    {
     "name": "stdout",
     "output_type": "stream",
     "text": [
      "R = 162762.1629919219\n"
     ]
    }
   ],
   "source": [
    "# Задание 14 \n",
    "y = float(input('Введите значение для переменной y'))\n",
    "x = float(input('Введите значение для переменной x'))\n",
    "\n",
    "print(f'R = {np.abs(np.sqrt(np.power(np.sin(y),2))) + 6.835 + np.exp(x)}')"
   ]
  },
  {
   "cell_type": "code",
   "execution_count": 15,
   "metadata": {},
   "outputs": [
    {
     "name": "stdout",
     "output_type": "stream",
     "text": [
      "R = 162762.1629919219\n"
     ]
    }
   ],
   "source": [
    "class MyClassTask14:\n",
    "    def __init__(self, y, x):\n",
    "        self.y = y\n",
    "        self.x = x\n",
    "\n",
    "    def calculate_R(self):\n",
    "        print(f'R = {np.abs(np.sqrt(np.power(np.sin(y),2))) + 6.835 + np.exp(x)}')\n",
    "\n",
    "x = float(input('Введите значение для перемнной x'))\n",
    "y = float(input('Введите значение для перемнной y'))\n",
    "\n",
    "my_class = MyClassTask14(x,y)\n",
    "my_class.calculate_R()"
   ]
  },
  {
   "cell_type": "code",
   "execution_count": 27,
   "metadata": {},
   "outputs": [
    {
     "name": "stdout",
     "output_type": "stream",
     "text": [
      "H = -30.626919978760707\n"
     ]
    }
   ],
   "source": [
    "# Задание 15\n",
    "y = float(input('Введите значение для переменной y'))\n",
    "\n",
    "print(f'H = {np.sin(np.power(y,2)) - 2.8 * y + np.sqrt(np.abs(y))}')"
   ]
  },
  {
   "cell_type": "code",
   "execution_count": 16,
   "metadata": {},
   "outputs": [
    {
     "name": "stdout",
     "output_type": "stream",
     "text": [
      "H = -30.626919978760707\n"
     ]
    }
   ],
   "source": [
    "class MyClassTask15:\n",
    "    def __init__(self, y):\n",
    "        self.y= y\n",
    "\n",
    "    def calculate_R(self):\n",
    "        print(f'H = {np.sin(np.power(y,2)) - 2.8 * y + np.sqrt(np.abs(y))}')\n",
    "\n",
    "m = float(input('Введите значение для перемнной y'))\n",
    "\n",
    "my_class = MyClassTask15(y)\n",
    "my_class.calculate_R()"
   ]
  },
  {
   "cell_type": "code",
   "execution_count": 28,
   "metadata": {},
   "outputs": [
    {
     "name": "stdout",
     "output_type": "stream",
     "text": [
      "S = 2.7496881232886135\n"
     ]
    }
   ],
   "source": [
    "# Задание 16\n",
    "y = float(input('Введите значение для переменной y'))\n",
    "\n",
    "print(f'S = {np.sqrt(np.power(np.cos(4 * y),2) + 7.151)}')"
   ]
  },
  {
   "cell_type": "code",
   "execution_count": 17,
   "metadata": {},
   "outputs": [
    {
     "name": "stdout",
     "output_type": "stream",
     "text": [
      "S = 2.7496881232886135\n"
     ]
    }
   ],
   "source": [
    "class MyClassTask16:\n",
    "    def __init__(self, y):\n",
    "        self.y= y\n",
    "\n",
    "    def calculate_R(self):\n",
    "        print(f'S = {np.sqrt(np.power(np.cos(4 * y),2) + 7.151)}')\n",
    "\n",
    "m = float(input('Введите значение для перемнной y'))\n",
    "\n",
    "my_class = MyClassTask16(y)\n",
    "my_class.calculate_R()"
   ]
  },
  {
   "cell_type": "code",
   "execution_count": 31,
   "metadata": {},
   "outputs": [
    {
     "name": "stdout",
     "output_type": "stream",
     "text": [
      " N = 435.605551275464\n"
     ]
    }
   ],
   "source": [
    "# Задание 17\n",
    "y = float(input('Введите значение для переменной y'))\n",
    "\n",
    "print(f' N = {3 * np.power(y,2) + np.sqrt(y + 1)}')"
   ]
  },
  {
   "cell_type": "code",
   "execution_count": 18,
   "metadata": {},
   "outputs": [
    {
     "name": "stdout",
     "output_type": "stream",
     "text": [
      " N = 435.605551275464\n"
     ]
    }
   ],
   "source": [
    "class MyClassTask17:\n",
    "    def __init__(self, y):\n",
    "        self.y= y\n",
    "\n",
    "    def calculate_R(self):\n",
    "        print(f' N = {3 * np.power(y,2) + np.sqrt(y + 1)}')\n",
    "\n",
    "m = float(input('Введите значение для перемнной y'))\n",
    "\n",
    "my_class = MyClassTask17(y)\n",
    "my_class.calculate_R()"
   ]
  },
  {
   "cell_type": "code",
   "execution_count": 34,
   "metadata": {},
   "outputs": [
    {
     "name": "stdout",
     "output_type": "stream",
     "text": [
      "Z = 473.5812457725836\n"
     ]
    }
   ],
   "source": [
    "# Задание 18\n",
    "y = float(input('Введите значение для переменной y'))\n",
    "\n",
    "print(f'Z = {3 * np.power(y,2) + np.sqrt(np.power(y,3) + 1)}')"
   ]
  },
  {
   "cell_type": "code",
   "execution_count": 19,
   "metadata": {},
   "outputs": [
    {
     "name": "stdout",
     "output_type": "stream",
     "text": [
      "Z = 473.5812457725836\n"
     ]
    }
   ],
   "source": [
    "class MyClassTask18:\n",
    "    def __init__(self, y):\n",
    "        self.y= y\n",
    "\n",
    "    def calculate_R(self):\n",
    "        print(f'Z = {3 * np.power(y,2) + np.sqrt(np.power(y,3) + 1)}')\n",
    "\n",
    "m = float(input('Введите значение для перемнной y'))\n",
    "\n",
    "my_class = MyClassTask18(y)\n",
    "my_class.calculate_R()"
   ]
  },
  {
   "cell_type": "code",
   "execution_count": 30,
   "metadata": {},
   "outputs": [
    {
     "name": "stdout",
     "output_type": "stream",
     "text": [
      "P = 500.71500876246955\n"
     ]
    }
   ],
   "source": [
    "# Задание 19\n",
    "y = float(input('Введите значение для переменной y'))\n",
    "g = float(input('Введите значение для переменной g'))\n",
    "n = float(input('Введите значение для переменной n'))\n",
    "\n",
    "print(f'P = {n * np.sqrt(np.power(y,3) + 1.09 * g)}')"
   ]
  },
  {
   "cell_type": "code",
   "execution_count": 21,
   "metadata": {},
   "outputs": [
    {
     "name": "stdout",
     "output_type": "stream",
     "text": [
      "P = 500.71500876246955\n"
     ]
    }
   ],
   "source": [
    "class MyClassTask19:\n",
    "    def __init__(self, y, g, n):\n",
    "        self.y = y\n",
    "        self.g = g\n",
    "        self.n = n\n",
    "\n",
    "    def calculate_R(self):\n",
    "        print(f'P = {n * np.sqrt(np.power(y,3) + 1.09 * g)}')\n",
    "\n",
    "y = float(input('Введите значение для перемнной y'))\n",
    "g = float(input('Введите значение для перемнной g'))\n",
    "n = float(input('Введите значение для перемнной n'))\n",
    "\n",
    "my_class = MyClassTask19(y,g,n)\n",
    "my_class.calculate_R()"
   ]
  },
  {
   "cell_type": "code",
   "execution_count": 38,
   "metadata": {},
   "outputs": [
    {
     "name": "stdout",
     "output_type": "stream",
     "text": [
      "U = 26489122127.64079\n"
     ]
    }
   ],
   "source": [
    "# Задание 20\n",
    "y = float(input('Введите значение для переменной y'))\n",
    "x = float(input('Введите значение для переменной x'))\n",
    "k = float(input('Введите значение для переменной k'))\n",
    "\n",
    "print(f'U = {np.exp(k + y) + np.tan(x)*np.sqrt(y)}')"
   ]
  },
  {
   "cell_type": "code",
   "execution_count": 22,
   "metadata": {},
   "outputs": [
    {
     "name": "stdout",
     "output_type": "stream",
     "text": [
      "U = 26489122127.64079\n"
     ]
    }
   ],
   "source": [
    "class MyClassTask20:\n",
    "    def __init__(self, y, x, k):\n",
    "        self.y = y\n",
    "        self.x = x\n",
    "        self.k = k\n",
    "\n",
    "    def calculate_R(self):\n",
    "        print(f'U = {np.exp(k + y) + np.tan(x)*np.sqrt(y)}')\n",
    "\n",
    "y = float(input('Введите значение для перемнной y'))\n",
    "x = float(input('Введите значение для перемнной x'))\n",
    "k = float(input('Введите значение для перемнной k'))\n",
    "\n",
    "my_class = MyClassTask20(y,x,k)\n",
    "my_class.calculate_R()"
   ]
  },
  {
   "cell_type": "code",
   "execution_count": 39,
   "metadata": {},
   "outputs": [
    {
     "name": "stdout",
     "output_type": "stream",
     "text": [
      "P = 39840509.197576225\n"
     ]
    }
   ],
   "source": [
    "# Задание 21\n",
    "h = float(input('Введите значение для переменной h'))\n",
    "y = float(input('Введите значение для переменной y'))\n",
    "\n",
    "print(f'P = {np.exp(y + 5.5) + 9.1 * np.power(h,3)}')"
   ]
  },
  {
   "cell_type": "code",
   "execution_count": 25,
   "metadata": {},
   "outputs": [
    {
     "name": "stdout",
     "output_type": "stream",
     "text": [
      "P = 39840509.197576225\n"
     ]
    }
   ],
   "source": [
    "class MyClassTask21:\n",
    "    def __init__(self, y, h):\n",
    "        self.y = y\n",
    "        self.h = h\n",
    "\n",
    "    def calculate_R(self):\n",
    "        print(f'P = {np.exp(y + 5.5) + 9.1 * np.power(h,3)}')\n",
    "\n",
    "y = float(input('Введите значение для перемнной y'))\n",
    "h = float(input('Введите значение для перемнной h'))\n",
    "\n",
    "my_class = MyClassTask21(y,h)\n",
    "my_class.calculate_R()"
   ]
  },
  {
   "cell_type": "code",
   "execution_count": 40,
   "metadata": {},
   "outputs": [
    {
     "name": "stdout",
     "output_type": "stream",
     "text": [
      "T = -2.2318749127069295\n"
     ]
    }
   ],
   "source": [
    "# Задание 22\n",
    "u = float(input('Введите значение для переменной u'))\n",
    "y = float(input('Введите значение для переменной y'))\n",
    "x = float(input('Введите значение для переменной x'))\n",
    "\n",
    "print(f'T = {np.sin(2 * u)*np.log10(2 * np.power(y,2) + np.sqrt(x))}')"
   ]
  },
  {
   "cell_type": "code",
   "execution_count": 26,
   "metadata": {},
   "outputs": [
    {
     "name": "stdout",
     "output_type": "stream",
     "text": [
      "T = -2.2318749127069295\n"
     ]
    }
   ],
   "source": [
    "class MyClassTask22:\n",
    "    def __init__(self, y, x, u):\n",
    "        self.y = y\n",
    "        self.x = x\n",
    "        self.u = u\n",
    "\n",
    "    def calculate_R(self):\n",
    "        print(f'T = {np.sin(2 * u)*np.log10(2 * np.power(y,2) + np.sqrt(x))}')\n",
    "\n",
    "y = float(input('Введите значение для перемнной y'))\n",
    "x = float(input('Введите значение для перемнной x'))\n",
    "u = float(input('Введите значение для перемнной u'))\n",
    "\n",
    "my_class = MyClassTask22(y,x,u)\n",
    "my_class.calculate_R()"
   ]
  },
  {
   "cell_type": "code",
   "execution_count": 44,
   "metadata": {},
   "outputs": [
    {
     "name": "stdout",
     "output_type": "stream",
     "text": [
      "G = 26489122129.3069\n"
     ]
    }
   ],
   "source": [
    "# Задание 23\n",
    "y = float(input('Введите значение для переменной y'))\n",
    "f = float(input('Введите значение для переменной f'))\n",
    "\n",
    "print(f'G = {np.exp(2 * y) + np.sin(f)}')"
   ]
  },
  {
   "cell_type": "code",
   "execution_count": 27,
   "metadata": {},
   "outputs": [
    {
     "name": "stdout",
     "output_type": "stream",
     "text": [
      "G = 26489122129.3069\n"
     ]
    }
   ],
   "source": [
    "class MyClassTask23:\n",
    "    def __init__(self, y, f):\n",
    "        self.y = y\n",
    "        self.f = f\n",
    "\n",
    "    def calculate_R(self):\n",
    "        print(f'G = {np.exp(2 * y) + np.sin(f)}')\n",
    "\n",
    "y = float(input('Введите значение для перемнной y'))\n",
    "f = float(input('Введите значение для перемнной f'))\n",
    "\n",
    "my_class = MyClassTask23(y,f)\n",
    "my_class.calculate_R()"
   ]
  },
  {
   "cell_type": "code",
   "execution_count": 46,
   "metadata": {},
   "outputs": [
    {
     "name": "stdout",
     "output_type": "stream",
     "text": [
      "F = 1.7373503358763946\n"
     ]
    }
   ],
   "source": [
    "# Задание 24\n",
    "y = float(input('Введите значение для переменной y'))\n",
    "\n",
    "print(f'F = {2 * np.sin(0.214 * np.power(y,5) +1)}')"
   ]
  },
  {
   "cell_type": "code",
   "execution_count": 28,
   "metadata": {},
   "outputs": [
    {
     "name": "stdout",
     "output_type": "stream",
     "text": [
      "F = 1.7373503358763946\n"
     ]
    }
   ],
   "source": [
    "class MyClassTask24:\n",
    "    def __init__(self, y):\n",
    "        self.y= y\n",
    "\n",
    "    def calculate_R(self):\n",
    "        print(f'F = {2 * np.sin(0.214 * np.power(y,5) +1)}')\n",
    "\n",
    "m = float(input('Введите значение для перемнной y'))\n",
    "\n",
    "my_class = MyClassTask24(y)\n",
    "my_class.calculate_R()"
   ]
  },
  {
   "cell_type": "code",
   "execution_count": 45,
   "metadata": {},
   "outputs": [
    {
     "name": "stdout",
     "output_type": "stream",
     "text": [
      "G = 26489122129.35245\n"
     ]
    }
   ],
   "source": [
    "# Задание 25\n",
    "y = float(input('Введите значение для переменной y'))\n",
    "f = float(input('Введите значение для переменной f'))\n",
    "\n",
    "print(f'G = {np.exp(2 * y) + np.sin(np.power(f,2))}')"
   ]
  },
  {
   "cell_type": "code",
   "execution_count": 29,
   "metadata": {},
   "outputs": [
    {
     "name": "stdout",
     "output_type": "stream",
     "text": [
      "G = 26489122129.35245\n"
     ]
    }
   ],
   "source": [
    "class MyClassTask25:\n",
    "    def __init__(self, y, f):\n",
    "        self.y = y\n",
    "        self.f = f\n",
    "\n",
    "    def calculate_R(self):\n",
    "        print(f'G = {np.exp(2 * y) + np.sin(np.power(f,2))}')\n",
    "\n",
    "y = float(input('Введите значение для перемнной y'))\n",
    "f = float(input('Введите значение для перемнной f'))\n",
    "\n",
    "my_class = MyClassTask25(y,f)\n",
    "my_class.calculate_R()"
   ]
  },
  {
   "cell_type": "code",
   "execution_count": 48,
   "metadata": {},
   "outputs": [
    {
     "name": "stdout",
     "output_type": "stream",
     "text": [
      "Z = -0.0014436655954017086\n"
     ]
    }
   ],
   "source": [
    "# Задание 26\n",
    "p = float(input('Введите значение для переменной p'))\n",
    "\n",
    "print(f'Z = {np.power(np.sin(np.power(p,2) + 0.4),3)}')"
   ]
  },
  {
   "cell_type": "code",
   "execution_count": 30,
   "metadata": {},
   "outputs": [
    {
     "name": "stdout",
     "output_type": "stream",
     "text": [
      "Z = -0.0014436655954017086\n"
     ]
    }
   ],
   "source": [
    "class MyClassTask26:\n",
    "    def __init__(self, p):\n",
    "        self.p = p\n",
    "\n",
    "    def calculate_R(self):\n",
    "        print(f'Z = {np.power(np.sin(np.power(p,2) + 0.4),3)}')\n",
    "\n",
    "p = float(input('Введите значение для перемнной p'))\n",
    "\n",
    "my_class = MyClassTask26(p)\n",
    "my_class.calculate_R()"
   ]
  },
  {
   "cell_type": "code",
   "execution_count": 49,
   "metadata": {},
   "outputs": [
    {
     "name": "stdout",
     "output_type": "stream",
     "text": [
      "W = 26489122141.56761\n"
     ]
    }
   ],
   "source": [
    "# Задание 27\n",
    "y = float(input('Введите значение для переменной y'))\n",
    "v = float(input('Введите значение для переменной v'))\n",
    "x = float(input('Введите значение для переменной x'))\n",
    "\n",
    "print(f'W = {1.03 * v + np.exp(2 * y) + np.tan(np.abs(x))}')"
   ]
  },
  {
   "cell_type": "code",
   "execution_count": 31,
   "metadata": {},
   "outputs": [
    {
     "name": "stdout",
     "output_type": "stream",
     "text": [
      "W = 26489122141.56761\n"
     ]
    }
   ],
   "source": [
    "class MyClassTask27:\n",
    "    def __init__(self, y, x, u):\n",
    "        self.y = y\n",
    "        self.x = x\n",
    "        self.v = v\n",
    "\n",
    "    def calculate_R(self):\n",
    "        print(f'W = {1.03 * v + np.exp(2 * y) + np.tan(np.abs(x))}')\n",
    "\n",
    "y = float(input('Введите значение для перемнной y'))\n",
    "x = float(input('Введите значение для перемнной x'))\n",
    "v = float(input('Введите значение для перемнной v'))\n",
    "\n",
    "my_class = MyClassTask27(y,x,v)\n",
    "my_class.calculate_R()"
   ]
  },
  {
   "cell_type": "code",
   "execution_count": 50,
   "metadata": {},
   "outputs": [
    {
     "name": "stdout",
     "output_type": "stream",
     "text": [
      "T = 26489122138.607033\n"
     ]
    }
   ],
   "source": [
    "# Задание 28\n",
    "y = float(input('Введите значение для переменной y'))\n",
    "h = float(input('Введите значение для переменной h'))\n",
    "\n",
    "print(f'T = {np.exp(y + h) + np.sqrt(np.abs(6.4 * y))}')"
   ]
  },
  {
   "cell_type": "code",
   "execution_count": 32,
   "metadata": {},
   "outputs": [
    {
     "name": "stdout",
     "output_type": "stream",
     "text": [
      "T = 26489122138.607033\n"
     ]
    }
   ],
   "source": [
    "class MyClassTask25:\n",
    "    def __init__(self, y, h):\n",
    "        self.y = y\n",
    "        self.h = h\n",
    "\n",
    "    def calculate_R(self):\n",
    "        print(f'T = {np.exp(y + h) + np.sqrt(np.abs(6.4 * y))}')\n",
    "\n",
    "y = float(input('Введите значение для перемнной y'))\n",
    "h = float(input('Введите значение для перемнной h'))\n",
    "\n",
    "my_class = MyClassTask25(y,h)\n",
    "my_class.calculate_R()"
   ]
  },
  {
   "cell_type": "code",
   "execution_count": 51,
   "metadata": {},
   "outputs": [
    {
     "name": "stdout",
     "output_type": "stream",
     "text": [
      "N = 435.605551275464\n"
     ]
    }
   ],
   "source": [
    "# Задание 29\n",
    "y = float(input('Введите значение для переменной y'))\n",
    "\n",
    "print(f'N = {3 * np.power(y,2) + np.sqrt(np.abs(y + 1))}')"
   ]
  },
  {
   "cell_type": "code",
   "execution_count": 33,
   "metadata": {},
   "outputs": [
    {
     "name": "stdout",
     "output_type": "stream",
     "text": [
      "N = 435.605551275464\n"
     ]
    }
   ],
   "source": [
    "class MyClassTask29:\n",
    "    def __init__(self, y):\n",
    "        self.y= y\n",
    "\n",
    "    def calculate_R(self):\n",
    "        print(f'N = {3 * np.power(y,2) + np.sqrt(np.abs(y + 1))}')\n",
    "\n",
    "y = float(input('Введите значение для перемнной y'))\n",
    "\n",
    "my_class = MyClassTask29(y)\n",
    "my_class.calculate_R()"
   ]
  },
  {
   "cell_type": "code",
   "execution_count": 52,
   "metadata": {},
   "outputs": [
    {
     "name": "stdout",
     "output_type": "stream",
     "text": [
      "W = 26489122125.98015\n"
     ]
    }
   ],
   "source": [
    "# Задание 30\n",
    "y = float(input('Введите значение для переменной y'))\n",
    "r = float(input('Введите значение для переменной r'))\n",
    "\n",
    "print(f'W = {np.exp(y + r) + 7.2 * np.sin(r)}')"
   ]
  },
  {
   "cell_type": "code",
   "execution_count": 35,
   "metadata": {},
   "outputs": [
    {
     "name": "stdout",
     "output_type": "stream",
     "text": [
      "W = 26489122125.98015\n"
     ]
    }
   ],
   "source": [
    "class MyClassTask30:\n",
    "    def __init__(self, y, r):\n",
    "        self.y = y\n",
    "        self.r = r\n",
    "\n",
    "    def calculate_R(self):\n",
    "        print(f'W = {np.exp(y + r) + 7.2 * np.sin(r)}')\n",
    "\n",
    "y = float(input('Введите значение для перемнной y'))\n",
    "r = float(input('Введите значение для перемнной r'))\n",
    "\n",
    "my_class = MyClassTask30(y,r)\n",
    "my_class.calculate_R()"
   ]
  }
 ],
 "metadata": {
  "kernelspec": {
   "display_name": "base",
   "language": "python",
   "name": "python3"
  },
  "language_info": {
   "codemirror_mode": {
    "name": "ipython",
    "version": 3
   },
   "file_extension": ".py",
   "mimetype": "text/x-python",
   "name": "python",
   "nbconvert_exporter": "python",
   "pygments_lexer": "ipython3",
   "version": "3.12.7"
  }
 },
 "nbformat": 4,
 "nbformat_minor": 2
}
