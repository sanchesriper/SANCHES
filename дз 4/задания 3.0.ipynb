{
 "cells": [
  {
   "cell_type": "code",
   "execution_count": 1,
   "metadata": {},
   "outputs": [],
   "source": [
    "import numpy as np\n",
    "import matplotlib.pyplot as plt\n",
    "import seaborn as sns "
   ]
  },
  {
   "cell_type": "code",
   "execution_count": 11,
   "metadata": {},
   "outputs": [
    {
     "name": "stdout",
     "output_type": "stream",
     "text": [
      "L = 732.4301963014575\n"
     ]
    }
   ],
   "source": [
    "#Задание 1\n",
    "x = float(input('Введите значение для перемнной x'))\n",
    "a = float(input('Введите значение для перемнной a'))\n",
    "c = float(input('Введите значение для перемнной c'))\n",
    "\n",
    "print(f'L = {np.sqrt(np.power(np.e, x) - 4 * np.cos(np.power(x,2) * np.power(a,5))) + 4 * np.tan(a - np.power(x,5)) / np.e * np.sqrt(np.abs(a + x * np.power(c,4)))}')"
   ]
  },
  {
   "cell_type": "code",
   "execution_count": 15,
   "metadata": {},
   "outputs": [],
   "source": [
    "class MyClassTask1:\n",
    "    def __init__(self, x, a, c):\n",
    "        self.x = x\n",
    "        self.a = a\n",
    "        self.c = c\n",
    "    def calculate_G(self):\n",
    "        print(f'L = {np.sqrt(np.power(np.e, x) - 4 * np.cos(np.power(x,2) * np.power(a,5))) + 4 * np.tan(a - np.power(x,5)) / np.e * np.sqrt(np.abs(a + x * np.power(c,4)))}')"
   ]
  },
  {
   "cell_type": "code",
   "execution_count": 14,
   "metadata": {},
   "outputs": [
    {
     "name": "stdout",
     "output_type": "stream",
     "text": [
      "L = 732.4301963014575\n"
     ]
    }
   ],
   "source": [
    "x = float(input('Введите значение для перемнной x'))\n",
    "a = float(input('Введите значение для перемнной a'))\n",
    "c = float(input('Введите значение для перемнной c'))\n",
    "\n",
    "my_class = MyClassTask1(x,a,c)\n",
    "my_class.calculate_G()"
   ]
  },
  {
   "cell_type": "code",
   "execution_count": null,
   "metadata": {},
   "outputs": [
    {
     "name": "stdout",
     "output_type": "stream",
     "text": [
      "L = 290.4249385750372\n"
     ]
    }
   ],
   "source": [
    "#Задание 2\n",
    "c = float(input('Введите значение для переменной c'))\n",
    "x = float(input('Введите значение для переменной x'))\n",
    "t = float(input('Введите значение для переменной t'))\n",
    "\n",
    "print(f'L = {(1 / (np.cos(c)))**2 + 2 * (x**2) + 5 / np.sqrt(c + t)}')"
   ]
  },
  {
   "cell_type": "code",
   "execution_count": null,
   "metadata": {},
   "outputs": [],
   "source": [
    "class MyClassTask1:\n",
    "    def __init__(self, c, x, t):\n",
    "        self.c = c\n",
    "        self.x = x\n",
    "        self.t = t\n",
    "    def calculate_G(self):\n",
    "        print(f'L = {(1 / (np.cos(c)))**2 + 2 * (x**2) + 5 / np.sqrt(c + t)}')"
   ]
  },
  {
   "cell_type": "code",
   "execution_count": null,
   "metadata": {},
   "outputs": [
    {
     "name": "stdout",
     "output_type": "stream",
     "text": [
      "L = 290.4249385750372\n"
     ]
    }
   ],
   "source": [
    "c = float(input('Введите значение для переменной c'))\n",
    "x = float(input('Введите значение для переменной x'))\n",
    "t = float(input('Введите значение для переменной t'))\n",
    "\n",
    "my_class = MyClassTask1(c, x, t)\n",
    "my_class.calculate_G()"
   ]
  },
  {
   "cell_type": "code",
   "execution_count": 2,
   "metadata": {},
   "outputs": [
    {
     "name": "stdout",
     "output_type": "stream",
     "text": [
      "A = 7.379356872364041\n"
     ]
    }
   ],
   "source": [
    "#Задание 3\n",
    "y = float(input('Введите значение для перемнной y'))\n",
    "h = float(input('Введите значение для перемнной h'))\n",
    "\n",
    "print(f'A = {np.tan(y**3 - h**4) + h**2 / (np.sin(h)**3 + y)}')"
   ]
  },
  {
   "cell_type": "code",
   "execution_count": null,
   "metadata": {},
   "outputs": [],
   "source": [
    "class MyClassTask1:\n",
    "    def __init__(self, y, h):\n",
    "        self.y = y\n",
    "        self.h = h\n",
    "    def calculate_G(self):\n",
    "        print(f'A = {np.tan(y**3 - h**4) + h**2 / (np.sin(h)**3 + y)}')"
   ]
  },
  {
   "cell_type": "code",
   "execution_count": null,
   "metadata": {},
   "outputs": [
    {
     "name": "stdout",
     "output_type": "stream",
     "text": [
      "A = 7.379356872364041\n"
     ]
    }
   ],
   "source": [
    "y = float(input('Введите значение для перемнной y'))\n",
    "h = float(input('Введите значение для перемнной h'))\n",
    "\n",
    "my_class = MyClassTask1(y, h)\n",
    "my_class.calculate_G()"
   ]
  },
  {
   "cell_type": "code",
   "execution_count": 3,
   "metadata": {},
   "outputs": [
    {
     "name": "stdout",
     "output_type": "stream",
     "text": [
      "F = 14.24301799291372\n"
     ]
    }
   ],
   "source": [
    "#Задание 4\n",
    "x = float(input('Введите значение для перемнной x'))\n",
    "y = float(input('Введите значение для перемнной y'))\n",
    "\n",
    "print(f'F = {np.sqrt((2 + y) ** 2 + 7 * np.sqrt(np.abs(np.sin(y + 5))))}')"
   ]
  },
  {
   "cell_type": "code",
   "execution_count": null,
   "metadata": {},
   "outputs": [],
   "source": [
    "class MyClassTask1:\n",
    "    def __init__(self, x, y):\n",
    "        self.x = x\n",
    "        self.y = y\n",
    "    def calculate_G(self):\n",
    "        print(f'F = {np.sqrt((2 + y) ** 2 + 7 * np.sqrt(np.abs(np.sin(y + 5))))}')"
   ]
  },
  {
   "cell_type": "code",
   "execution_count": null,
   "metadata": {},
   "outputs": [
    {
     "name": "stdout",
     "output_type": "stream",
     "text": [
      "F = 14.24301799291372\n"
     ]
    }
   ],
   "source": [
    "x = float(input('Введите значение для перемнной x'))\n",
    "y = float(input('Введите значение для перемнной y'))\n",
    "\n",
    "my_class = MyClassTask1(x, y)\n",
    "my_class.calculate_G()"
   ]
  },
  {
   "cell_type": "code",
   "execution_count": null,
   "metadata": {},
   "outputs": [
    {
     "name": "stdout",
     "output_type": "stream",
     "text": [
      "G = -4.9118253618777725\n"
     ]
    }
   ],
   "source": [
    "#Задание 5\n",
    "x = float(input('Введите значение для переменной x'))\n",
    "y = float(input('Введите значение для переменной y'))\n",
    "z = float(input('Введите значение для переменной z'))\n",
    "\n",
    "print(f'G = {np.tan(x**4 - 6) - (np.cos(z + x * y)**3) / (np.cos(x**3)**4 * (y**2))}')\n"
   ]
  },
  {
   "cell_type": "code",
   "execution_count": null,
   "metadata": {},
   "outputs": [],
   "source": [
    "class MyClassTask1:\n",
    "    def __init__(self, x, y, z):\n",
    "        self.x = x\n",
    "        self.y = y\n",
    "        self.z = z\n",
    "    def calculate_G(self):\n",
    "        print(f'G = {np.tan(x**4 - 6) - (np.cos(z + x * y)**3) / (np.cos(x**3)**4 * (y**2))}')"
   ]
  },
  {
   "cell_type": "code",
   "execution_count": null,
   "metadata": {},
   "outputs": [
    {
     "name": "stdout",
     "output_type": "stream",
     "text": [
      "G = -4.9118253618777725\n"
     ]
    }
   ],
   "source": [
    "x = float(input('Введите значение для переменной x'))\n",
    "y = float(input('Введите значение для переменной y'))\n",
    "z = float(input('Введите значение для переменной z'))\n",
    "\n",
    "my_class = MyClassTask1(x, y, z)\n",
    "my_class.calculate_G()"
   ]
  },
  {
   "cell_type": "code",
   "execution_count": null,
   "metadata": {},
   "outputs": [
    {
     "name": "stdout",
     "output_type": "stream",
     "text": [
      "K = 5.089122417350447\n"
     ]
    }
   ],
   "source": [
    "#Задание 6\n",
    "x = float(input('Введите значение для переменной x'))\n",
    "b = float(input('Введите значение для переменной b'))\n",
    "a = float(input('Введите значение для переменной a'))\n",
    "y = float(input('Введите значение для переменной y'))\n",
    "\n",
    "print(f'K = {np.sqrt(x + b - a) + np.log(y) / np.arctan(b + a)}')\n"
   ]
  },
  {
   "cell_type": "code",
   "execution_count": null,
   "metadata": {},
   "outputs": [],
   "source": [
    "class MyClassTask1:\n",
    "    def __init__(self, x, b, a, y):\n",
    "        self.x = x\n",
    "        self.b = b\n",
    "        self.a = a\n",
    "        self.y = y\n",
    "    def calculate_G(self):\n",
    "        print(f'K = {np.sqrt(x + b - a) + np.log(y) / np.arctan(b + a)}')"
   ]
  },
  {
   "cell_type": "code",
   "execution_count": null,
   "metadata": {},
   "outputs": [
    {
     "name": "stdout",
     "output_type": "stream",
     "text": [
      "K = 5.089122417350447\n"
     ]
    }
   ],
   "source": [
    "x = float(input('Введите значение для переменной x'))\n",
    "b = float(input('Введите значение для переменной b'))\n",
    "a = float(input('Введите значение для переменной a'))\n",
    "y = float(input('Введите значение для переменной y'))\n",
    "\n",
    "my_class = MyClassTask1(x, b, a, y)\n",
    "my_class.calculate_G()"
   ]
  },
  {
   "cell_type": "code",
   "execution_count": null,
   "metadata": {},
   "outputs": [
    {
     "name": "stdout",
     "output_type": "stream",
     "text": [
      "D = 0.9873631741979176\n"
     ]
    }
   ],
   "source": [
    "#Задание 7\n",
    "x = float(input('Введите значение для переменной x'))\n",
    "y = float(input('Введите значение для переменной y'))\n",
    "a = float(input('Введите значение для переменной a'))\n",
    "\n",
    "\n",
    "print(f'D = {np.cos(x**3 + 6) - np.sin(y - a) / (np.log(x**4) - 2 * (np.sin(x))**5)}')"
   ]
  },
  {
   "cell_type": "code",
   "execution_count": null,
   "metadata": {},
   "outputs": [],
   "source": [
    "class MyClassTask1:\n",
    "    def __init__(self, x, y, a):\n",
    "        self.x = x\n",
    "        self.y = y\n",
    "        self.a = a\n",
    "    def calculate_G(self):\n",
    "        print(f'D = {np.cos(x**3 + 6) - np.sin(y - a) / (np.log(x**4) - 2 * (np.sin(x))**5)}')"
   ]
  },
  {
   "cell_type": "code",
   "execution_count": null,
   "metadata": {},
   "outputs": [
    {
     "name": "stdout",
     "output_type": "stream",
     "text": [
      "D = 0.9873631741979176\n"
     ]
    }
   ],
   "source": [
    "x = float(input('Введите значение для переменной x'))\n",
    "y = float(input('Введите значение для переменной y'))\n",
    "a = float(input('Введите значение для переменной a'))\n",
    "\n",
    "\n",
    "my_class = MyClassTask1(x, y, a)\n",
    "my_class.calculate_G()"
   ]
  },
  {
   "cell_type": "code",
   "execution_count": null,
   "metadata": {},
   "outputs": [
    {
     "name": "stdout",
     "output_type": "stream",
     "text": [
      "P = 248832.0\n"
     ]
    }
   ],
   "source": [
    "#Задание 8\n",
    "a = float(input('Введите значение для переменной a'))\n",
    "y = float(input('Введите значение для переменной y'))\n",
    "c = float(input('Введите значение для переменной c'))\n",
    "x = float(input('Введите значение для переменной x'))\n",
    "\n",
    "\n",
    "print(f'P = {a**5 + np.sin(y - c)**4 / np.sin(x + y)**3 + abs(x - y)}')"
   ]
  },
  {
   "cell_type": "code",
   "execution_count": null,
   "metadata": {},
   "outputs": [],
   "source": [
    "class MyClassTask1:\n",
    "    def __init__(self, a, y, c, x):\n",
    "        self.a = a\n",
    "        self.y = y\n",
    "        self.c = c\n",
    "        self.x = x\n",
    "    def calculate_G(self):\n",
    "        print(f'P = {a**5 + np.sin(y - c)**4 / np.sin(x + y)**3 + abs(x - y)}')"
   ]
  },
  {
   "cell_type": "code",
   "execution_count": null,
   "metadata": {},
   "outputs": [
    {
     "name": "stdout",
     "output_type": "stream",
     "text": [
      "P = 248832.0\n"
     ]
    }
   ],
   "source": [
    "a = float(input('Введите значение для переменной a'))\n",
    "y = float(input('Введите значение для переменной y'))\n",
    "c = float(input('Введите значение для переменной c'))\n",
    "x = float(input('Введите значение для переменной x'))\n",
    "\n",
    "\n",
    "my_class = MyClassTask1(a, y, c, x)\n",
    "my_class.calculate_G()"
   ]
  },
  {
   "cell_type": "code",
   "execution_count": null,
   "metadata": {},
   "outputs": [
    {
     "name": "stdout",
     "output_type": "stream",
     "text": [
      "R = 2.9425489018371063\n"
     ]
    }
   ],
   "source": [
    "#Задание 9\n",
    "a = float(input('Введите значение для переменной a'))\n",
    "d = float(input('Введите значение для переменной d'))\n",
    "y = float(input('Введите значение для переменной y'))\n",
    "\n",
    "\n",
    "print(f'R = {np.cos(y)**3 + (2**x * d) / np.exp(y) + np.log(np.sin(x)**2 + 7.4)}')"
   ]
  },
  {
   "cell_type": "code",
   "execution_count": null,
   "metadata": {},
   "outputs": [],
   "source": [
    "class MyClassTask1:\n",
    "    def __init__(self, a, d, y):\n",
    "        self.a = a\n",
    "        self.d = d\n",
    "        self.y = y\n",
    "    def calculate_G(self):\n",
    "        print(f'R = {np.cos(y)**3 + (2**x * d) / np.exp(y) + np.log(np.sin(x)**2 + 7.4)}')"
   ]
  },
  {
   "cell_type": "code",
   "execution_count": null,
   "metadata": {},
   "outputs": [
    {
     "name": "stdout",
     "output_type": "stream",
     "text": [
      "R = 2.9425489018371063\n"
     ]
    }
   ],
   "source": [
    "a = float(input('Введите значение для переменной a'))\n",
    "d = float(input('Введите значение для переменной d'))\n",
    "y = float(input('Введите значение для переменной y'))\n",
    "\n",
    "\n",
    "my_class = MyClassTask1(a, d, y,)\n",
    "my_class.calculate_G()"
   ]
  },
  {
   "cell_type": "code",
   "execution_count": null,
   "metadata": {},
   "outputs": [
    {
     "name": "stdout",
     "output_type": "stream",
     "text": [
      "U = 9.183480175552067e+148\n"
     ]
    }
   ],
   "source": [
    "#Задание 10\n",
    "x = float(input('Введите значение для переменной x'))\n",
    "y = float(input('Введите значение для переменной y'))\n",
    "\n",
    "\n",
    "print(f'U = {np.exp(x**3) + np.cos(x - 4)**2 / (np.arctan(x) + 5.2 * y)}')"
   ]
  },
  {
   "cell_type": "code",
   "execution_count": null,
   "metadata": {},
   "outputs": [],
   "source": [
    "class MyClassTask1:\n",
    "    def __init__(self, x, y):\n",
    "        self.x = x\n",
    "        self.y = y\n",
    "    def calculate_G(self):\n",
    "        print(f'U = {np.exp(x**3) + np.cos(x - 4)**2 / (np.arctan(x) + 5.2 * y)}')"
   ]
  },
  {
   "cell_type": "code",
   "execution_count": null,
   "metadata": {},
   "outputs": [
    {
     "name": "stdout",
     "output_type": "stream",
     "text": [
      "U = 9.183480175552067e+148\n"
     ]
    }
   ],
   "source": [
    "x = float(input('Введите значение для переменной x'))\n",
    "y = float(input('Введите значение для переменной y'))\n",
    "\n",
    "\n",
    "my_class = MyClassTask1(x, y)\n",
    "my_class.calculate_G()"
   ]
  },
  {
   "cell_type": "code",
   "execution_count": null,
   "metadata": {},
   "outputs": [
    {
     "name": "stdout",
     "output_type": "stream",
     "text": [
      "I = 3.848957961508106e-06\n"
     ]
    }
   ],
   "source": [
    "#Задание 11\n",
    "x = float(input('Введите значение для переменной x'))\n",
    "y = float(input('Введите значение для переменной y'))\n",
    "\n",
    "\n",
    "print(f'I = {(2.33 * np.log(np.sqrt(1 + np.cos(y)**2))) / (np.exp(y) + np.sin(x)**2)}')"
   ]
  },
  {
   "cell_type": "code",
   "execution_count": null,
   "metadata": {},
   "outputs": [],
   "source": [
    "class MyClassTask1:\n",
    "    def __init__(self, x, y):\n",
    "        self.x = x\n",
    "        self.y = y\n",
    "    def calculate_G(self):\n",
    "        print(f'I = {(2.33 * np.log(np.sqrt(1 + np.cos(y)**2))) / (np.exp(y) + np.sin(x)**2)}')"
   ]
  },
  {
   "cell_type": "code",
   "execution_count": null,
   "metadata": {},
   "outputs": [
    {
     "name": "stdout",
     "output_type": "stream",
     "text": [
      "I = 0.00047790423833479604\n"
     ]
    }
   ],
   "source": [
    "x = float(input('Введите значение для переменной x'))\n",
    "y = float(input('Введите значение для переменной y'))\n",
    "\n",
    "\n",
    "my_class = MyClassTask1(x, y)\n",
    "my_class.calculate_G()"
   ]
  },
  {
   "cell_type": "code",
   "execution_count": null,
   "metadata": {},
   "outputs": [
    {
     "name": "stdout",
     "output_type": "stream",
     "text": [
      "G = 74.51154377919292\n"
     ]
    }
   ],
   "source": [
    "#Задание 12\n",
    "f = float(input('Введите значение для переменной f'))\n",
    "y = float(input('Введите значение для переменной y'))\n",
    "x = float(input('Введите значение для переменной x'))\n",
    "a = float(input('Введите значение для переменной a'))\n",
    "\n",
    "\n",
    "print(f'G = {(np.cos(f)**3 * abs(y + x) - (x + y) / (np.arctan((x + a)**4) * (x**5)))}')"
   ]
  },
  {
   "cell_type": "code",
   "execution_count": null,
   "metadata": {},
   "outputs": [],
   "source": [
    "class MyClassTask1:\n",
    "    def __init__(self, f, y, x, a):\n",
    "        self.f = f\n",
    "        self.y = y\n",
    "        self.x = x\n",
    "        self.a = a\n",
    "    def calculate_G(self):\n",
    "        print(f'G = {(np.cos(f)**3 * abs(y + x) - (x + y) / (np.arctan((x + a)**4) * (x**5)))}')"
   ]
  },
  {
   "cell_type": "code",
   "execution_count": null,
   "metadata": {},
   "outputs": [
    {
     "name": "stdout",
     "output_type": "stream",
     "text": [
      "G = 5.998390955511189\n"
     ]
    }
   ],
   "source": [
    "f = float(input('Введите значение для переменной f'))\n",
    "y = float(input('Введите значение для переменной y'))\n",
    "x = float(input('Введите значение для переменной x'))\n",
    "a = float(input('Введите значение для переменной a'))\n",
    "\n",
    "my_class = MyClassTask1(f, y, x, a)\n",
    "my_class.calculate_G()"
   ]
  },
  {
   "cell_type": "code",
   "execution_count": null,
   "metadata": {},
   "outputs": [
    {
     "name": "stdout",
     "output_type": "stream",
     "text": [
      "R = 8916100448249.54\n"
     ]
    }
   ],
   "source": [
    "#Задание 13\n",
    "a = float(input('Введите значение для переменной a'))\n",
    "x = float(input('Введите значение для переменной x'))\n",
    "b = float(input('Введите значение для переменной b'))\n",
    "\n",
    "print(f'R = {a / x - a + b**x + np.cos(x)**3 / np.log(a)**3 + 4.5}')"
   ]
  },
  {
   "cell_type": "code",
   "execution_count": null,
   "metadata": {},
   "outputs": [],
   "source": [
    "class MyClassTask1:\n",
    "    def __init__(self, a, x, b):\n",
    "        self.a = a\n",
    "        self.x = x\n",
    "        self.b = b\n",
    "    def calculate_G(self):\n",
    "        print(f'R = {a / x - a + b**x + np.cos(x)**3 / np.log(a)**3 + 4.5}')"
   ]
  },
  {
   "cell_type": "code",
   "execution_count": null,
   "metadata": {},
   "outputs": [
    {
     "name": "stdout",
     "output_type": "stream",
     "text": [
      "R = 8916100448249.54\n"
     ]
    }
   ],
   "source": [
    "a = float(input('Введите значение для переменной a'))\n",
    "x = float(input('Введите значение для переменной x'))\n",
    "b = float(input('Введите значение для переменной b'))\n",
    "\n",
    "my_class = MyClassTask1(a, x, b)\n",
    "my_class.calculate_G()"
   ]
  },
  {
   "cell_type": "code",
   "execution_count": null,
   "metadata": {},
   "outputs": [
    {
     "name": "stdout",
     "output_type": "stream",
     "text": [
      "R = 4.305242239999913\n"
     ]
    }
   ],
   "source": [
    "#Задание 14\n",
    "x = float(input('Введите значение для переменной x'))\n",
    "\n",
    "print(f'R = {np.sin(x**2 + 4)**3 + 4.3 / np.sin(x**4)**3}')"
   ]
  },
  {
   "cell_type": "code",
   "execution_count": null,
   "metadata": {},
   "outputs": [],
   "source": [
    "class MyClassTask1:\n",
    "    def __init__(self, x):\n",
    "        self.x = x\n",
    "    def calculate_G(self):\n",
    "        print(f'R = {np.sin(x**2 + 4)**3 + 4.3 / np.sin(x**4)**3}')"
   ]
  },
  {
   "cell_type": "code",
   "execution_count": null,
   "metadata": {},
   "outputs": [
    {
     "name": "stdout",
     "output_type": "stream",
     "text": [
      "R = 4.305242239999913\n"
     ]
    }
   ],
   "source": [
    "x = float(input('Введите значение для переменной x'))\n",
    "\n",
    "my_class = MyClassTask1( x)\n",
    "my_class.calculate_G()"
   ]
  },
  {
   "cell_type": "code",
   "execution_count": 8,
   "metadata": {},
   "outputs": [
    {
     "name": "stdout",
     "output_type": "stream",
     "text": [
      "N = 39.42687664719896\n"
     ]
    }
   ],
   "source": [
    "#Задание 15\n",
    "m = float(input('Введите значение для переменной m'))\n",
    "y = float(input('Введите значение для переменной y'))\n",
    "\n",
    "print(f'N = {(m**2 + 2.8*m + 0.355) / (np.cos(np.radians(2*y)) + 3.6)}')"
   ]
  },
  {
   "cell_type": "code",
   "execution_count": 10,
   "metadata": {},
   "outputs": [],
   "source": [
    "class MyClassTask1:\n",
    "    def __init__(self, m, y):\n",
    "        self.m = m\n",
    "    def calculate_G(self):\n",
    "        print(f'N = {(m**2 + 2.8*m + 0.355) / (np.cos(np.radians(2*y)) + 3.6)}')"
   ]
  },
  {
   "cell_type": "code",
   "execution_count": 11,
   "metadata": {},
   "outputs": [
    {
     "name": "stdout",
     "output_type": "stream",
     "text": [
      "N = 15.08764511748268\n"
     ]
    }
   ],
   "source": [
    "m = float(input('Введите значение для переменной m'))\n",
    "y = float(input('Введите значение для переменной y'))\n",
    "\n",
    "my_class = MyClassTask1( m, y)\n",
    "my_class.calculate_G()"
   ]
  },
  {
   "cell_type": "code",
   "execution_count": 12,
   "metadata": {},
   "outputs": [
    {
     "name": "stdout",
     "output_type": "stream",
     "text": [
      "P = 2.929331667606796\n"
     ]
    }
   ],
   "source": [
    "#Задание 16\n",
    "t = float(input('Введите значение для переменной t'))\n",
    "x = float(input('Введите значение для переменной x'))\n",
    "y = float(input('Введите значение для переменной y'))\n",
    "e = float(input('Введите значение для переменной e'))\n",
    "\n",
    "print(f'P = {np.sin(x)**3 + np.log(2*y + 3*x) / (t**e) + np.sqrt(x)}')"
   ]
  },
  {
   "cell_type": "code",
   "execution_count": 13,
   "metadata": {},
   "outputs": [],
   "source": [
    "class MyClassTask1:\n",
    "    def __init__(self, t, x, y, e):\n",
    "        self.t = t\n",
    "        self.x = x\n",
    "        self.y = y\n",
    "        self.e = e\n",
    "    def calculate_G(self):\n",
    "        print(f'P = {np.sin(x)**3 + np.log(2*y + 3*x) / (t**e) + np.sqrt(x)}')"
   ]
  },
  {
   "cell_type": "code",
   "execution_count": 14,
   "metadata": {},
   "outputs": [
    {
     "name": "stdout",
     "output_type": "stream",
     "text": [
      "P = 2.929331667606796\n"
     ]
    }
   ],
   "source": [
    "t = float(input('Введите значение для переменной t'))\n",
    "x = float(input('Введите значение для переменной x'))\n",
    "y = float(input('Введите значение для переменной y'))\n",
    "e = float(input('Введите значение для переменной e'))\n",
    "\n",
    "my_class = MyClassTask1( t, x, y, e)\n",
    "my_class.calculate_G()"
   ]
  },
  {
   "cell_type": "code",
   "execution_count": 15,
   "metadata": {},
   "outputs": [
    {
     "name": "stdout",
     "output_type": "stream",
     "text": [
      "T = 5.089122417350447\n"
     ]
    }
   ],
   "source": [
    "#Задание 17 \n",
    "x = float(input('Введите значение для переменной x'))\n",
    "a = float(input('Введите значение для переменной a'))\n",
    "b = float(input('Введите значение для переменной b'))\n",
    "y = float(input('Введите значение для переменной y'))\n",
    "\n",
    "\n",
    "print(f'T = {np.sqrt(x + b - a) + np.log(y) / np.arctan(b + a)}')"
   ]
  },
  {
   "cell_type": "code",
   "execution_count": 16,
   "metadata": {},
   "outputs": [],
   "source": [
    "class MyClassTask1:\n",
    "    def __init__(self, t, x, y, e):\n",
    "        self.x = x\n",
    "        self.a = a\n",
    "        self.b = b\n",
    "        self.y = y\n",
    "    def calculate_G(self):\n",
    "        print(f'P = {np.sqrt(x + b - a) + np.log(y) / np.arctan(b + a)}')"
   ]
  },
  {
   "cell_type": "code",
   "execution_count": 17,
   "metadata": {},
   "outputs": [
    {
     "name": "stdout",
     "output_type": "stream",
     "text": [
      "P = 5.089122417350447\n"
     ]
    }
   ],
   "source": [
    "x = float(input('Введите значение для переменной x'))\n",
    "a = float(input('Введите значение для переменной a'))\n",
    "b = float(input('Введите значение для переменной b'))\n",
    "y = float(input('Введите значение для переменной y'))\n",
    "\n",
    "my_class = MyClassTask1( x, a, b, y)\n",
    "my_class.calculate_G()"
   ]
  },
  {
   "cell_type": "code",
   "execution_count": 18,
   "metadata": {},
   "outputs": [
    {
     "name": "stdout",
     "output_type": "stream",
     "text": [
      "S = 7614.447633736244\n"
     ]
    }
   ],
   "source": [
    "#Задание 18\n",
    "t = float(input('Введите значение для переменной t'))\n",
    "y = float(input('Введите значение для переменной y'))\n",
    "\n",
    "\n",
    "print(f'S = {4.351 * np.power(y, 3) + (2 * t * np.log(t)) / np.sqrt(np.cos(2 * y)) + 4.351}')"
   ]
  },
  {
   "cell_type": "code",
   "execution_count": 19,
   "metadata": {},
   "outputs": [],
   "source": [
    "class MyClassTask1:\n",
    "    def __init__(self, t, y):\n",
    "        self.t = t\n",
    "        self.y = y\n",
    "    def calculate_G(self):\n",
    "        print(f'S = {4.351 * np.power(y, 3) + (2 * t * np.log(t)) / np.sqrt(np.cos(2 * y)) + 4.351}')"
   ]
  },
  {
   "cell_type": "code",
   "execution_count": 20,
   "metadata": {},
   "outputs": [
    {
     "name": "stdout",
     "output_type": "stream",
     "text": [
      "S = 7614.447633736244\n"
     ]
    }
   ],
   "source": [
    "t = float(input('Введите значение для переменной t'))\n",
    "y = float(input('Введите значение для переменной y'))\n",
    "\n",
    "my_class = MyClassTask1( t, y)\n",
    "my_class.calculate_G()"
   ]
  },
  {
   "cell_type": "code",
   "execution_count": 5,
   "metadata": {},
   "outputs": [
    {
     "name": "stdout",
     "output_type": "stream",
     "text": [
      "D = -0.45949724618273247\n"
     ]
    }
   ],
   "source": [
    "#Задание 19\n",
    "a = float(input('Введите значение для переменной a'))\n",
    "x = float(input('Введите значение для переменной x'))\n",
    "y = float(input('Введите значение для переменной y'))\n",
    "b = float(input('Введите значение для переменной b'))\n",
    "K = float(input('Введите значение для переменной K'))\n",
    "\n",
    "\n",
    "print(f'D = {(K**(-a) - np.sqrt(6) - np.cos(3 * a * b)) / np.power(np.sin(a * np.arcsin(x) + np.log(y)), 2)}')"
   ]
  },
  {
   "cell_type": "code",
   "execution_count": 8,
   "metadata": {},
   "outputs": [],
   "source": [
    "class MyClassTask1:\n",
    "    def __init__(self, a, x, y, b, K):\n",
    "        self.a = a\n",
    "        self.x = x\n",
    "        self.y = y\n",
    "        self.b = b\n",
    "        self.K = K\n",
    "    def calculate_G(self):\n",
    "        print(f'D = {(K**(-a) - np.sqrt(6) - np.cos(3 * a * b)) / np.power(np.sin(a * np.arcsin(x) + np.log(y)), 2)}')"
   ]
  },
  {
   "cell_type": "code",
   "execution_count": 9,
   "metadata": {},
   "outputs": [
    {
     "name": "stdout",
     "output_type": "stream",
     "text": [
      "D = -0.45949724618273247\n"
     ]
    }
   ],
   "source": [
    "a = float(input('Введите значение для переменной a'))\n",
    "x = float(input('Введите значение для переменной x'))\n",
    "y = float(input('Введите значение для переменной y'))\n",
    "b = float(input('Введите значение для переменной b'))\n",
    "K = float(input('Введите значение для переменной K'))\n",
    "\n",
    "my_class = MyClassTask1( a, x, y, b, K)\n",
    "my_class.calculate_G()"
   ]
  },
  {
   "cell_type": "code",
   "execution_count": 16,
   "metadata": {},
   "outputs": [
    {
     "name": "stdout",
     "output_type": "stream",
     "text": [
      "U = -0.3015673644120444\n"
     ]
    }
   ],
   "source": [
    "#Задание 20 \n",
    "y = float(input('Введите значение для переменной y'))\n",
    "x = float(input('Введите значение для переменной x'))\n",
    "a = float(input('Введите значение для переменной a'))\n",
    "b = float(input('Введите значение для переменной b'))\n",
    "c = float(input('Введите значение для переменной c'))\n",
    "\n",
    "\n",
    "print(f'U = {np.tan(y)**3 + np.sin(x)**5 + np.sqrt(b - c) / (np.sqrt(a - b + c))}')"
   ]
  },
  {
   "cell_type": "code",
   "execution_count": 17,
   "metadata": {},
   "outputs": [],
   "source": [
    "class MyClassTask1:\n",
    "    def __init__(self, y, x, a, b, c):\n",
    "        self.y = y\n",
    "        self.x = x\n",
    "        self.a = a\n",
    "        self.b = b\n",
    "        self.c = c\n",
    "    def calculate_G(self):\n",
    "        print(f'U = {np.tan(y)**3 + np.sin(x)**5 + np.sqrt(b - c) / (np.sqrt(a - b + c))}')"
   ]
  },
  {
   "cell_type": "code",
   "execution_count": 19,
   "metadata": {},
   "outputs": [
    {
     "name": "stdout",
     "output_type": "stream",
     "text": [
      "U = -0.3015673644120444\n"
     ]
    }
   ],
   "source": [
    "y = float(input('Введите значение для переменной y'))\n",
    "x = float(input('Введите значение для переменной x'))\n",
    "a = float(input('Введите значение для переменной a'))\n",
    "b = float(input('Введите значение для переменной b'))\n",
    "c = float(input('Введите значение для переменной c'))\n",
    "\n",
    "my_class = MyClassTask1( y, x, a, b, c)\n",
    "my_class.calculate_G()"
   ]
  },
  {
   "cell_type": "code",
   "execution_count": 20,
   "metadata": {},
   "outputs": [
    {
     "name": "stdout",
     "output_type": "stream",
     "text": [
      "N = 370193.51315756934\n"
     ]
    }
   ],
   "source": [
    "#Задание 21\n",
    "z = float(input('Введите значение для переменной z'))\n",
    "x = float(input('Введите значение для переменной x'))\n",
    "a = float(input('Введите значение для переменной a'))\n",
    "\n",
    "print(f'N = {5 * np.sqrt(z) + np.sqrt(z * x) / np.exp(x) + a**5 * np.arctan(x)}')"
   ]
  },
  {
   "cell_type": "code",
   "execution_count": 23,
   "metadata": {},
   "outputs": [],
   "source": [
    "class MyClassTask1:\n",
    "    def __init__(self, z, x, a):\n",
    "        self.z = z\n",
    "        self.x = x\n",
    "        self.a = a\n",
    "    def calculate_G(self):\n",
    "        print(f'N = {5 * np.sqrt(z) + np.sqrt(z * x) / np.exp(x) + a**5 * np.arctan(x)}')"
   ]
  },
  {
   "cell_type": "code",
   "execution_count": null,
   "metadata": {},
   "outputs": [
    {
     "name": "stdout",
     "output_type": "stream",
     "text": [
      "N = 370193.51315756934\n"
     ]
    }
   ],
   "source": [
    "z = float(input('Введите значение для переменной z'))\n",
    "x = float(input('Введите значение для переменной x'))\n",
    "a = float(input('Введите значение для переменной a'))\n",
    "\n",
    "my_class = MyClassTask1( z, x, a)\n",
    "my_class.calculate_G()"
   ]
  },
  {
   "cell_type": "code",
   "execution_count": null,
   "metadata": {},
   "outputs": [
    {
     "name": "stdout",
     "output_type": "stream",
     "text": [
      "F = 709.2644731198845\n"
     ]
    }
   ],
   "source": [
    "#Задание 22\n",
    "x = float(input('Введите значение для переменной x'))\n",
    "y = float(input('Введите значение для переменной y'))\n",
    "\n",
    "print(f'F = {np.cos(x**2 + 2) + (3.5 * x**2 + 1) / np.cos(y)**2}')"
   ]
  },
  {
   "cell_type": "code",
   "execution_count": 27,
   "metadata": {},
   "outputs": [],
   "source": [
    "class MyClassTask1:\n",
    "    def __init__(self, x, y):\n",
    "        self.x = x\n",
    "        self.y = y\n",
    "    def calculate_G(self):\n",
    "        print(f'F = {np.cos(x**2 + 2) + (3.5 * x**2 + 1) / np.cos(y)**2}')"
   ]
  },
  {
   "cell_type": "code",
   "execution_count": 28,
   "metadata": {},
   "outputs": [
    {
     "name": "stdout",
     "output_type": "stream",
     "text": [
      "F = 709.2644731198845\n"
     ]
    }
   ],
   "source": [
    "x = float(input('Введите значение для переменной x'))\n",
    "y = float(input('Введите значение для переменной y'))\n",
    "\n",
    "my_class = MyClassTask1( x, y)\n",
    "my_class.calculate_G()"
   ]
  },
  {
   "cell_type": "code",
   "execution_count": 113,
   "metadata": {},
   "outputs": [
    {
     "name": "stdout",
     "output_type": "stream",
     "text": [
      "F = 8531.001158051553\n"
     ]
    }
   ],
   "source": [
    "#Задание 23\n",
    "x = float(input('Введите значение для переменной x'))\n",
    "z = float(input('Введите значение для переменной z'))\n",
    "a = float(input('Введите значение для переменной a'))\n",
    "b = float(input('Введите значение для переменной b'))\n",
    "\n",
    "print(f'F = {np.sqrt(np.abs(x)) + np.cos(x)**3 + z**4 / (np.log(x) - np.sin(b * x - a))}')"
   ]
  },
  {
   "cell_type": "code",
   "execution_count": 115,
   "metadata": {},
   "outputs": [],
   "source": [
    "class MyClassTask1:\n",
    "    def __init__(self, x, z, a, b):\n",
    "        self.x = x\n",
    "        self.z = z\n",
    "        self.a = a\n",
    "        self.b = b\n",
    "    def calculate_G(self):\n",
    "        print(f'F = {np.sqrt(np.abs(x)) + np.cos(x)**3 + z**4 / (np.log(x) - np.sin(b * x - a))}')"
   ]
  },
  {
   "cell_type": "code",
   "execution_count": 117,
   "metadata": {},
   "outputs": [
    {
     "name": "stdout",
     "output_type": "stream",
     "text": [
      "F = 8531.001158051553\n"
     ]
    }
   ],
   "source": [
    "x = float(input('Введите значение для переменной x'))\n",
    "z = float(input('Введите значение для переменной z'))\n",
    "a = float(input('Введите значение для переменной a'))\n",
    "b = float(input('Введите значение для переменной b'))\n",
    "\n",
    "my_class = MyClassTask1( x, z, a, b)\n",
    "my_class.calculate_G()"
   ]
  },
  {
   "cell_type": "code",
   "execution_count": 40,
   "metadata": {},
   "outputs": [
    {
     "name": "stdout",
     "output_type": "stream",
     "text": [
      "f = 1.0867342827922268\n"
     ]
    }
   ],
   "source": [
    "#Задание 24\n",
    "x = float(input('Введите значение для переменной x'))\n",
    "a = float(input('Введите значение для переменной a'))\n",
    "b = float(input('Введите значение для переменной b'))\n",
    "z = float(input('Введите значение для переменной z'))\n",
    "\n",
    "print(f'f = {np.cos(b * x**5)**7 - np.sin(a**2) + np.cos(x**3 + z**5 - a**2) / np.arcsin(a**2) + np.arccos(x**7 - a**2)}')"
   ]
  },
  {
   "cell_type": "code",
   "execution_count": 41,
   "metadata": {},
   "outputs": [],
   "source": [
    "class MyClassTask1:\n",
    "    def __init__(self, x, a, b, z):\n",
    "        self.x = x\n",
    "        self.a = a\n",
    "        self.b = b\n",
    "        self.z = z\n",
    "    def calculate_G(self):\n",
    "        print(f'f = {np.cos(b * x**5)**7 - np.sin(a**2) + np.cos(x**3 + z**5 - a**2) / np.arcsin(a**2) + np.arccos(x**7 - a**2)}')"
   ]
  },
  {
   "cell_type": "code",
   "execution_count": 42,
   "metadata": {},
   "outputs": [
    {
     "name": "stdout",
     "output_type": "stream",
     "text": [
      "f = 1.0867342827922268\n"
     ]
    }
   ],
   "source": [
    "x = float(input('Введите значение для переменной x'))\n",
    "a = float(input('Введите значение для переменной a'))\n",
    "b = float(input('Введите значение для переменной b'))\n",
    "z = float(input('Введите значение для переменной z'))\n",
    "my_class = MyClassTask1( x, a, b, z)\n",
    "my_class.calculate_G()"
   ]
  },
  {
   "cell_type": "code",
   "execution_count": 54,
   "metadata": {},
   "outputs": [
    {
     "name": "stdout",
     "output_type": "stream",
     "text": [
      "J = 2985984.0000482253\n"
     ]
    }
   ],
   "source": [
    "#Задание 25\n",
    "a = float(input('Введите значение для переменной a'))\n",
    "y = float(input('Введите значение для переменной y'))\n",
    "x = float(input('Введите значение для переменной x'))\n",
    "ctg_a = float(input('Введите значение для переменной ctg_a'))\n",
    "arctg_a = float(input('Введите значение для переменной arctg_a'))\n",
    "tan_x = float(input('Введите значение для переменной tan_x'))\n",
    "\n",
    "print(f'J = {(ctg_a ** 3) * (a ** 3) + (arctg_a ** 2) / np.sqrt(y ** tan_x)}')"
   ]
  },
  {
   "cell_type": "code",
   "execution_count": 57,
   "metadata": {},
   "outputs": [],
   "source": [
    "class MyClassTask1:\n",
    "    def __init__(self, a, y, x, ctg_a, arctg_a, tan_x):\n",
    "        self.ctg_a = ctg_a\n",
    "        self.arctg_a = arctg_a\n",
    "        self.tan_x = tan_x\n",
    "        self.a = a\n",
    "        self.y = y\n",
    "        self.x = x\n",
    "    def calculate_G(self):\n",
    "        print(f'J = {(ctg_a ** 3) * (a ** 3) + (arctg_a ** 2) / np.sqrt(y ** tan_x)}')"
   ]
  },
  {
   "cell_type": "code",
   "execution_count": 58,
   "metadata": {},
   "outputs": [
    {
     "name": "stdout",
     "output_type": "stream",
     "text": [
      "J = 2985984.0000482253\n"
     ]
    }
   ],
   "source": [
    "a = float(input('Введите значение для переменной a'))\n",
    "y = float(input('Введите значение для переменной y'))\n",
    "x = float(input('Введите значение для переменной x'))\n",
    "ctg_a = float(input('Введите значение для переменной ctg_a'))\n",
    "arctg_a = float(input('Введите значение для переменной arctg_a'))\n",
    "tan_x = float(input('Введите значение для переменной tan_x'))\n",
    "my_class = MyClassTask1( a, y, x, ctg_a, arctg_a, tan_x)\n",
    "my_class.calculate_G()"
   ]
  },
  {
   "cell_type": "code",
   "execution_count": 59,
   "metadata": {},
   "outputs": [
    {
     "name": "stdout",
     "output_type": "stream",
     "text": [
      "U = 9338.53423400485\n"
     ]
    }
   ],
   "source": [
    "#Задание 26\n",
    "x = float(input('Введите значение для перемнной x'))\n",
    "y = float(input('Введите значение для перемнной y'))\n",
    "k = float(input('Введите значение для перемнной k'))\n",
    "\n",
    "print(f'U = {np.log(np.power(x, 3) + y) - (np.power(y, 4) / np.exp(y)) + 5.4 * np.power(k, 3)}')"
   ]
  },
  {
   "cell_type": "code",
   "execution_count": 60,
   "metadata": {},
   "outputs": [],
   "source": [
    "class MyClassTask1:\n",
    "    def __init__(self, x, y, k):\n",
    "        self.x = x\n",
    "        self.y = y\n",
    "        self.k = k\n",
    "    def calculate_G(self):\n",
    "        print(f'U = {np.log(np.power(x, 3) + y) - (np.power(y, 4) / np.exp(y)) + 5.4 * np.power(k, 3)}')"
   ]
  },
  {
   "cell_type": "code",
   "execution_count": 61,
   "metadata": {},
   "outputs": [
    {
     "name": "stdout",
     "output_type": "stream",
     "text": [
      "U = 9338.53423400485\n"
     ]
    }
   ],
   "source": [
    "x = float(input('Введите значение для перемнной x'))\n",
    "y = float(input('Введите значение для перемнной y'))\n",
    "k = float(input('Введите значение для перемнной k'))\n",
    "my_class = MyClassTask1( x, y, k)\n",
    "my_class.calculate_G()"
   ]
  },
  {
   "cell_type": "code",
   "execution_count": 101,
   "metadata": {},
   "outputs": [
    {
     "name": "stdout",
     "output_type": "stream",
     "text": [
      "P = 248832.90375673128\n"
     ]
    }
   ],
   "source": [
    "#Задание 27\n",
    "a = float(input('Введите значение для переменной a'))\n",
    "x = float(input('Введите значение для переменной x'))\n",
    "y = float(input('Введите значение для переменной y'))\n",
    "c = float(input('Введите значение для переменной c'))\n",
    "\n",
    "print(f'P = {a**5 + np.cos(a + x**3) - np.sin(y - c)**4 / np.sin(x + y)**3 + abs(x - y)}')"
   ]
  },
  {
   "cell_type": "code",
   "execution_count": 99,
   "metadata": {},
   "outputs": [],
   "source": [
    "class MyClassTask1:\n",
    "    def __init__(self, a, x, y, c):\n",
    "        self.a = a\n",
    "        self.x = x\n",
    "        self.y = y\n",
    "        self.c = c\n",
    "    def calculate_G(self):\n",
    "        print(f'P = {a**5 + np.cos(a + x**3) - np.sin(y - c)**4 / np.sin(x + y)**3 + abs(x - y)}')"
   ]
  },
  {
   "cell_type": "code",
   "execution_count": 100,
   "metadata": {},
   "outputs": [
    {
     "name": "stdout",
     "output_type": "stream",
     "text": [
      "P = 248832.90375673128\n"
     ]
    }
   ],
   "source": [
    "a = float(input('Введите значение для переменной a'))\n",
    "x = float(input('Введите значение для переменной x'))\n",
    "y = float(input('Введите значение для переменной y'))\n",
    "c = float(input('Введите значение для переменной c'))\n",
    "my_class = MyClassTask1( a, x, y, c)\n",
    "my_class.calculate_G()"
   ]
  },
  {
   "cell_type": "code",
   "execution_count": 102,
   "metadata": {},
   "outputs": [
    {
     "name": "stdout",
     "output_type": "stream",
     "text": [
      "G = -92.83658608778288\n"
     ]
    }
   ],
   "source": [
    "#Задание 28\n",
    "x = float(input('Введите значение для переменной x'))\n",
    "y = float(input('Введите значение для переменной y'))\n",
    "z = float(input('Введите значение для переменной z'))\n",
    "c = float(input('Введите значение для переменной c'))\n",
    "\n",
    "print(f'G = {np.tan(np.power(x, 4) - 6) - (np.cos(x)**3) * (z + np.power(x, 3) * y) / (np.cos(np.power(x, 3))**2 * np.power(c, 2))}')"
   ]
  },
  {
   "cell_type": "code",
   "execution_count": 103,
   "metadata": {},
   "outputs": [],
   "source": [
    "class MyClassTask1:\n",
    "    def __init__(self, x, y, z, c):\n",
    "        self.x = x\n",
    "        self.y = y\n",
    "        self.z = z\n",
    "        self.c = c\n",
    "    def calculate_G(self):\n",
    "        print(f'G = {np.tan(np.power(x, 4) - 6) - (np.cos(x)**3) * (z + np.power(x, 3) * y) / (np.cos(np.power(x, 3))**2 * np.power(c, 2))}')"
   ]
  },
  {
   "cell_type": "code",
   "execution_count": 104,
   "metadata": {},
   "outputs": [
    {
     "name": "stdout",
     "output_type": "stream",
     "text": [
      "G = -92.83658608778288\n"
     ]
    }
   ],
   "source": [
    "x = float(input('Введите значение для переменной x'))\n",
    "y = float(input('Введите значение для переменной y'))\n",
    "z = float(input('Введите значение для переменной z'))\n",
    "c = float(input('Введите значение для переменной c'))\n",
    "my_class = MyClassTask1( x, y, z, c)\n",
    "my_class.calculate_G()"
   ]
  },
  {
   "cell_type": "code",
   "execution_count": 105,
   "metadata": {},
   "outputs": [
    {
     "name": "stdout",
     "output_type": "stream",
     "text": [
      "R = 2.5508952779659024\n"
     ]
    }
   ],
   "source": [
    "#Задание 29\n",
    "y = float(input('Введите значение для переменной y'))\n",
    "d = float(input('Введите значение для переменной d'))\n",
    "x = float(input('Введите значение для переменной x'))\n",
    "\n",
    "print(f'R = {np.cos(y)**2 + (2.4 * d) / np.exp(y) + np.log(np.sin(x)**2 + 6)}')"
   ]
  },
  {
   "cell_type": "code",
   "execution_count": 106,
   "metadata": {},
   "outputs": [],
   "source": [
    "class MyClassTask1:\n",
    "    def __init__(self, y, d, x):\n",
    "        self.y = y\n",
    "        self.d = d\n",
    "        self.x = x\n",
    "    def calculate_G(self):\n",
    "        print(f'R = {np.cos(y)**2 + (2.4 * d) / np.exp(y) + np.log(np.sin(x)**2 + 6)}')"
   ]
  },
  {
   "cell_type": "code",
   "execution_count": 107,
   "metadata": {},
   "outputs": [
    {
     "name": "stdout",
     "output_type": "stream",
     "text": [
      "R = 2.5508952779659024\n"
     ]
    }
   ],
   "source": [
    "y = float(input('Введите значение для переменной y'))\n",
    "d = float(input('Введите значение для переменной d'))\n",
    "x = float(input('Введите значение для переменной x'))\n",
    "my_class = MyClassTask1( y, d, x)\n",
    "my_class.calculate_G()"
   ]
  },
  {
   "cell_type": "code",
   "execution_count": 109,
   "metadata": {},
   "outputs": [
    {
     "name": "stdout",
     "output_type": "stream",
     "text": [
      "K = 3372.45311284005\n"
     ]
    }
   ],
   "source": [
    "#Задание 30\n",
    "x = float(input('Введите значение для переменной x'))\n",
    "\n",
    "print(f'K = {np.sqrt((3 + x)**6) - np.log(x) + np.sin(6 * x**2)}')"
   ]
  },
  {
   "cell_type": "code",
   "execution_count": 111,
   "metadata": {},
   "outputs": [],
   "source": [
    "class MyClassTask1:\n",
    "    def __init__(self, x):\n",
    "        self.x = x\n",
    "    def calculate_G(self):\n",
    "        print(f'K = {np.sqrt((3 + x)**6) - np.log(x) + np.sin(6 * x**2)}')"
   ]
  },
  {
   "cell_type": "code",
   "execution_count": 112,
   "metadata": {},
   "outputs": [
    {
     "name": "stdout",
     "output_type": "stream",
     "text": [
      "K = 3372.45311284005\n"
     ]
    }
   ],
   "source": [
    "x = float(input('Введите значение для переменной x'))\n",
    "my_class = MyClassTask1(x)\n",
    "my_class.calculate_G()"
   ]
  }
 ],
 "metadata": {
  "kernelspec": {
   "display_name": "Python 3",
   "language": "python",
   "name": "python3"
  },
  "language_info": {
   "codemirror_mode": {
    "name": "ipython",
    "version": 3
   },
   "file_extension": ".py",
   "mimetype": "text/x-python",
   "name": "python",
   "nbconvert_exporter": "python",
   "pygments_lexer": "ipython3",
   "version": "3.13.1"
  }
 },
 "nbformat": 4,
 "nbformat_minor": 2
}
