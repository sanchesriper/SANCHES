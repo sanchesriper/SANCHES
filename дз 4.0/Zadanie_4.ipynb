{
 "cells": [
  {
   "cell_type": "code",
   "execution_count": 7,
   "metadata": {},
   "outputs": [],
   "source": [
    "import numpy as np\n",
    "import matplotlib.pyplot as plt"
   ]
  },
  {
   "cell_type": "code",
   "execution_count": 7,
   "metadata": {},
   "outputs": [
    {
     "name": "stdout",
     "output_type": "stream",
     "text": [
      "y = 17414.24035644388\n",
      "a = 0.5440680443502757\n",
      "c = 1.4792259935030567\n"
     ]
    }
   ],
   "source": [
    "#Задание 1\n",
    "x = 3.5\n",
    "b = 0.4\n",
    "\n",
    "y = np.exp(2 * x) + np.exp(9.7)\n",
    "a = np.log10(x)\n",
    "c = np.power(a, 2) + np.sqrt(b * x)\n",
    "\n",
    "print(f'y = {y}')\n",
    "print(f'a = {a}')\n",
    "print(f'c = {c}')"
   ]
  },
  {
   "cell_type": "code",
   "execution_count": 8,
   "metadata": {},
   "outputs": [],
   "source": [
    "class Calculator:\n",
    "    def __init__(self, x, b):\n",
    "        self.x = x\n",
    "        self.b = b\n",
    "        self.y = self.calculate_y()\n",
    "        self.a = self.calculate_a()\n",
    "        self.c = self.calculate_c()\n",
    "\n",
    "    def calculate_y(self):\n",
    "        return np.exp(2 * self.x) + np.exp(9.7)\n",
    "\n",
    "    def calculate_a(self):\n",
    "        return np.log10(self.x)\n",
    "\n",
    "    def calculate_c(self):\n",
    "        return np.power(self.a, 2) + np.sqrt(self.b * self.x)\n",
    "                                         \n",
    "    def display_results(self):\n",
    "        print(f'y = {self.y}')\n",
    "        print(f'a = {self.a}')\n",
    "        print(f'c = {self.c}')\n"
   ]
  },
  {
   "cell_type": "code",
   "execution_count": 4,
   "metadata": {},
   "outputs": [
    {
     "name": "stdout",
     "output_type": "stream",
     "text": [
      "y = 17414.24035644388\n",
      "a = 0.5440680443502757\n",
      "c = 1.4792259935030567\n"
     ]
    }
   ],
   "source": [
    "x = 3.5\n",
    "b = 0.4\n",
    "calculator = Calculator(x, b)\n",
    "calculator.display_results()"
   ]
  },
  {
   "cell_type": "code",
   "execution_count": 18,
   "metadata": {},
   "outputs": [
    {
     "name": "stdout",
     "output_type": "stream",
     "text": [
      " y = 2.454182605357436\n",
      " a = 0.26236426446749106\n",
      " b = 13.80481157880943\n"
     ]
    }
   ],
   "source": [
    "#Задание 2\n",
    "x = 1.3\n",
    "b = 0.4\n",
    "\n",
    "y = x * (a ** 3) + b ** 2\n",
    "a = np.log(np.abs(x))\n",
    "b = np.exp(2 * x) + a * x\n",
    "\n",
    "print(f' y = {y}')\n",
    "print(f' a = {a}')\n",
    "print(f' b = {b}')"
   ]
  },
  {
   "cell_type": "code",
   "execution_count": 6,
   "metadata": {},
   "outputs": [],
   "source": [
    "class Calculator:\n",
    "    def __init__(self, x, b):\n",
    "        self.x = x\n",
    "        self.b = b\n",
    "        self.y = self.calculate_y()\n",
    "        self.a = self.calculate_a()\n",
    "        self.b = self.calculate_b()\n",
    "\n",
    "    def calculate_y(self):\n",
    "        return x * (a ** 3) + b ** 2\n",
    "\n",
    "    def calculate_a(self):\n",
    "        return np.log(np.abs(x))\n",
    "\n",
    "    def calculate_b(self):\n",
    "        return np.exp(2 * x) + a * x\n",
    "                                         \n",
    "    def display_results(self):\n",
    "        print(f'y = {self.y}')\n",
    "        print(f'a = {self.a}')\n",
    "        print(f'b = {self.b}')\n"
   ]
  },
  {
   "cell_type": "code",
   "execution_count": 7,
   "metadata": {},
   "outputs": [
    {
     "name": "stdout",
     "output_type": "stream",
     "text": [
      "y = 0.18347779986746288\n",
      "a = 0.26236426446749106\n",
      "b = 13.80481157880943\n"
     ]
    }
   ],
   "source": [
    "x = 1.3\n",
    "b = 0.4\n",
    "calculator = Calculator(x, b)\n",
    "calculator.display_results()"
   ]
  },
  {
   "cell_type": "code",
   "execution_count": 8,
   "metadata": {},
   "outputs": [
    {
     "name": "stdout",
     "output_type": "stream",
     "text": [
      " y = 0.1128740378243406\n",
      " a = 4.2594399079012994\n",
      " b = 10.102470984807898\n"
     ]
    }
   ],
   "source": [
    "#Задание 3\n",
    "x = 2.1\n",
    "p = 1\n",
    "\n",
    "y = a**3 / b**2  \n",
    "a = np.exp(np.sqrt(np.abs(x))) \n",
    "b = np.sin(p**2) + x**3  \n",
    "\n",
    "print(f' y = {y}')\n",
    "print(f' a = {a}')\n",
    "print(f' b = {b}')"
   ]
  },
  {
   "cell_type": "code",
   "execution_count": 14,
   "metadata": {},
   "outputs": [],
   "source": [
    "class Calculator:\n",
    "    def __init__(self, x, p):\n",
    "        self.x = x\n",
    "        self.p = p\n",
    "        self.y = self.calculate_y()\n",
    "        self.a = self.calculate_a()\n",
    "        self.b = self.calculate_b()\n",
    "\n",
    "    def calculate_y(self):\n",
    "        return a**3 / b**2  \n",
    "\n",
    "    def calculate_a(self):\n",
    "        return np.exp(np.sqrt(np.abs(x)))\n",
    "\n",
    "    def calculate_b(self):\n",
    "        return np.sin(p**2) + x**3\n",
    "                                         \n",
    "    def display_results(self):\n",
    "        print(f'y = {self.y}')\n",
    "        print(f'a = {self.a}')\n",
    "        print(f'b = {self.b}')\n"
   ]
  },
  {
   "cell_type": "code",
   "execution_count": 15,
   "metadata": {},
   "outputs": [
    {
     "name": "stdout",
     "output_type": "stream",
     "text": [
      "y = 0.5016617607834352\n",
      "a = 4.2594399079012994\n",
      "b = 10.102470984807898\n"
     ]
    }
   ],
   "source": [
    "x = 2.1\n",
    "p = 1\n",
    "calculator = Calculator(x, p)\n",
    "calculator.display_results()"
   ]
  },
  {
   "cell_type": "code",
   "execution_count": 5,
   "metadata": {},
   "outputs": [
    {
     "name": "stdout",
     "output_type": "stream",
     "text": [
      " y = 23.988138605923567\n",
      " a = 0.43136376415898736\n",
      " b = 6.579513659838392\n"
     ]
    }
   ],
   "source": [
    "#Задание 4 \n",
    "x = 2.7\n",
    "t = -6\n",
    "\n",
    "y = 5 * np.sqrt(abs(a - b * x)) \n",
    "a = np.log10(x)\n",
    "b = np.sqrt(x**2 + t**2)\n",
    "\n",
    "print(f' y = {y}')\n",
    "print(f' a = {a}')\n",
    "print(f' b = {b}')"
   ]
  },
  {
   "cell_type": "code",
   "execution_count": 16,
   "metadata": {},
   "outputs": [],
   "source": [
    "class Calculator:\n",
    "    def __init__(self, x, t):\n",
    "        self.x = x\n",
    "        self.t = t\n",
    "        self.y = self.calculate_y()\n",
    "        self.a = self.calculate_a()\n",
    "        self.b = self.calculate_b()\n",
    "\n",
    "    def calculate_y(self):\n",
    "        return 5 * np.sqrt(abs(a - b * x)) \n",
    "\n",
    "    def calculate_a(self):\n",
    "        return np.log10(x)\n",
    "\n",
    "    def calculate_b(self):\n",
    "        return np.sqrt(x**2 + t**2)\n",
    "                                         \n",
    "    def display_results(self):\n",
    "        print(f'y = {self.y}')\n",
    "        print(f'a = {self.a}')\n",
    "        print(f'b = {self.b}')\n"
   ]
  },
  {
   "cell_type": "code",
   "execution_count": 17,
   "metadata": {},
   "outputs": [
    {
     "name": "stdout",
     "output_type": "stream",
     "text": [
      "y = 4.026897800543902\n",
      "a = 0.43136376415898736\n",
      "b = 6.579513659838392\n"
     ]
    }
   ],
   "source": [
    "x = 2.7\n",
    "t = -6\n",
    "calculator = Calculator(x, t)\n",
    "calculator.display_results()"
   ]
  },
  {
   "cell_type": "code",
   "execution_count": 23,
   "metadata": {},
   "outputs": [
    {
     "name": "stdout",
     "output_type": "stream",
     "text": [
      " k = 3.507135583350036\n",
      " x = 52.30273478724298\n",
      " y = 13.565210989075059\n"
     ]
    }
   ],
   "source": [
    "#Задание 5\n",
    "t = 4.1\n",
    "p = 3\n",
    "\n",
    "k = np.sqrt(p * t)\n",
    "x = p * t**2 + np.sqrt(k)\n",
    "y = np.tan(x**2)**3 + k * t \n",
    "\n",
    "print(f' k = {k}')\n",
    "print(f' x = {x}')\n",
    "print(f' y = {y}')"
   ]
  },
  {
   "cell_type": "code",
   "execution_count": 25,
   "metadata": {},
   "outputs": [],
   "source": [
    "class Calculator:\n",
    "    def __init__(self, t, p):\n",
    "        self.t = t\n",
    "        self.p = p\n",
    "        self.k = self.calculate_k()\n",
    "        self.x = self.calculate_x()\n",
    "        self.y = self.calculate_y()\n",
    "\n",
    "    def calculate_k(self):\n",
    "        return np.sqrt(p * t) \n",
    "\n",
    "    def calculate_x(self):\n",
    "        return p * t**2 + np.sqrt(k)\n",
    "\n",
    "    def calculate_y(self):\n",
    "        return np.tan(x**2)**3 + k * t\n",
    "                                         \n",
    "    def display_results(self):\n",
    "        print(f'k = {self.k}')\n",
    "        print(f'x = {self.x}')\n",
    "        print(f'y = {self.y}')\n"
   ]
  },
  {
   "cell_type": "code",
   "execution_count": 26,
   "metadata": {},
   "outputs": [
    {
     "name": "stdout",
     "output_type": "stream",
     "text": [
      "k = 3.507135583350036\n",
      "x = 52.30273478724298\n",
      "y = 13.565210989075059\n"
     ]
    }
   ],
   "source": [
    "t = 4.1\n",
    "p = 3\n",
    "calculator = Calculator(t, p)\n",
    "calculator.display_results()"
   ]
  },
  {
   "cell_type": "code",
   "execution_count": 27,
   "metadata": {},
   "outputs": [
    {
     "name": "stdout",
     "output_type": "stream",
     "text": [
      " y = 0.030443025581976438\n",
      " a = 1.0488088481701516\n",
      " b = 5.4641\n"
     ]
    }
   ],
   "source": [
    "#Задание 6\n",
    "m = 2\n",
    "x = 1.1\n",
    "\n",
    "a = np.sqrt(np.abs(x))\n",
    "b = x**4 + m**2\n",
    "y = np.sin(a + np.tan(b)**3)**2\n",
    "\n",
    "print(f' y = {y}')\n",
    "print(f' a = {a}')\n",
    "print(f' b = {b}')"
   ]
  },
  {
   "cell_type": "code",
   "execution_count": 34,
   "metadata": {},
   "outputs": [],
   "source": [
    "class Calculator:\n",
    "    def __init__(self, m, x):\n",
    "        self.m = m\n",
    "        self.x = x\n",
    "        self.y = self.calculate_y()\n",
    "        self.a = self.calculate_a()\n",
    "        self.b = self.calculate_b()\n",
    "\n",
    "    def calculate_y(self):\n",
    "        return np.sqrt(np.abs(x))\n",
    "    \n",
    "    def calculate_b(self):\n",
    "        return x**4 + m**2\n",
    "\n",
    "    def calculate_a(self):\n",
    "        return np.sin(a + np.tan(b)**3)**2\n",
    "                                         \n",
    "    def display_results(self):\n",
    "        print(f'y = {self.y}')\n",
    "        print(f'a = {self.a}')\n",
    "        print(f'b = {self.b}')"
   ]
  },
  {
   "cell_type": "code",
   "execution_count": 35,
   "metadata": {},
   "outputs": [
    {
     "name": "stdout",
     "output_type": "stream",
     "text": [
      "y = 1.0488088481701516\n",
      "a = 0.030443025581976438\n",
      "b = 5.4641\n"
     ]
    }
   ],
   "source": [
    "m = 2\n",
    "x = 1.1\n",
    "calculator = Calculator(m, x)\n",
    "calculator.display_results()"
   ]
  },
  {
   "cell_type": "code",
   "execution_count": null,
   "metadata": {},
   "outputs": [
    {
     "name": "stdout",
     "output_type": "stream",
     "text": [
      " y = 21.06339849444461\n",
      " a = 576.3679999999998\n",
      " c = 2.23606797749979\n"
     ]
    }
   ],
   "source": [
    "#Задание 7\n",
    "k = 8.2\n",
    "x = 5\n",
    "\n",
    "c = np.sqrt(np.abs(x))\n",
    "a = c**4 + k**3\n",
    "y = np.log10(a)**3 + np.cos(x)**3\n",
    "\n",
    "print(f' y = {y}')\n",
    "print(f' a = {a}')\n",
    "print(f' c = {c}')"
   ]
  },
  {
   "cell_type": "code",
   "execution_count": 37,
   "metadata": {},
   "outputs": [],
   "source": [
    "class Calculator:\n",
    "    def __init__(self, k, x):\n",
    "        self.k = k\n",
    "        self.x = x\n",
    "        self.c = self.calculate_c()\n",
    "        self.a = self.calculate_a()\n",
    "        self.y = self.calculate_y()\n",
    "\n",
    "    def calculate_c(self):\n",
    "        return np.sqrt(np.abs(x))\n",
    "    \n",
    "    def calculate_a(self):\n",
    "        return c**4 + k**3\n",
    "\n",
    "    def calculate_y(self):\n",
    "        return np.log10(a)**3 + np.cos(x)**3\n",
    "                                         \n",
    "    def display_results(self):\n",
    "        print(f'c = {self.c}')\n",
    "        print(f'a = {self.a}')\n",
    "        print(f'y = {self.y}')"
   ]
  },
  {
   "cell_type": "code",
   "execution_count": null,
   "metadata": {},
   "outputs": [
    {
     "name": "stdout",
     "output_type": "stream",
     "text": [
      "c = 2.23606797749979\n",
      "a = 576.3679999999998\n",
      "y = 21.06339849444461\n"
     ]
    }
   ],
   "source": [
    "k = 8.2\n",
    "x = 5\n",
    "calculator = Calculator(k, x)\n",
    "calculator.display_results()"
   ]
  },
  {
   "cell_type": "code",
   "execution_count": 39,
   "metadata": {},
   "outputs": [
    {
     "name": "stdout",
     "output_type": "stream",
     "text": [
      " y = 12056813.65645521\n",
      " x = 206.18749640381964\n",
      " a = 0.8084964038195901\n"
     ]
    }
   ],
   "source": [
    "#Задание 8\n",
    "b = 2.2\n",
    "c = 3.7\n",
    "\n",
    "a = np.sin(b)\n",
    "x = a + (b + c)**3 \n",
    "y = 7 * np.exp(np.sqrt(np.abs(x))) + np.cos(x)**4\n",
    "\n",
    "\n",
    "print(f' y = {y}')\n",
    "print(f' x = {x}')\n",
    "print(f' a = {a}')"
   ]
  },
  {
   "cell_type": "code",
   "execution_count": 40,
   "metadata": {},
   "outputs": [],
   "source": [
    "class Calculator:\n",
    "    def __init__(self, b, c):\n",
    "        self.b = b\n",
    "        self.c = c\n",
    "        self.a = self.calculate_a()\n",
    "        self.x = self.calculate_x()\n",
    "        self.y = self.calculate_y()\n",
    "\n",
    "    def calculate_a(self):\n",
    "        return np.sin(b)\n",
    "    \n",
    "    def calculate_x(self):\n",
    "        return a + (b + c)**3 \n",
    "\n",
    "    def calculate_y(self):\n",
    "        return 7 * np.exp(np.sqrt(np.abs(x))) + np.cos(x)**4\n",
    "                                         \n",
    "    def display_results(self):\n",
    "        print(f'a = {self.a}')\n",
    "        print(f'x = {self.x}')\n",
    "        print(f'y = {self.y}')"
   ]
  },
  {
   "cell_type": "code",
   "execution_count": 41,
   "metadata": {},
   "outputs": [
    {
     "name": "stdout",
     "output_type": "stream",
     "text": [
      "a = 0.8084964038195901\n",
      "x = 206.18749640381964\n",
      "y = 12056813.65645521\n"
     ]
    }
   ],
   "source": [
    "b = 2.2\n",
    "c = 3.7\n",
    "calculator = Calculator(b, c)\n",
    "calculator.display_results()"
   ]
  },
  {
   "cell_type": "code",
   "execution_count": 42,
   "metadata": {},
   "outputs": [
    {
     "name": "stdout",
     "output_type": "stream",
     "text": [
      " y = 18.42110926631292\n",
      " x = 6.0496474644129465\n",
      " c = 1.0516207918329266\n"
     ]
    }
   ],
   "source": [
    "#Задание 9\n",
    "k = 1\n",
    "m = 1.8\n",
    "\n",
    "c = np.cos(m)**2 + k**2\n",
    "x = np.exp(m * k)\n",
    "y = 3 * np.sqrt(x**2 + c**2)\n",
    "\n",
    "print(f' y = {y}')\n",
    "print(f' x = {x}')\n",
    "print(f' c = {c}')"
   ]
  },
  {
   "cell_type": "code",
   "execution_count": 43,
   "metadata": {},
   "outputs": [],
   "source": [
    "class Calculator:\n",
    "    def __init__(self, k, m):\n",
    "        self.k = k\n",
    "        self.m = m\n",
    "        self.c = self.calculate_c()\n",
    "        self.x = self.calculate_x()\n",
    "        self.y = self.calculate_y()\n",
    "\n",
    "    def calculate_c(self):\n",
    "        return np.cos(m)**2 + k**2\n",
    "    \n",
    "    def calculate_x(self):\n",
    "        return np.exp(m * k) \n",
    "\n",
    "    def calculate_y(self):\n",
    "        return 3 * np.sqrt(x**2 + c**2)\n",
    "                                         \n",
    "    def display_results(self):\n",
    "        print(f'c = {self.c}')\n",
    "        print(f'x = {self.x}')\n",
    "        print(f'y = {self.y}')"
   ]
  },
  {
   "cell_type": "code",
   "execution_count": 44,
   "metadata": {},
   "outputs": [
    {
     "name": "stdout",
     "output_type": "stream",
     "text": [
      "c = 1.0516207918329266\n",
      "x = 6.0496474644129465\n",
      "y = 18.42110926631292\n"
     ]
    }
   ],
   "source": [
    "k = 1\n",
    "m = 1.8\n",
    "calculator = Calculator(k, m)\n",
    "calculator.display_results()"
   ]
  },
  {
   "cell_type": "code",
   "execution_count": 45,
   "metadata": {},
   "outputs": [
    {
     "name": "stdout",
     "output_type": "stream",
     "text": [
      " y = 307636.8407512342\n",
      " c = 7.188648010438863\n",
      " a = 2.4593642644674913\n"
     ]
    }
   ],
   "source": [
    "#Задание 10\n",
    "x = 2.8\n",
    "b = 1.3\n",
    "\n",
    "a = b**3 + np.log(np.abs(b))\n",
    "c = a**2 + np.sqrt(b)\n",
    "y = np.exp(x) + 5.8**c\n",
    "\n",
    "print(f' y = {y}')\n",
    "print(f' c = {c}')\n",
    "print(f' a = {a}')"
   ]
  },
  {
   "cell_type": "code",
   "execution_count": 46,
   "metadata": {},
   "outputs": [],
   "source": [
    "class Calculator:\n",
    "    def __init__(self, x, b):\n",
    "        self.x = x\n",
    "        self.b = b\n",
    "        self.a = self.calculate_a()\n",
    "        self.c = self.calculate_c()\n",
    "        self.y = self.calculate_y()\n",
    "\n",
    "    def calculate_a(self):\n",
    "        return b**3 + np.log(np.abs(b))\n",
    "    \n",
    "    def calculate_c(self):\n",
    "        return a**2 + np.sqrt(b) \n",
    "\n",
    "    def calculate_y(self):\n",
    "        return np.exp(x) + 5.8**c\n",
    "                                         \n",
    "    def display_results(self):\n",
    "        print(f'a = {self.a}')\n",
    "        print(f'c = {self.c}')\n",
    "        print(f'y = {self.y}')"
   ]
  },
  {
   "cell_type": "code",
   "execution_count": 47,
   "metadata": {},
   "outputs": [
    {
     "name": "stdout",
     "output_type": "stream",
     "text": [
      "a = 2.4593642644674913\n",
      "c = 7.188648010438863\n",
      "y = 307636.8407512342\n"
     ]
    }
   ],
   "source": [
    "x = 2.8\n",
    "b = 1.3\n",
    "calculator = Calculator(x, b)\n",
    "calculator.display_results()"
   ]
  },
  {
   "cell_type": "code",
   "execution_count": 54,
   "metadata": {},
   "outputs": [
    {
     "name": "stdout",
     "output_type": "stream",
     "text": [
      " y = 27.71419069723594\n",
      " c = 0.8450980400142568\n",
      " a = 729\n"
     ]
    }
   ],
   "source": [
    "#Задание 11\n",
    "x = 2\n",
    "b = 7\n",
    "\n",
    "a = (b + x)**3\n",
    "c = np.log10(np.abs(b))\n",
    "y = c**2 + np.sqrt(np.abs(a))\n",
    "\n",
    "print(f' y = {y}')\n",
    "print(f' c = {c}')\n",
    "print(f' a = {a}')"
   ]
  },
  {
   "cell_type": "code",
   "execution_count": 52,
   "metadata": {},
   "outputs": [],
   "source": [
    "class Calculator:\n",
    "    def __init__(self, x, b):\n",
    "        self.x = x\n",
    "        self.b = b\n",
    "        self.a = self.calculate_a()\n",
    "        self.c = self.calculate_c()\n",
    "        self.y = self.calculate_y()\n",
    "\n",
    "    def calculate_a(self):\n",
    "        return (b + x)**3\n",
    "    \n",
    "    def calculate_c(self):\n",
    "        return np.log10(np.abs(b)) \n",
    "\n",
    "    def calculate_y(self):\n",
    "        return c**2 + np.sqrt(np.abs(a))\n",
    "                                         \n",
    "    def display_results(self):\n",
    "        print(f'a = {self.a}')\n",
    "        print(f'c = {self.c}')\n",
    "        print(f'y = {self.y}')"
   ]
  },
  {
   "cell_type": "code",
   "execution_count": 53,
   "metadata": {},
   "outputs": [
    {
     "name": "stdout",
     "output_type": "stream",
     "text": [
      "a = 729\n",
      "c = 0.8450980400142568\n",
      "y = 27.71419069723594\n"
     ]
    }
   ],
   "source": [
    "x = 2\n",
    "b = 7\n",
    "calculator = Calculator(x, b)\n",
    "calculator.display_results()"
   ]
  },
  {
   "cell_type": "code",
   "execution_count": 55,
   "metadata": {},
   "outputs": [
    {
     "name": "stdout",
     "output_type": "stream",
     "text": [
      " y = 2.4674007026283693\n",
      " x = 7900515.940912548\n",
      " t = 199.16747852267002\n"
     ]
    }
   ],
   "source": [
    "#Задание 12\n",
    "q = 2\n",
    "b = 1.8\n",
    "\n",
    "t = b**3 + np.exp(np.sqrt(y))\n",
    "x = t**3 + b**2  \n",
    "y = np.arctan(np.abs(x))**2 \n",
    "\n",
    "print(f' y = {y}')\n",
    "print(f' x = {x}')\n",
    "print(f' t = {t}')"
   ]
  },
  {
   "cell_type": "code",
   "execution_count": 58,
   "metadata": {},
   "outputs": [],
   "source": [
    "class Calculator:\n",
    "    def __init__(self, q, b):\n",
    "        self.q = q\n",
    "        self.b = b\n",
    "        self.y = self.calculate_y()\n",
    "        self.x = self.calculate_x()\n",
    "        self.t = self.calculate_t()\n",
    "\n",
    "    def calculate_y(self):\n",
    "        return b**3 + np.exp(np.sqrt(y))\n",
    "    \n",
    "    def calculate_x(self):\n",
    "        return t**3 + b**2  \n",
    "\n",
    "    def calculate_t(self):\n",
    "        return np.arctan(np.abs(x))**2\n",
    "                                         \n",
    "    def display_results(self):\n",
    "        print(f' y = {y}')\n",
    "        print(f' x = {x}')\n",
    "        print(f' t = {t}')"
   ]
  },
  {
   "cell_type": "code",
   "execution_count": 59,
   "metadata": {},
   "outputs": [
    {
     "name": "stdout",
     "output_type": "stream",
     "text": [
      " y = 2.4674007026283693\n",
      " x = 7900515.940912548\n",
      " t = 199.16747852267002\n"
     ]
    }
   ],
   "source": [
    "q = 2\n",
    "b = 1.8\n",
    "calculator = Calculator(q, b)\n",
    "calculator.display_results()"
   ]
  },
  {
   "cell_type": "code",
   "execution_count": null,
   "metadata": {},
   "outputs": [
    {
     "name": "stdout",
     "output_type": "stream",
     "text": [
      " y = -70496907.23772809\n",
      " z = 13.418498952653453\n",
      " w = 3.6099999999999994\n"
     ]
    }
   ],
   "source": [
    "#Задание 13\n",
    "x = 1.9\n",
    "a = -0.9\n",
    "\n",
    "w = x**2 * np.sqrt(np.abs(a + x))\n",
    "z = np.cos(a)**2 + w**2     \n",
    "y = a * z**7 + np.sin(w)**2    \n",
    "\n",
    "print(f' y = {y}')\n",
    "print(f' z = {z}')\n",
    "print(f' w = {w}')"
   ]
  },
  {
   "cell_type": "code",
   "execution_count": 61,
   "metadata": {},
   "outputs": [],
   "source": [
    "class Calculator:\n",
    "    def __init__(self, x, a):\n",
    "        self.x = x\n",
    "        self.a = a\n",
    "        self.w = self.calculate_w()\n",
    "        self.z = self.calculate_z()\n",
    "        self.y = self.calculate_y()\n",
    "\n",
    "    def calculate_w(self):\n",
    "        return x**2 * np.sqrt(np.abs(a + x))\n",
    "    \n",
    "    def calculate_z(self):\n",
    "        return np.cos(a)**2 + w**2       \n",
    "\n",
    "    def calculate_y(self):\n",
    "        return a * z**7 + np.sin(w)**2\n",
    "                                         \n",
    "    def display_results(self):\n",
    "     print(f' y = {y}')\n",
    "     print(f' z = {z}')\n",
    "     print(f' w = {w}')\n"
   ]
  },
  {
   "cell_type": "code",
   "execution_count": 62,
   "metadata": {},
   "outputs": [
    {
     "name": "stdout",
     "output_type": "stream",
     "text": [
      " y = -70496907.23772809\n",
      " z = 13.418498952653453\n",
      " w = 3.6099999999999994\n"
     ]
    }
   ],
   "source": [
    "x = 1.9\n",
    "a = -0.9\n",
    "calculator = Calculator(x, a)\n",
    "calculator.display_results()"
   ]
  },
  {
   "cell_type": "code",
   "execution_count": 11,
   "metadata": {},
   "outputs": [
    {
     "name": "stdout",
     "output_type": "stream",
     "text": [
      " y = 0.5857094123748128\n",
      " a = 9.016873072190824\n",
      " t = 75.304\n"
     ]
    }
   ],
   "source": [
    "#Задание 14\n",
    "b = 6\n",
    "k = 3.4\n",
    "\n",
    "t = b**2 + k**3\n",
    "a = np.sqrt(b + t) \n",
    "y = np.sin(a**2 + b**2)**4\n",
    "\n",
    "print(f' y = {y}')\n",
    "print(f' a = {a}')\n",
    "print(f' t = {t}')"
   ]
  },
  {
   "cell_type": "code",
   "execution_count": 12,
   "metadata": {},
   "outputs": [],
   "source": [
    "class Calculator:\n",
    "    def __init__(self, b, k):\n",
    "        self.b = b\n",
    "        self.k = k\n",
    "        self.t = self.calculate_t()\n",
    "        self.a = self.calculate_a()\n",
    "        self.y = self.calculate_y()\n",
    "\n",
    "    def calculate_t(self):\n",
    "        return b**2 + k**3\n",
    "    \n",
    "    def calculate_a(self):\n",
    "        return np.sqrt(b + t)\n",
    "    \n",
    "    def calculate_y(self):\n",
    "        return np.sin(a**2 + b**2)**4\n",
    "                                         \n",
    "    def display_results(self):\n",
    "        print(f't = {self.t}')\n",
    "        print(f'a = {self.a}')\n",
    "        print(f'y = {self.y}')"
   ]
  },
  {
   "cell_type": "code",
   "execution_count": 13,
   "metadata": {},
   "outputs": [
    {
     "name": "stdout",
     "output_type": "stream",
     "text": [
      "t = 75.304\n",
      "a = 9.016873072190824\n",
      "y = 0.5857094123748128\n"
     ]
    }
   ],
   "source": [
    "b = 6\n",
    "k = 3.4\n",
    "calculator = Calculator(b, k)\n",
    "calculator.display_results()"
   ]
  },
  {
   "cell_type": "code",
   "execution_count": 9,
   "metadata": {},
   "outputs": [
    {
     "name": "stdout",
     "output_type": "stream",
     "text": [
      "y = 4.8126460144208565\n",
      "x = 25255.752934641634\n",
      "b = 10.136809247747852\n"
     ]
    }
   ],
   "source": [
    "#Задание 15 \n",
    "a = 5.5\n",
    "p = 4\n",
    "\n",
    "b = np.abs(a) + np.sqrt(a + p**2)\n",
    "x = np.exp(b)\n",
    "y = np.cos(x)**3 + np.abs(a)\n",
    "\n",
    "print(f'y = {y}')\n",
    "print(f'x = {x}')\n",
    "print(f'b = {b}')"
   ]
  },
  {
   "cell_type": "code",
   "execution_count": 10,
   "metadata": {},
   "outputs": [],
   "source": [
    "class Calculator:\n",
    "    def __init__(self, a, p):\n",
    "        self.a = a\n",
    "        self.p = p\n",
    "        self.b = self.calculate_b()\n",
    "        self.x = self.calculate_x()\n",
    "        self.y = self.calculate_y()\n",
    "\n",
    "    def calculate_b(self):\n",
    "        return np.abs(a) + np.sqrt(a + p**2)\n",
    "    \n",
    "    def calculate_x(self):\n",
    "        return np.exp(b)\n",
    "    \n",
    "    def calculate_y(self):\n",
    "        return np.cos(x)**3 + np.abs(a)\n",
    "                                         \n",
    "    def display_results(self):\n",
    "        print(f'b = {self.b}')\n",
    "        print(f'x = {self.x}')\n",
    "        print(f'y = {self.y}')"
   ]
  },
  {
   "cell_type": "code",
   "execution_count": 11,
   "metadata": {},
   "outputs": [
    {
     "name": "stdout",
     "output_type": "stream",
     "text": [
      "b = 10.136809247747852\n",
      "x = 25255.752934641634\n",
      "y = 4.8126460144208565\n"
     ]
    }
   ],
   "source": [
    "a = 5.5\n",
    "p = 4\n",
    "calculator = Calculator(a, p)\n",
    "calculator.display_results()"
   ]
  },
  {
   "cell_type": "code",
   "execution_count": 12,
   "metadata": {},
   "outputs": [
    {
     "name": "stdout",
     "output_type": "stream",
     "text": [
      "y = 34.87776087882461\n",
      "a = 4.618576424646422\n",
      "b = 89.52\n"
     ]
    }
   ],
   "source": [
    "#Задание 16\n",
    "x = 8.52\n",
    "c = 9\n",
    "\n",
    "b = x + c**2  \n",
    "a = (abs(b) + c)**(1/3)\n",
    "y = np.cos(b)**2 + b * np.cos(a**2)**4 \n",
    "\n",
    "print(f'y = {y}')\n",
    "print(f'a = {a}')\n",
    "print(f'b = {b}')"
   ]
  },
  {
   "cell_type": "code",
   "execution_count": 15,
   "metadata": {},
   "outputs": [],
   "source": [
    "class Calculator:\n",
    "    def __init__(self, a, p):\n",
    "        self.x = x\n",
    "        self.c = c\n",
    "        self.b = self.calculate_b()\n",
    "        self.a = self.calculate_a()\n",
    "        self.y = self.calculate_y()\n",
    "\n",
    "    def calculate_b(self):\n",
    "        return x + c**2\n",
    "    \n",
    "    def calculate_a(self):\n",
    "        return (abs(b) + c)**(1/3) \n",
    "    \n",
    "    def calculate_y(self):\n",
    "        return np.cos(b)**2 + b * np.cos(a**2)**4\n",
    "                                         \n",
    "    def display_results(self):\n",
    "        print(f'b = {self.b}')\n",
    "        print(f'a = {self.a}')\n",
    "        print(f'y = {self.y}')"
   ]
  },
  {
   "cell_type": "code",
   "execution_count": 16,
   "metadata": {},
   "outputs": [
    {
     "name": "stdout",
     "output_type": "stream",
     "text": [
      "b = 89.52\n",
      "a = 4.618576424646422\n",
      "y = 34.87776087882461\n"
     ]
    }
   ],
   "source": [
    "x = 8.52\n",
    "c = 9\n",
    "calculator = Calculator(x, c)\n",
    "calculator.display_results()"
   ]
  },
  {
   "cell_type": "code",
   "execution_count": 17,
   "metadata": {},
   "outputs": [
    {
     "name": "stdout",
     "output_type": "stream",
     "text": [
      "y = -0.020014991921930222\n",
      "a = 1.845757490560675\n",
      "b = 0.002093747942410272\n"
     ]
    }
   ],
   "source": [
    "#Задание 17\n",
    "x = 0.9\n",
    "t = 2\n",
    "\n",
    "b = np.log10(np.abs(x))**2\n",
    "a = t * x + np.abs(np.sqrt(b))\n",
    "y = np.cos(a + b**3)**3\n",
    "\n",
    "print(f'y = {y}')\n",
    "print(f'a = {a}')\n",
    "print(f'b = {b}')"
   ]
  },
  {
   "cell_type": "code",
   "execution_count": 18,
   "metadata": {},
   "outputs": [],
   "source": [
    "class Calculator:\n",
    "    def __init__(self, a, p):\n",
    "        self.x = x\n",
    "        self.t = t\n",
    "        self.b = self.calculate_b()\n",
    "        self.a = self.calculate_a()\n",
    "        self.y = self.calculate_y()\n",
    "\n",
    "    def calculate_b(self):\n",
    "        return np.log10(np.abs(x))**2\n",
    "    \n",
    "    def calculate_a(self):\n",
    "        return t * x + np.abs(np.sqrt(b))\n",
    "    \n",
    "    def calculate_y(self):\n",
    "        return np.cos(a + b**3)**3\n",
    "                                         \n",
    "    def display_results(self):\n",
    "        print(f'b = {self.b}')\n",
    "        print(f'a = {self.a}')\n",
    "        print(f'y = {self.y}')"
   ]
  },
  {
   "cell_type": "code",
   "execution_count": 19,
   "metadata": {},
   "outputs": [
    {
     "name": "stdout",
     "output_type": "stream",
     "text": [
      "b = 0.002093747942410272\n",
      "a = 1.845757490560675\n",
      "y = -0.020014991921930222\n"
     ]
    }
   ],
   "source": [
    "x = 0.9\n",
    "t = 2\n",
    "calculator = Calculator(x, t)\n",
    "calculator.display_results()"
   ]
  },
  {
   "cell_type": "code",
   "execution_count": 20,
   "metadata": {},
   "outputs": [
    {
     "name": "stdout",
     "output_type": "stream",
     "text": [
      "y = -163.88903751522977\n",
      "a = 5.459530772200886\n",
      "c = 90.98715531819909\n"
     ]
    }
   ],
   "source": [
    "#Задание 18\n",
    "x = -8\n",
    "b = 9.5\n",
    "\n",
    "a = np.sqrt(np.abs(x) + np.exp(np.sqrt(b)))\n",
    "c = np.log10(a) + b**2\n",
    "y = a**3 / np.cos(c)\n",
    "\n",
    "print(f'y = {y}')\n",
    "print(f'a = {a}')\n",
    "print(f'c = {c}')"
   ]
  },
  {
   "cell_type": "code",
   "execution_count": 24,
   "metadata": {},
   "outputs": [],
   "source": [
    "class Calculator:\n",
    "    def __init__(self, x, b):\n",
    "        self.x = x\n",
    "        self.b = b\n",
    "        self.a = self.calculate_a()\n",
    "        self.c = self.calculate_c()\n",
    "        self.y = self.calculate_y()\n",
    "\n",
    "    def calculate_a(self):\n",
    "        return np.sqrt(np.abs(x) + np.exp(np.sqrt(b)))\n",
    "    \n",
    "    def calculate_c(self):\n",
    "        return np.log10(a) + b**2\n",
    "    \n",
    "    def calculate_y(self):\n",
    "        return a**3 / np.cos(c)\n",
    "                                         \n",
    "    def display_results(self):\n",
    "        print(f'a = {self.a}')\n",
    "        print(f'c = {self.c}')\n",
    "        print(f'y = {self.y}')"
   ]
  },
  {
   "cell_type": "code",
   "execution_count": 25,
   "metadata": {},
   "outputs": [
    {
     "name": "stdout",
     "output_type": "stream",
     "text": [
      "a = 5.459530772200886\n",
      "c = 90.98715531819909\n",
      "y = -163.88903751522977\n"
     ]
    }
   ],
   "source": [
    "x = -8\n",
    "b = 9.5\n",
    "calculator = Calculator(x, b)\n",
    "calculator.display_results()"
   ]
  },
  {
   "cell_type": "code",
   "execution_count": 26,
   "metadata": {},
   "outputs": [
    {
     "name": "stdout",
     "output_type": "stream",
     "text": [
      "y = 2967108.8075699992\n",
      "p = 14.0\n",
      "t = 19.7\n"
     ]
    }
   ],
   "source": [
    "#Задание 19\n",
    "x = 4\n",
    "a = 3.7\n",
    "\n",
    "p = np.power(x, 2) - np.sqrt(np.abs(x))\n",
    "t = np.power(x, 2) + a\n",
    "y = np.power(x, np.float_power(2.0, 1.0)) + np.power(t, 5)\n",
    "\n",
    "print(f'y = {y}')\n",
    "print(f'p = {p}')\n",
    "print(f't = {t}')"
   ]
  },
  {
   "cell_type": "code",
   "execution_count": 27,
   "metadata": {},
   "outputs": [],
   "source": [
    "class Calculator:\n",
    "    def __init__(self, x, a):\n",
    "        self.x = x\n",
    "        self.a = a\n",
    "        self.p = self.calculate_p()\n",
    "        self.t = self.calculate_t()\n",
    "        self.y = self.calculate_y()\n",
    "\n",
    "    def calculate_p(self):\n",
    "        return np.power(x, 2) - np.sqrt(np.abs(x))\n",
    "    \n",
    "    def calculate_t(self):\n",
    "        return np.power(x, 2) + a\n",
    "    \n",
    "    def calculate_y(self):\n",
    "        return np.power(x, np.float_power(2.0, 1.0)) + np.power(t, 5)\n",
    "                                         \n",
    "    def display_results(self):\n",
    "        print(f'p = {self.p}')\n",
    "        print(f't = {self.t}')\n",
    "        print(f'y = {self.y}')"
   ]
  },
  {
   "cell_type": "code",
   "execution_count": 28,
   "metadata": {},
   "outputs": [
    {
     "name": "stdout",
     "output_type": "stream",
     "text": [
      "p = 14.0\n",
      "t = 19.7\n",
      "y = 2967108.8075699992\n"
     ]
    }
   ],
   "source": [
    "x = 4\n",
    "a = 3.7\n",
    "calculator = Calculator(x, a)\n",
    "calculator.display_results()"
   ]
  },
  {
   "cell_type": "code",
   "execution_count": 4,
   "metadata": {},
   "outputs": [
    {
     "name": "stdout",
     "output_type": "stream",
     "text": [
      "y = -0.1833069171609586\n",
      "a = 0.3364722366212129\n",
      "b = 4.453959947967774\n"
     ]
    }
   ],
   "source": [
    "#Задание 20\n",
    "x = 1.4\n",
    "p = 1.6  \n",
    "\n",
    "y = np.sin(np.power(x, 3)) + np.sin(p * np.cos(np.power(x, 2)))\n",
    "a = np.log(np.abs(x))\n",
    "b = np.power(x, 4) + np.log10(np.power(p, 3))\n",
    "\n",
    "print(f'y = {y}')\n",
    "print(f'a = {a}')\n",
    "print(f'b = {b}')"
   ]
  },
  {
   "cell_type": "code",
   "execution_count": 5,
   "metadata": {},
   "outputs": [],
   "source": [
    "class Calculator:\n",
    "    def __init__(self, x, p):\n",
    "        self.x = x\n",
    "        self.p = p\n",
    "        self.y = self.calculate_y()\n",
    "        self.a = self.calculate_a()\n",
    "        self.b = self.calculate_b()\n",
    "\n",
    "    def calculate_y(self):\n",
    "        return np.sin(np.power(x, 3)) + np.sin(p * np.cos(np.power(x, 2)))\n",
    "    \n",
    "    def calculate_a(self):\n",
    "        return np.log(np.abs(x))\n",
    "    \n",
    "    def calculate_b(self):\n",
    "        return np.power(x, 4) + np.log10(np.power(p, 3))\n",
    "                                         \n",
    "    def display_results(self):\n",
    "        print(f'y = {self.y}')\n",
    "        print(f'a = {self.a}')\n",
    "        print(f'b = {self.b}')"
   ]
  },
  {
   "cell_type": "code",
   "execution_count": 6,
   "metadata": {},
   "outputs": [
    {
     "name": "stdout",
     "output_type": "stream",
     "text": [
      "y = -0.1833069171609586\n",
      "a = 0.3364722366212129\n",
      "b = 4.453959947967774\n"
     ]
    }
   ],
   "source": [
    "x = 1.4\n",
    "p = 1.6  \n",
    "calculator = Calculator(x, p)\n",
    "calculator.display_results()"
   ]
  },
  {
   "cell_type": "code",
   "execution_count": 32,
   "metadata": {},
   "outputs": [
    {
     "name": "stdout",
     "output_type": "stream",
     "text": [
      "x = 30.97685624027902\n",
      "a = 0.7161500870185167\n",
      "y = -0.5452112215298813\n"
     ]
    }
   ],
   "source": [
    "#Задание 21 \n",
    "n = 8.1\n",
    "b = 1.6\n",
    "\n",
    "x = np.power(n, b) + np.power(b, 2)\n",
    "a = np.sin(np.power(x, 2) + np.power(b, 2))\n",
    "y = np.log(a) / np.log10(np.power(b, 3))\n",
    "\n",
    "print(f'x = {x}')\n",
    "print(f'a = {a}')\n",
    "print(f'y = {y}')"
   ]
  },
  {
   "cell_type": "code",
   "execution_count": 33,
   "metadata": {},
   "outputs": [],
   "source": [
    "class Calculator:\n",
    "    def __init__(self, n, b):\n",
    "        self.n = n\n",
    "        self.b = b\n",
    "        self.x = self.calculate_x()\n",
    "        self.a = self.calculate_a()\n",
    "        self.y = self.calculate_y()\n",
    "\n",
    "    def calculate_x(self):\n",
    "        return np.power(n, b) + np.power(b, 2)\n",
    "    \n",
    "    def calculate_a(self):\n",
    "        return np.sin(np.power(x, 2) + np.power(b, 2))\n",
    "    \n",
    "    def calculate_y(self):\n",
    "        return np.log(a) / np.log10(np.power(b, 3))\n",
    "                                         \n",
    "    def display_results(self):\n",
    "        print(f'x = {self.x}')\n",
    "        print(f'a = {self.a}')\n",
    "        print(f'y = {self.y}')"
   ]
  },
  {
   "cell_type": "code",
   "execution_count": 34,
   "metadata": {},
   "outputs": [
    {
     "name": "stdout",
     "output_type": "stream",
     "text": [
      "x = 30.97685624027902\n",
      "a = 0.7161500870185167\n",
      "y = -0.5452112215298813\n"
     ]
    }
   ],
   "source": [
    "n = 8.1\n",
    "b = 1.6\n",
    "calculator = Calculator(n, b)\n",
    "calculator.display_results()"
   ]
  },
  {
   "cell_type": "code",
   "execution_count": 14,
   "metadata": {},
   "outputs": [
    {
     "name": "stdout",
     "output_type": "stream",
     "text": [
      "t = 0.16027234822266279\n",
      "x = 16.160272348222662\n",
      "y = 6610.500688348222\n",
      "a = 1.2084486756423778\n"
     ]
    }
   ],
   "source": [
    "#Задание 22\n",
    "m = 5.7\n",
    "p = 4\n",
    "\n",
    "t = np.sin(m**3)\n",
    "x = p**2 + t\n",
    "y = np.power(a, 4) + t\n",
    "a = np.log10(np.abs(x))\n",
    "\n",
    "print(f't = {t}')\n",
    "print(f'x = {x}')\n",
    "print(f'y = {y}')\n",
    "print(f'a = {a}')"
   ]
  },
  {
   "cell_type": "code",
   "execution_count": 16,
   "metadata": {},
   "outputs": [],
   "source": [
    "class Calculator:\n",
    "    def __init__(self, m, p):\n",
    "        self.m = m\n",
    "        self.p = p\n",
    "        self.t = self.calculate_t()\n",
    "        self.x = self.calculate_x()\n",
    "        self.y = self.calculate_y()\n",
    "        self.a = self.calculate_a()\n",
    "\n",
    "    def calculate_t(self):\n",
    "        return np.sin(m**3)\n",
    "    \n",
    "    def calculate_x(self):\n",
    "        return p**2 + t\n",
    "    \n",
    "    def calculate_y(self):\n",
    "        return np.power(a, 4) + t\n",
    "    \n",
    "    def calculate_a(self):\n",
    "        return np.log10(np.abs(x))\n",
    "                                         \n",
    "    def display_results(self):\n",
    "        print(f't = {self.t}')\n",
    "        print(f'x = {self.x}')\n",
    "        print(f'y = {self.y}')\n",
    "        print(f'a = {self.a}')"
   ]
  },
  {
   "cell_type": "code",
   "execution_count": 17,
   "metadata": {},
   "outputs": [
    {
     "name": "stdout",
     "output_type": "stream",
     "text": [
      "t = 0.16027234822266279\n",
      "x = 16.160272348222662\n",
      "y = 2.292889218319565\n",
      "a = 1.2084486756423778\n"
     ]
    }
   ],
   "source": [
    "m = 5.7\n",
    "p = 4\n",
    "calculator = Calculator(m, p)\n",
    "calculator.display_results()"
   ]
  },
  {
   "cell_type": "code",
   "execution_count": 45,
   "metadata": {},
   "outputs": [
    {
     "name": "stdout",
     "output_type": "stream",
     "text": [
      "y = 0.7328836920419151\n",
      "a = 1.1708369592916874\n",
      "t = 2.7791728866442673\n"
     ]
    }
   ],
   "source": [
    "#Задание 23 \n",
    "b = 0.3\n",
    "x = 5.3\n",
    "\n",
    "t = x * b**2 + np.sqrt(x)\n",
    "a = np.log10(np.abs(t * x + b**2))\n",
    "y = np.log(a + b) + a**2 / (a + t)\n",
    "\n",
    "print(f'y = {y}')\n",
    "print(f'a = {a}')\n",
    "print(f't = {t}')"
   ]
  },
  {
   "cell_type": "code",
   "execution_count": 46,
   "metadata": {},
   "outputs": [],
   "source": [
    "class Calculator:\n",
    "    def __init__(self, b, x):\n",
    "        self.b = b\n",
    "        self.x = x\n",
    "        self.t = self.calculate_t()\n",
    "        self.a = self.calculate_a()\n",
    "        self.y = self.calculate_y()\n",
    "\n",
    "    def calculate_t(self):\n",
    "        return x * b**2 + np.sqrt(x)\n",
    "    \n",
    "    def calculate_a(self):\n",
    "        return np.log10(np.abs(t * x + b**2))\n",
    "    \n",
    "    def calculate_y(self):\n",
    "        return np.log(a + b) + a**2 / (a + t)\n",
    "                                         \n",
    "    def display_results(self):\n",
    "        print(f't = {self.t}')\n",
    "        print(f'a = {self.a}')\n",
    "        print(f'y = {self.y}')"
   ]
  },
  {
   "cell_type": "code",
   "execution_count": 47,
   "metadata": {},
   "outputs": [
    {
     "name": "stdout",
     "output_type": "stream",
     "text": [
      "t = 2.7791728866442673\n",
      "a = 1.1708369592916874\n",
      "y = 0.7328836920419151\n"
     ]
    }
   ],
   "source": [
    "b = 0.3\n",
    "x = 5.3\n",
    "calculator = Calculator(b, x)\n",
    "calculator.display_results()"
   ]
  },
  {
   "cell_type": "code",
   "execution_count": 48,
   "metadata": {},
   "outputs": [
    {
     "name": "stdout",
     "output_type": "stream",
     "text": [
      "y = -0.6178301827306288\n",
      "x = 331263.2639058077\n",
      "a = 69.19200000000001\n"
     ]
    }
   ],
   "source": [
    "#Задание 24 \n",
    "t = 6.2\n",
    "b = 1.8\n",
    "\n",
    "a = t**2 * b\n",
    "x = a**3 + np.sqrt(t) + b\n",
    "y = np.cos(x**5) - b * (np.sin(x))**2\n",
    "\n",
    "print(f'y = {y}')\n",
    "print(f'x = {x}')\n",
    "print(f'a = {a}')"
   ]
  },
  {
   "cell_type": "code",
   "execution_count": 49,
   "metadata": {},
   "outputs": [],
   "source": [
    "class Calculator:\n",
    "    def __init__(self, t, b):\n",
    "        self.t = t\n",
    "        self.b = b\n",
    "        self.a = self.calculate_a()\n",
    "        self.x = self.calculate_x()\n",
    "        self.y = self.calculate_y()\n",
    "\n",
    "    def calculate_a(self):\n",
    "        return  t**2 * b\n",
    "    \n",
    "    def calculate_x(self):\n",
    "        return a**3 + np.sqrt(t) + b\n",
    "    \n",
    "    def calculate_y(self):\n",
    "        return np.cos(x**5) - b * (np.sin(x))**2\n",
    "                                         \n",
    "    def display_results(self):\n",
    "        print(f'a = {self.a}')\n",
    "        print(f'x = {self.x}')\n",
    "        print(f'y = {self.y}')"
   ]
  },
  {
   "cell_type": "code",
   "execution_count": 50,
   "metadata": {},
   "outputs": [
    {
     "name": "stdout",
     "output_type": "stream",
     "text": [
      "a = 69.19200000000001\n",
      "x = 331263.2639058077\n",
      "y = -0.6178301827306288\n"
     ]
    }
   ],
   "source": [
    "t = 6.2\n",
    "b = 1.8\n",
    "calculator = Calculator(t, b)\n",
    "calculator.display_results()"
   ]
  },
  {
   "cell_type": "code",
   "execution_count": 51,
   "metadata": {},
   "outputs": [
    {
     "name": "stdout",
     "output_type": "stream",
     "text": [
      "t = 25.576\n",
      "x = 8.540000436840169\n",
      "y = 0.9521567097488965\n"
     ]
    }
   ],
   "source": [
    "#Задание 25\n",
    "a = 2\n",
    "p = 2.6\n",
    "\n",
    "t = np.power(p, 3) + np.power(a, 3)\n",
    "x = np.exp(np.sqrt(p + a))\n",
    "y = np.power(x, 3) / np.power(t, 2)\n",
    "\n",
    "\n",
    "print(f't = {t}')\n",
    "print(f'x = {x}')\n",
    "print(f'y = {y}')"
   ]
  },
  {
   "cell_type": "code",
   "execution_count": 52,
   "metadata": {},
   "outputs": [],
   "source": [
    "class Calculator:\n",
    "    def __init__(self, a, p):\n",
    "        self.a = a\n",
    "        self.p = p\n",
    "        self.t = self.calculate_t()\n",
    "        self.x = self.calculate_x()\n",
    "        self.y = self.calculate_y()\n",
    "\n",
    "    def calculate_t(self):\n",
    "        return  np.power(p, 3) + np.power(a, 3)\n",
    "    \n",
    "    def calculate_x(self):\n",
    "        return np.exp(np.sqrt(p + a))\n",
    "    \n",
    "    def calculate_y(self):\n",
    "        return np.power(x, 3) / np.power(t, 2)\n",
    "                                         \n",
    "    def display_results(self):\n",
    "        print(f't = {self.t}')\n",
    "        print(f'x = {self.x}')\n",
    "        print(f'y = {self.y}')"
   ]
  },
  {
   "cell_type": "code",
   "execution_count": null,
   "metadata": {},
   "outputs": [
    {
     "name": "stdout",
     "output_type": "stream",
     "text": [
      "t = 25.576\n",
      "x = 8.540000436840169\n",
      "y = 0.9521567097488965\n"
     ]
    }
   ],
   "source": [
    "a = 2\n",
    "p = 2.6\n",
    "calculator = Calculator(a, p)\n",
    "calculator.display_results()"
   ]
  },
  {
   "cell_type": "code",
   "execution_count": 54,
   "metadata": {},
   "outputs": [
    {
     "name": "stdout",
     "output_type": "stream",
     "text": [
      "y = 1.2602282988823073\n",
      "x = 0.16859359172344107\n",
      "a = 3.478505426185217\n"
     ]
    }
   ],
   "source": [
    "#Задание 26\n",
    "b = 8.1\n",
    "t = 2\n",
    "\n",
    "a = np.sqrt(b + t**2)\n",
    "x = np.cos(b)**2 + np.sin(a)**2\n",
    "y = x**2 + 3 * np.sqrt(np.abs(x))\n",
    "\n",
    "print(f'y = {y}')\n",
    "print(f'x = {x}')\n",
    "print(f'a = {a}')"
   ]
  },
  {
   "cell_type": "code",
   "execution_count": 55,
   "metadata": {},
   "outputs": [],
   "source": [
    "class Calculator:\n",
    "    def __init__(self, b, t):\n",
    "        self.b = b\n",
    "        self.t = t\n",
    "        self.a = self.calculate_a()\n",
    "        self.x = self.calculate_x()\n",
    "        self.y = self.calculate_y()\n",
    "\n",
    "    def calculate_a(self):\n",
    "        return  np.sqrt(b + t**2)\n",
    "    \n",
    "    def calculate_x(self):\n",
    "        return np.cos(b)**2 + np.sin(a)**2\n",
    "    \n",
    "    def calculate_y(self):\n",
    "        return x**2 + 3 * np.sqrt(np.abs(x))\n",
    "                                         \n",
    "    def display_results(self):\n",
    "        print(f'a = {self.a}')\n",
    "        print(f'x = {self.x}')\n",
    "        print(f'y = {self.y}')"
   ]
  },
  {
   "cell_type": "code",
   "execution_count": 56,
   "metadata": {},
   "outputs": [
    {
     "name": "stdout",
     "output_type": "stream",
     "text": [
      "a = 3.478505426185217\n",
      "x = 0.16859359172344107\n",
      "y = 1.2602282988823073\n"
     ]
    }
   ],
   "source": [
    "b = 8.1\n",
    "t = 2\n",
    "calculator = Calculator(b, t)\n",
    "calculator.display_results()"
   ]
  },
  {
   "cell_type": "code",
   "execution_count": 57,
   "metadata": {},
   "outputs": [
    {
     "name": "stdout",
     "output_type": "stream",
     "text": [
      "x = 5777.948086714537\n",
      "y = -1.2533540398283582\n",
      "c = 17.717797887081346\n"
     ]
    }
   ],
   "source": [
    "#Задание 27\n",
    "t = -3\n",
    "a = 76\n",
    "\n",
    "x = np.log(np.abs(1/np.tan(t))) + a**2  \n",
    "y = np.tan(4 * x) + np.sin(x**2)      \n",
    "c = t**2 + np.sqrt(a)\n",
    "                   \n",
    "print(f'x = {x}')\n",
    "print(f'y = {y}')\n",
    "print(f'c = {c}')"
   ]
  },
  {
   "cell_type": "code",
   "execution_count": 58,
   "metadata": {},
   "outputs": [],
   "source": [
    "class Calculator:\n",
    "    def __init__(self, t, a):\n",
    "        self.t = t\n",
    "        self.a = a\n",
    "        self.x = self.calculate_x()\n",
    "        self.y = self.calculate_y()\n",
    "        self.c = self.calculate_c()\n",
    "\n",
    "    def calculate_x(self):\n",
    "        return  np.log(np.abs(1/np.tan(t))) + a**2  \n",
    "    \n",
    "    def calculate_y(self):\n",
    "        return np.tan(4 * x) + np.sin(x**2)   \n",
    "    \n",
    "    def calculate_c(self):\n",
    "        return t**2 + np.sqrt(a)\n",
    "                                         \n",
    "    def display_results(self):\n",
    "        print(f'x = {self.x}')\n",
    "        print(f'y = {self.y}')\n",
    "        print(f'c = {self.c}')"
   ]
  },
  {
   "cell_type": "code",
   "execution_count": 59,
   "metadata": {},
   "outputs": [
    {
     "name": "stdout",
     "output_type": "stream",
     "text": [
      "x = 5777.948086714537\n",
      "y = -1.2533540398283582\n",
      "c = 17.717797887081346\n"
     ]
    }
   ],
   "source": [
    "t = -3\n",
    "a = 76\n",
    "calculator = Calculator(t, a)\n",
    "calculator.display_results()"
   ]
  },
  {
   "cell_type": "code",
   "execution_count": 60,
   "metadata": {},
   "outputs": [
    {
     "name": "stdout",
     "output_type": "stream",
     "text": [
      "t = 4.369864858694874\n",
      "a = 6597.150727419978\n",
      "y = 0.26015739094049645\n"
     ]
    }
   ],
   "source": [
    "#Задание 28\n",
    "b = 2.19\n",
    "k = 1.7\n",
    "\n",
    "t = np.power(k, 2) + np.sqrt(b)\n",
    "a = b + np.power(t, 3) * np.exp(t)\n",
    "y = np.power(np.cos(np.power(a, 3) + b), 4)\n",
    "\n",
    "print(f't = {t}')\n",
    "print(f'a = {a}')\n",
    "print(f'y = {y}')"
   ]
  },
  {
   "cell_type": "code",
   "execution_count": 61,
   "metadata": {},
   "outputs": [],
   "source": [
    "class Calculator:\n",
    "    def __init__(self, b, k):\n",
    "        self.b = b\n",
    "        self.k = k\n",
    "        self.t = self.calculate_t()\n",
    "        self.a = self.calculate_a()\n",
    "        self.y = self.calculate_y()\n",
    "\n",
    "    def calculate_t(self):\n",
    "        return  np.log(np.abs(1/np.tan(t))) + a**2  \n",
    "    \n",
    "    def calculate_a(self):\n",
    "        return np.tan(4 * x) + np.sin(x**2)   \n",
    "    \n",
    "    def calculate_y(self):\n",
    "        return t**2 + np.sqrt(a)\n",
    "                                         \n",
    "    def display_results(self):\n",
    "        print(f't = {self.t}')\n",
    "        print(f'a = {self.a}')\n",
    "        print(f'y = {self.y}')"
   ]
  },
  {
   "cell_type": "code",
   "execution_count": 62,
   "metadata": {},
   "outputs": [
    {
     "name": "stdout",
     "output_type": "stream",
     "text": [
      "t = 43522396.68909956\n",
      "a = -1.2533540398283582\n",
      "y = 100.31856497608901\n"
     ]
    }
   ],
   "source": [
    "b = 2.19\n",
    "k = 1.7\n",
    "calculator = Calculator(b, k)\n",
    "calculator.display_results()"
   ]
  },
  {
   "cell_type": "code",
   "execution_count": 63,
   "metadata": {},
   "outputs": [
    {
     "name": "stdout",
     "output_type": "stream",
     "text": [
      "x = 162756.86506313924\n",
      "p = 13916851.260953845\n",
      "y = 163121.40122985718\n"
     ]
    }
   ],
   "source": [
    "#Задание 29\n",
    "a = 6\n",
    "b = 4.3\n",
    "\n",
    "x = np.exp(2 * a) + np.sqrt(b)\n",
    "p = x * (a + b**3)\n",
    "y = np.log10(np.abs(p))**3 + x\n",
    "\n",
    "print(f'x = {x}')\n",
    "print(f'p = {p}')\n",
    "print(f'y = {y}')"
   ]
  },
  {
   "cell_type": "code",
   "execution_count": 64,
   "metadata": {},
   "outputs": [],
   "source": [
    "class Calculator:\n",
    "    def __init__(self, a, b):\n",
    "        self.a = a\n",
    "        self.b = b\n",
    "        self.x = self.calculate_x()\n",
    "        self.p = self.calculate_p()\n",
    "        self.y = self.calculate_y()\n",
    "\n",
    "    def calculate_x(self):\n",
    "        return  np.exp(2 * a) + np.sqrt(b) \n",
    "    \n",
    "    def calculate_p(self):\n",
    "        return x * (a + b**3)  \n",
    "    \n",
    "    def calculate_y(self):\n",
    "        return np.log10(np.abs(p))**3 + x\n",
    "\n",
    "                                         \n",
    "    def display_results(self):\n",
    "        print(f'x = {self.x}')\n",
    "        print(f'p = {self.p}')\n",
    "        print(f'y = {self.y}')"
   ]
  },
  {
   "cell_type": "code",
   "execution_count": 65,
   "metadata": {},
   "outputs": [
    {
     "name": "stdout",
     "output_type": "stream",
     "text": [
      "x = 162756.86506313924\n",
      "p = 13916851.260953845\n",
      "y = 163121.40122985718\n"
     ]
    }
   ],
   "source": [
    "a = 6\n",
    "b = 4.3\n",
    "calculator = Calculator(a, b)\n",
    "calculator.display_results()"
   ]
  },
  {
   "cell_type": "code",
   "execution_count": null,
   "metadata": {},
   "outputs": [
    {
     "name": "stdout",
     "output_type": "stream",
     "text": [
      "y = 49941.212439603034\n",
      "x = 81.14387222705113\n",
      "a = 77.08800000000001\n"
     ]
    }
   ],
   "source": [
    "#Задание 30\n",
    "t = 3\n",
    "b = 4.2\n",
    "\n",
    "a = t + b**3\n",
    "x = (t**2) * np.sqrt(np.abs(a + b))\n",
    "y = (np.log(np.abs(x) + a**2))**5\n",
    "\n",
    "print(f'y = {y}')\n",
    "print(f'x = {x}')\n",
    "print(f'a = {a}')"
   ]
  },
  {
   "cell_type": "code",
   "execution_count": 67,
   "metadata": {},
   "outputs": [],
   "source": [
    "class Calculator:\n",
    "    def __init__(self, t, b):\n",
    "        self.t = t\n",
    "        self.b = b\n",
    "        self.a = self.calculate_a()\n",
    "        self.x = self.calculate_x()\n",
    "        self.y = self.calculate_y()\n",
    "\n",
    "    def calculate_a(self):\n",
    "        return  t + b**3 \n",
    "    \n",
    "    def calculate_x(self):\n",
    "        return (t**2) * np.sqrt(np.abs(a + b))\n",
    "    \n",
    "    def calculate_y(self):\n",
    "        return (np.log(np.abs(x) + a**2))**5\n",
    "\n",
    "                                         \n",
    "    def display_results(self):\n",
    "        print(f'a = {self.a}')\n",
    "        print(f'x = {self.x}')\n",
    "        print(f'y = {self.y}')"
   ]
  },
  {
   "cell_type": "code",
   "execution_count": 68,
   "metadata": {},
   "outputs": [
    {
     "name": "stdout",
     "output_type": "stream",
     "text": [
      "a = 77.08800000000001\n",
      "x = 81.14387222705113\n",
      "y = 49941.212439603034\n"
     ]
    }
   ],
   "source": [
    "t = 3\n",
    "b = 4.2\n",
    "calculator = Calculator(t, b)\n",
    "calculator.display_results()"
   ]
  }
 ],
 "metadata": {
  "kernelspec": {
   "display_name": "Python 3",
   "language": "python",
   "name": "python3"
  },
  "language_info": {
   "codemirror_mode": {
    "name": "ipython",
    "version": 3
   },
   "file_extension": ".py",
   "mimetype": "text/x-python",
   "name": "python",
   "nbconvert_exporter": "python",
   "pygments_lexer": "ipython3",
   "version": "3.13.1"
  }
 },
 "nbformat": 4,
 "nbformat_minor": 2
}
